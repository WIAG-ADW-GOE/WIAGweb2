{
 "cells": [
  {
   "cell_type": "markdown",
   "metadata": {},
   "source": [
    "# WIAG: Import von tabellarischen Daten\n",
    "Anwendungsfall 2024-01-24: Spanische Bischöfe"
   ]
  },
  {
   "cell_type": "code",
   "execution_count": null,
   "metadata": {},
   "outputs": [],
   "source": [
    "using CSV, DataFrames, Dates"
   ]
  },
  {
   "cell_type": "markdown",
   "metadata": {},
   "source": [
    "## Funktionsdefinitionen"
   ]
  },
  {
   "cell_type": "markdown",
   "metadata": {},
   "source": [
    "Die Datei \"Csv2WIAG_lib.jl\" muss sich im gleichen Verzeichnis befinden wie dieses Notebook."
   ]
  },
  {
   "cell_type": "code",
   "execution_count": null,
   "metadata": {},
   "outputs": [],
   "source": [
    "# load this only once\n",
    "if !isdefined(Main, :csv2wiag_loaded)\n",
    "    lib_file = joinpath(\".\", \"Csv2WIAG_lib.jl\")\n",
    "    include(lib_file)\n",
    "    csv2wiag_loaded = true\n",
    "else\n",
    "    \"Csv2WIAG_lib ist schon ausgewertet.\"\n",
    "end"
   ]
  },
  {
   "cell_type": "markdown",
   "metadata": {},
   "source": [
    "## Parameter\n",
    "**Dieser Abschnitt muss vor jedem Import eines neuen Themas bearbeitet werden.**"
   ]
  },
  {
   "cell_type": "markdown",
   "metadata": {},
   "source": [
    "ID des Corpus in der Datenbank (= `corpus.corpus_id`)"
   ]
  },
  {
   "cell_type": "code",
   "execution_count": null,
   "metadata": {},
   "outputs": [],
   "source": [
    "corpus_id = \"ibe\"\n",
    "corpus_id_diocese = \"dioc\""
   ]
  },
  {
   "cell_type": "markdown",
   "metadata": {},
   "source": [
    "ID des Users, auf den die Änderungen eingetragen werden (`item.created_by` und `item.changed_by`).\n",
    "\n",
    "| User | ID  |\n",
    "| ---  | --- |\n",
    "| Bärbel Kröger, bkroege  | 22 |\n",
    "| Christian Popp, cpopp   | 45 |\n",
    "| Georg Hertkorn, ghertko | 23 |"
   ]
  },
  {
   "cell_type": "code",
   "execution_count": null,
   "metadata": {},
   "outputs": [],
   "source": [
    "user_id = 23;"
   ]
  },
  {
   "cell_type": "markdown",
   "metadata": {},
   "source": [
    "Statuswert, der beim Import gesetzt wird."
   ]
  },
  {
   "cell_type": "code",
   "execution_count": null,
   "metadata": {},
   "outputs": [],
   "source": [
    "online_status = \"online\"; import_status = \"importiert\"; default_status = import_status"
   ]
  },
  {
   "cell_type": "markdown",
   "metadata": {},
   "source": [
    "**Falls keine Diözesen einzulesen sind, kann dieser Parameter und damit die nächsten beiden Schritte übersprungen werden**. Für die spanischen Bischöfe (2024) werden auch neue Diözesen eingelesen.\n",
    "\n",
    "Erste beim Import verwendete ID für die neuen Diözesen in der Tabelle `item` und `diocese`. Der Wert wird am besten mit einem sinnvollen Abstand zum letzten vorhandenen Eintrag in `item` gewählt. So muss der Parameter nicht verändert werden, wenn in der Zeit bis zum Einlesen der Daten in die Datenbank noch Datensätze über die Redaktionsumgebung der Web-Anwendung angelegt werden."
   ]
  },
  {
   "cell_type": "code",
   "execution_count": null,
   "metadata": {},
   "outputs": [],
   "source": [
    "next_diocese_id = 57501"
   ]
  },
  {
   "cell_type": "markdown",
   "metadata": {},
   "source": [
    "Format für die öffentliche ID und erste für den Import verwendeter\n",
    "Wert für den Zähler in der öffentlichen ID (`item_corpus.id_public`) für Diözesen.\n",
    "\n",
    "``` sql\n",
    "SELECT id, corpus_id, name, id_public_mask, next_id_public FROM corpus WHERE corpus_id = 'dioc';\n",
    "```"
   ]
  },
  {
   "cell_type": "code",
   "execution_count": null,
   "metadata": {},
   "outputs": [],
   "source": [
    "diocese_id_public_mask = \"WIAG-Inst_DIOCGatz-###-###\"; next_diocese_id_public = 150"
   ]
  },
  {
   "cell_type": "markdown",
   "metadata": {},
   "source": [
    "**Erste beim Import verwendete ID für die neuen Personen in der Tabelle `item` setzen**. Der Wert wird am besten mit einem sinnvollen Abstand zum letzten vorhandenen Eintrag in `item` gewählt. So muss der Parameter nicht verändert werden, wenn in der Zeit bis zum Einlesen der Daten in die Datenbank noch Datensätze über die Redaktionsumgebung der Web-Anwendung angelegt werden.\n",
    "\n",
    "Wenn auch Diözesen eingelesen werden, ist zu beachten, dass die GWDG-Server die ID in Schritten von zwei erhöhen."
   ]
  },
  {
   "cell_type": "code",
   "execution_count": null,
   "metadata": {},
   "outputs": [],
   "source": [
    "next_person_id = 57801"
   ]
  },
  {
   "cell_type": "markdown",
   "metadata": {},
   "source": [
    "Format für die öffentliche ID und erster beim Import verwendeter Wert für den Zähler in der öffentlichen ID (`item_corpus.id_public`) für Personen des neuen Corpus.\n"
   ]
  },
  {
   "cell_type": "code",
   "execution_count": null,
   "metadata": {},
   "outputs": [],
   "source": [
    "id_public_mask = \"WIAG-Pers-EPISCIberia-#####-###\"; next_id_public = 101"
   ]
  },
  {
   "cell_type": "markdown",
   "metadata": {},
   "source": [
    "Weitere Kennzeichen des Corpus"
   ]
  },
  {
   "cell_type": "code",
   "execution_count": null,
   "metadata": {},
   "outputs": [],
   "source": [
    "nt_corpus = (\n",
    "    name = \"Bischöfe Iberische Halbinsel\",\n",
    "    note = \"Datenbank zu Bischöfen der iberischen Halbinsel im Mittelalter (bis ins 13. Jahrhundert)\",\n",
    "    id_public_mask = id_public_mask,\n",
    "    corpus_id = corpus_id,\n",
    "    comment = \"Datenbank zu Bischöfen der iberischen Halbinsel im Mittelalter (bis ins 13. Jahrhundert)\",\n",
    "    page_title = \"Bischöfe der iberischen Halbinsel im Mittelalter (bis ins 13. Jahrhundert)\",\n",
    "    online_status = online_status,\n",
    "    default_status = default_status,\n",
    "    edit_form = \"person\",\n",
    "    next_id_public = next_id_public\n",
    ")"
   ]
  },
  {
   "cell_type": "markdown",
   "metadata": {},
   "source": [
    "Pfade, um Daten einzulesen (CSV) und zu schreiben (SQL-Insert/Update-Statements)"
   ]
  },
  {
   "cell_type": "code",
   "execution_count": null,
   "metadata": {},
   "outputs": [],
   "source": [
    "input_path = \"C:\\\\Users\\\\georg\\\\Documents\\\\projekte-doc\\\\WIAGweb3\\\\UbietoArteta\\\\data\"\n",
    "output_path = \"C:\\\\Users\\\\georg\\\\Documents\\\\projekte-doc\\\\WIAGweb3\\\\UbietoArteta\\\\data_sql\""
   ]
  },
  {
   "cell_type": "markdown",
   "metadata": {},
   "source": [
    "## Neues Corpus bekannt machen"
   ]
  },
  {
   "cell_type": "code",
   "execution_count": null,
   "metadata": {},
   "outputs": [],
   "source": [
    "filename = joinpath(output_path, \"insert_corpus.sql\")\n",
    "table_name = \"corpus\""
   ]
  },
  {
   "cell_type": "code",
   "execution_count": null,
   "metadata": {},
   "outputs": [],
   "source": [
    "key_value_str = join([(String(k) * \" = \" * val_sql(v)) for (k, v) in pairs(nt_corpus)], \", \")"
   ]
  },
  {
   "cell_type": "code",
   "execution_count": null,
   "metadata": {},
   "outputs": [],
   "source": [
    "open(filename, write = true) do io\n",
    "    println(io, \"INSERT INTO $(table_name) SET \", key_value_str, \";\")\n",
    "end"
   ]
  },
  {
   "cell_type": "markdown",
   "metadata": {},
   "source": [
    "## Literatur\n",
    "Die Werte für `reference_id` müssen abgestimmt sein mit den Werten für `reference_id` in der Tabelle `item_reference`. In der Zieldatenbank müssen die Werte für `reference_id` noch frei sein.\n",
    "\n",
    "Wenn die Literaturangaben für die Bände schon direkt in der Zieldatenbank vorhanden sind, entfällt dieser Abschnitt."
   ]
  },
  {
   "cell_type": "code",
   "execution_count": null,
   "metadata": {},
   "outputs": [],
   "source": [
    "filename = joinpath(input_path, \"reference_volume.csv\")\n",
    "df_reference_volume = CSV.read(filename, DataFrame)\n",
    "nrow(df_reference_volume)"
   ]
  },
  {
   "cell_type": "markdown",
   "metadata": {},
   "source": [
    "Pflichtspalten: Dieser Eintrag ist in der Regel nicht zu bearbeiten. Die CSV-Datei muss diese Spalten enthalten und sie müssen befüllt sein."
   ]
  },
  {
   "cell_type": "code",
   "execution_count": null,
   "metadata": {},
   "outputs": [],
   "source": [
    "insert_cols_mandatory = [\n",
    "    :reference_id,\n",
    "    :full_citation,\n",
    "    :gs_citation,\n",
    "    :title_short\n",
    "]"
   ]
  },
  {
   "cell_type": "markdown",
   "metadata": {},
   "source": [
    "Zusätzliche Spalten: Dieser Eintrag kann bearbeitet werden, wenn weitere Spalten eingelesen werden sollen. Diese muss es in der Zieldatenbank und in der Quelldatei geben. In der Quelldatei können \n",
    "Einträge für diese Spalten fehlen. Die Liste kann auch leer sein."
   ]
  },
  {
   "cell_type": "code",
   "execution_count": null,
   "metadata": {},
   "outputs": [],
   "source": [
    "insert_cols_additional = [\n",
    "    :author_editor,\n",
    "    :year_publication,\n",
    "]"
   ]
  },
  {
   "cell_type": "code",
   "execution_count": null,
   "metadata": {},
   "outputs": [],
   "source": [
    "insert_cols = vcat(insert_cols_mandatory, insert_cols_additional)"
   ]
  },
  {
   "cell_type": "code",
   "execution_count": null,
   "metadata": {},
   "outputs": [],
   "source": [
    "# Wenn es Literatur in einer Datei reference_volume.csv gibt, dann ist die nächste Zeile durch die übernächste zu ersetzen.\n",
    "filename = joinpath(output_path, \"insert_reference_volume_dummy.sql\")\n",
    "# filename = joinpath(output_path, \"insert_reference_volume.sql\")\n",
    "table_name = \"reference_volume\"\n",
    "insert_sql(filename, table_name, select(df_reference_volume, insert_cols))"
   ]
  },
  {
   "cell_type": "markdown",
   "metadata": {},
   "source": [
    "## Diözesen\n",
    "Für die spanischen Bischöfe (2024) werden auch neue Diözesen eingelesen. Wenn keine Diözesen eingelesen werden, kann dieser Abschnitt übersprungen werden."
   ]
  },
  {
   "cell_type": "code",
   "execution_count": null,
   "metadata": {},
   "outputs": [],
   "source": [
    "filename = joinpath(input_path, \"diocese.csv\")\n",
    "df_diocese = CSV.read(filename, DataFrame)\n",
    "nrow(df_diocese)"
   ]
  },
  {
   "cell_type": "markdown",
   "metadata": {},
   "source": [
    "Setze die ID für die Datenbank"
   ]
  },
  {
   "cell_type": "code",
   "execution_count": null,
   "metadata": {},
   "outputs": [],
   "source": [
    "df_diocese.id = range(next_diocese_id; length = nrow(df_diocese), step = 2);"
   ]
  },
  {
   "cell_type": "markdown",
   "metadata": {},
   "source": [
    "Befülle `item` mit Einträgen für die Diözesen"
   ]
  },
  {
   "cell_type": "code",
   "execution_count": null,
   "metadata": {},
   "outputs": [],
   "source": [
    "now_string = Dates.format(Dates.now(), \"Y-mm-dd HH:MM:SS\")"
   ]
  },
  {
   "cell_type": "code",
   "execution_count": null,
   "metadata": {},
   "outputs": [],
   "source": [
    "df_item_diocese = DataFrame(\n",
    "    id = df_diocese.id,\n",
    "    edit_status = import_status,\n",
    "    created_by = user_id,\n",
    "    changed_by = user_id,\n",
    "    date_created = now_string,\n",
    "    date_changed = now_string,\n",
    ");"
   ]
  },
  {
   "cell_type": "code",
   "execution_count": null,
   "metadata": {},
   "outputs": [],
   "source": [
    "filename = joinpath(output_path, \"insert_item_diocese.sql\")\n",
    "table_name = \"item\"\n",
    "insert_sql(filename, table_name, df_item_diocese)"
   ]
  },
  {
   "cell_type": "markdown",
   "metadata": {},
   "source": [
    "Befülle Tabelle `item_corpus` mit Einträgen für die Diözesen  \n",
    "Verwende die Werte aus der Spalte `id_csv` für Einträge in `id_in_corpus`."
   ]
  },
  {
   "cell_type": "code",
   "execution_count": null,
   "metadata": {},
   "outputs": [],
   "source": [
    "dioc_id_public = [make_id_public(diocese_id_public_mask, c) \n",
    "    for c in range(next_diocese_id_public, length = nrow(df_diocese))];\n",
    "length(dioc_id_public)"
   ]
  },
  {
   "cell_type": "code",
   "execution_count": null,
   "metadata": {},
   "outputs": [],
   "source": [
    "df_item_corpus_diocese = DataFrame(\n",
    "    item_id = df_diocese.id,\n",
    "    corpus_id = corpus_id_diocese,\n",
    "    id_public = dioc_id_public,\n",
    "    id_in_corpus = df_diocese.id_csv\n",
    ");"
   ]
  },
  {
   "cell_type": "code",
   "execution_count": null,
   "metadata": {},
   "outputs": [],
   "source": [
    "filename = joinpath(output_path, \"insert_item_corpus_diocese.sql\")\n",
    "table_name = \"item_corpus\"\n",
    "insert_sql(filename, table_name, df_item_corpus_diocese)"
   ]
  },
  {
   "cell_type": "markdown",
   "metadata": {},
   "source": [
    "Schreibe den Zähler für die nächste öffentliche ID für Diözesen in der Tabelle `corpus` fort."
   ]
  },
  {
   "cell_type": "code",
   "execution_count": null,
   "metadata": {},
   "outputs": [],
   "source": [
    "next_diocese_id_public_post = next_diocese_id_public + nrow(df_item_corpus_diocese)"
   ]
  },
  {
   "cell_type": "code",
   "execution_count": null,
   "metadata": {},
   "outputs": [],
   "source": [
    "open(filename, append = true) do io\n",
    "    println(io, \"UPDATE corpus SET next_id_public = $(next_diocese_id_public_post) WHERE corpus_id = 'dioc';\")\n",
    "end"
   ]
  },
  {
   "cell_type": "markdown",
   "metadata": {},
   "source": [
    "Befülle Tabelle `diocese` mit Einträgen für die Diözesen."
   ]
  },
  {
   "cell_type": "code",
   "execution_count": null,
   "metadata": {},
   "outputs": [],
   "source": [
    "names(df_diocese)"
   ]
  },
  {
   "cell_type": "markdown",
   "metadata": {},
   "source": [
    "Pflichtspalten: Dieser Eintrag ist in der Regel nicht zu bearbeiten. Die CSV-Datei muss diese Spalten enthalten und sie müssen befüllt sein."
   ]
  },
  {
   "cell_type": "code",
   "execution_count": null,
   "metadata": {},
   "outputs": [],
   "source": [
    "insert_cols_mandatory = [\n",
    "    :id,\n",
    "    :name\n",
    "];"
   ]
  },
  {
   "cell_type": "markdown",
   "metadata": {},
   "source": [
    "Zusätzliche Spalten: Dieser Eintrag kann bearbeitet werden, wenn weitere Spalten eingelesen werden sollen. Diese muss es in der Zieldatenbank und in der Quelldatei geben. In der Quelldatei können \n",
    "Einträge für diese Spalten fehlen. Die Liste kann auch leer sein."
   ]
  },
  {
   "cell_type": "code",
   "execution_count": null,
   "metadata": {},
   "outputs": [],
   "source": [
    "insert_cols_additional = [\n",
    "    :note,\n",
    "    :comment,\n",
    "    :ecclesiastical_province,\n",
    "    :diocese_status,\n",
    "    :note_bishopric_seat,\n",
    "    :date_of_founding\n",
    "];"
   ]
  },
  {
   "cell_type": "code",
   "execution_count": null,
   "metadata": {},
   "outputs": [],
   "source": [
    "insert_cols = vcat(insert_cols_mandatory, insert_cols_additional);"
   ]
  },
  {
   "cell_type": "code",
   "execution_count": null,
   "metadata": {},
   "outputs": [],
   "source": [
    "filename = joinpath(output_path, \"insert_diocese.sql\")\n",
    "table_name = \"diocese\"\n",
    "insert_sql(filename, table_name, select(df_diocese, insert_cols))"
   ]
  },
  {
   "cell_type": "markdown",
   "metadata": {},
   "source": [
    "Befülle Tabelle `item_reference` mit Einträgen für die Diözesen.\n",
    "\n",
    "Die Quell-Datei muss über die Spalte `id_csv` mit den Daten in \"diocese.csv\" verknüpft sein, oder gültige Werte in einer Spalte `item_id` enthalten."
   ]
  },
  {
   "cell_type": "code",
   "execution_count": null,
   "metadata": {},
   "outputs": [],
   "source": [
    "filename = joinpath(input_path, \"item_reference_diocese.csv\")\n",
    "df_item_reference_diocese = CSV.read(filename, DataFrame)\n",
    "nrow(df_item_reference_diocese)"
   ]
  },
  {
   "cell_type": "markdown",
   "metadata": {},
   "source": [
    "Weise einen Wert für `item_id` zu."
   ]
  },
  {
   "cell_type": "code",
   "execution_count": null,
   "metadata": {},
   "outputs": [],
   "source": [
    "n = nrow(df_item_reference_diocese)\n",
    "if !(\"item_id\" in names(df_item_reference_diocese)) || count(ismissing, df_item_reference_diocese.item_id) == n\n",
    "    df_item_reference_diocese.item_id .= 0;\n",
    "end\n",
    "names(df_item_reference_diocese)"
   ]
  },
  {
   "cell_type": "code",
   "execution_count": null,
   "metadata": {},
   "outputs": [],
   "source": [
    "idx_csv = Dict(r.id_csv => i for (i, r) in enumerate(eachrow(df_diocese)))\n",
    "for (i, row) in enumerate(eachrow(df_item_reference_diocese))\n",
    "    if ismissing(row[:item_id]) || row[:item_id] == 0\n",
    "        row_number = get(idx_csv, row.id_csv, 0)\n",
    "        if row_number == 0\n",
    "            @warn \"Für $(row.name) fehlen 'item_id' und 'id_csv' in Zeile $(i)\"\n",
    "        else\n",
    "            row[:item_id] = df_diocese[row_number, :id]\n",
    "        end\n",
    "    end\n",
    "end\n",
    "nrow(df_item_reference_diocese)"
   ]
  },
  {
   "cell_type": "markdown",
   "metadata": {},
   "source": [
    "Pflichtspalten: Dieser Eintrag ist in der Regel nicht zu bearbeiten. Die CSV-Datei muss diese Spalten enthalten und sie müssen befüllt sein."
   ]
  },
  {
   "cell_type": "code",
   "execution_count": null,
   "metadata": {},
   "outputs": [],
   "source": [
    "insert_cols_mandatory = [\n",
    "    :item_id,\n",
    "    :reference_id\n",
    "];"
   ]
  },
  {
   "cell_type": "markdown",
   "metadata": {},
   "source": [
    "Zusätzliche Spalten: Dieser Eintrag kann bearbeitet werden, wenn weitere Spalten eingelesen werden sollen. Diese muss es in der Zieldatenbank und in der Quelldatei geben. In der Quelldatei können Einträge in diesen Spalten fehlen. Die Liste kann auch leer sein."
   ]
  },
  {
   "cell_type": "code",
   "execution_count": null,
   "metadata": {},
   "outputs": [],
   "source": [
    "insert_cols_additional = [\n",
    "    :note,\n",
    "    :page,\n",
    "    :id_in_reference\n",
    "];"
   ]
  },
  {
   "cell_type": "code",
   "execution_count": null,
   "metadata": {},
   "outputs": [],
   "source": [
    "insert_cols = vcat(insert_cols_mandatory, insert_cols_additional);"
   ]
  },
  {
   "cell_type": "code",
   "execution_count": null,
   "metadata": {},
   "outputs": [],
   "source": [
    "filename = joinpath(output_path, \"insert_item_reference_diocese.sql\")\n",
    "table_name = \"item_reference\"\n",
    "insert_sql(filename, table_name, select(df_item_reference_diocese, insert_cols))"
   ]
  },
  {
   "cell_type": "markdown",
   "metadata": {},
   "source": [
    "## Personen"
   ]
  },
  {
   "cell_type": "code",
   "execution_count": null,
   "metadata": {},
   "outputs": [],
   "source": [
    "filename = joinpath(input_path, \"person.csv\")\n",
    "df_person = CSV.read(filename, DataFrame)\n",
    "nrow(df_person)"
   ]
  },
  {
   "cell_type": "code",
   "execution_count": null,
   "metadata": {},
   "outputs": [],
   "source": [
    "df_person.id = range(next_person_id; length = nrow(df_person), step = 2);"
   ]
  },
  {
   "cell_type": "markdown",
   "metadata": {},
   "source": [
    "Lies auch die Amtsdaten ein. Die Zeiträume in dieser Datei werden gebraucht, um die Zeitspanne festzulegen, in der eine Person gefunden wird."
   ]
  },
  {
   "cell_type": "code",
   "execution_count": null,
   "metadata": {},
   "outputs": [],
   "source": [
    "filename = joinpath(input_path, \"person_role.csv\")\n",
    "df_person_role = CSV.read(filename, DataFrame)\n",
    "nrow(df_person_role)"
   ]
  },
  {
   "cell_type": "markdown",
   "metadata": {},
   "source": [
    "Ordne die IDs der Personen zu."
   ]
  },
  {
   "cell_type": "code",
   "execution_count": null,
   "metadata": {},
   "outputs": [],
   "source": [
    "join_cols = [\n",
    "    :id_csv => :id_csv,\n",
    "    :id => :person_id\n",
    "];"
   ]
  },
  {
   "cell_type": "code",
   "execution_count": null,
   "metadata": {},
   "outputs": [],
   "source": [
    "df_person_role = leftjoin(df_person_role, select(df_person, join_cols), on = :id_csv);\n",
    "nrow(df_person_role)"
   ]
  },
  {
   "cell_type": "markdown",
   "metadata": {},
   "source": [
    "Bestimme einen Zahlenwert für Geburtsdatum und Sterbedatum einer Person"
   ]
  },
  {
   "cell_type": "code",
   "execution_count": null,
   "metadata": {},
   "outputs": [],
   "source": [
    "parse_lower(s) = parsemaybe(s, :lower)\n",
    "parse_upper(s) = parsemaybe(s, :upper)"
   ]
  },
  {
   "cell_type": "code",
   "execution_count": null,
   "metadata": {},
   "outputs": [],
   "source": [
    "transform!(df_person, :date_birth => ByRow(parse_lower) => :num_date_birth);"
   ]
  },
  {
   "cell_type": "code",
   "execution_count": null,
   "metadata": {},
   "outputs": [],
   "source": [
    "transform!(df_person, :date_death => ByRow(parse_upper) => :num_date_death);"
   ]
  },
  {
   "cell_type": "markdown",
   "metadata": {},
   "source": [
    "Bestimme einen Zahlenwert für Start- und Enddatum der Amtszeiten und den Sortierschlüssel"
   ]
  },
  {
   "cell_type": "code",
   "execution_count": null,
   "metadata": {},
   "outputs": [],
   "source": [
    "transform!(df_person_role, :date_begin => ByRow(parse_lower) => :num_date_begin);"
   ]
  },
  {
   "cell_type": "code",
   "execution_count": null,
   "metadata": {},
   "outputs": [],
   "source": [
    "transform!(df_person_role, :date_end => ByRow(parse_upper) => :num_date_end);"
   ]
  },
  {
   "cell_type": "code",
   "execution_count": null,
   "metadata": {},
   "outputs": [],
   "source": [
    "date_sort_key_ab(a, b) = date_sort_key(!ismissing(a) ? a : b)\n",
    "transform!(df_person_role, [:date_begin, :date_end] => ByRow(date_sort_key_ab) => :date_sort_key);"
   ]
  },
  {
   "cell_type": "markdown",
   "metadata": {},
   "source": [
    "Bestimme die Zeitspanne, in der eine Person gefunden werden soll: Befülle `date_min, date_max` in df_person."
   ]
  },
  {
   "cell_type": "code",
   "execution_count": null,
   "metadata": {},
   "outputs": [],
   "source": [
    "function find_role(df_pr, person_id)\n",
    "    return @view df_pr[findall(isequal(person_id), df_pr.person_id), :] \n",
    "end\n",
    "# find earliest and latest date in a person's office list\n",
    "df_person.date_min = Vector{Union{Missing, Int}}(missing, nrow(df_person))\n",
    "df_person.date_max = Vector{Union{Missing, Int}}(missing, nrow(df_person))\n",
    "for p in eachrow(df_person)\n",
    "    df_pr = find_role(df_person_role, p.id)\n",
    "    date_min = 2000;\n",
    "    date_max = 0;\n",
    "    for pr in eachrow(df_pr)\n",
    "        if !ismissing(pr.num_date_begin) && pr.num_date_begin < date_min; \n",
    "            date_min = pr.num_date_begin \n",
    "        end\n",
    "        if !ismissing(pr.num_date_end) && pr.num_date_end > date_max; \n",
    "            date_max = pr.num_date_end \n",
    "        end\n",
    "    end\n",
    "    \n",
    "    # date_min can't be smaller than date_birth; date_max can't be larger than date_death\n",
    "    if date_min == 2000 || (!ismissing(p.num_date_birth) && date_min < p.num_date_birth )\n",
    "        date_min = p.num_date_birth\n",
    "    end\n",
    "    if date_max == 0 || (!ismissing(p.num_date_death) && date_max > p.num_date_death )\n",
    "        date_max = p.num_date_death\n",
    "    end\n",
    "    # find a substitute if a value is missing\n",
    "    date_min = ismissing(date_min) ? date_max : date_min\n",
    "    date_max = ismissing(date_max) ? date_min : date_max\n",
    "    \n",
    "    p.date_min = date_min\n",
    "    p.date_max = date_max    \n",
    "end "
   ]
  },
  {
   "cell_type": "markdown",
   "metadata": {},
   "source": [
    "Ausgabe von Dateien zur Kontrolle"
   ]
  },
  {
   "cell_type": "code",
   "execution_count": null,
   "metadata": {},
   "outputs": [],
   "source": [
    "filename = joinpath(input_path, \"df_person_2024-01-29.csv\")\n",
    "CSV.write(filename, df_person)\n",
    "filename = joinpath(input_path, \"df_person_role_2024-01-29.csv\")\n",
    "CSV.write(filename, df_person_role)"
   ]
  },
  {
   "cell_type": "markdown",
   "metadata": {},
   "source": [
    "Befülle `item` mit Einträgen für die Personen"
   ]
  },
  {
   "cell_type": "code",
   "execution_count": null,
   "metadata": {},
   "outputs": [],
   "source": [
    "now_string = Dates.format(Dates.now(), \"Y-mm-dd HH:MM:SS\")"
   ]
  },
  {
   "cell_type": "code",
   "execution_count": null,
   "metadata": {},
   "outputs": [],
   "source": [
    "df_item = DataFrame(\n",
    "    id = df_person.id,\n",
    "    edit_status = import_status,\n",
    "    created_by = user_id,\n",
    "    changed_by = user_id,\n",
    "    date_created = now_string,\n",
    "    date_changed = now_string,\n",
    ");"
   ]
  },
  {
   "cell_type": "code",
   "execution_count": null,
   "metadata": {},
   "outputs": [],
   "source": [
    "filename = joinpath(output_path, \"insert_item.sql\")\n",
    "table_name = \"item\"\n",
    "insert_sql(filename, table_name, df_item)"
   ]
  },
  {
   "cell_type": "markdown",
   "metadata": {},
   "source": [
    "### Corpus\n",
    "Befülle Tabelle `item_corpus` mit Einträgen für die Diözesen.\n",
    "Verwende die Werte aus der Spalte `id_csv` für Einträge im Feld `id_in_corpus`."
   ]
  },
  {
   "cell_type": "code",
   "execution_count": null,
   "metadata": {},
   "outputs": [],
   "source": [
    "id_public = [make_id_public(id_public_mask, c) \n",
    "    for c in range(next_id_public, length = nrow(df_person))];\n",
    "length(id_public)"
   ]
  },
  {
   "cell_type": "code",
   "execution_count": null,
   "metadata": {},
   "outputs": [],
   "source": [
    "df_item_corpus = DataFrame(\n",
    "    item_id = df_person.id,\n",
    "    corpus_id = corpus_id,\n",
    "    id_public = id_public,\n",
    "    id_in_corpus = df_person.id_csv\n",
    ");"
   ]
  },
  {
   "cell_type": "code",
   "execution_count": null,
   "metadata": {},
   "outputs": [],
   "source": [
    "filename = joinpath(output_path, \"insert_item_corpus.sql\")\n",
    "table_name = \"item_corpus\"\n",
    "insert_sql(filename, table_name, df_item_corpus)"
   ]
  },
  {
   "cell_type": "markdown",
   "metadata": {},
   "source": [
    "Schreibe den Zähler für die nächste öffentliche ID für Personen in der Tabelle `corpus` fort."
   ]
  },
  {
   "cell_type": "code",
   "execution_count": null,
   "metadata": {},
   "outputs": [],
   "source": [
    "next_id_public_post = next_id_public + nrow(df_item_corpus)"
   ]
  },
  {
   "cell_type": "code",
   "execution_count": null,
   "metadata": {},
   "outputs": [],
   "source": [
    "open(filename, append = true) do io\n",
    "    println(io, \"UPDATE corpus SET next_id_public = $(next_id_public_post) WHERE corpus_id = 'ibe';\")\n",
    "end"
   ]
  },
  {
   "cell_type": "markdown",
   "metadata": {},
   "source": [
    "### Person\n",
    "Befülle Tabelle `person`"
   ]
  },
  {
   "cell_type": "markdown",
   "metadata": {},
   "source": [
    "Pflichtspalten: Dieser Eintrag ist in der Regel nicht zu bearbeiten. Die CSV-Datei muss diese Spalten enthalten und sie müssen befüllt sein."
   ]
  },
  {
   "cell_type": "code",
   "execution_count": null,
   "metadata": {},
   "outputs": [],
   "source": [
    "insert_cols_mandatory = [\n",
    "    :id\n",
    "];"
   ]
  },
  {
   "cell_type": "markdown",
   "metadata": {},
   "source": [
    "Zusätzliche Spalten: Dieser Eintrag kann bearbeitet werden, wenn weitere Spalten eingelesen werden sollen. Diese muss es in der Zieldatenbank und in der Quelldatei geben. In der Quelldatei können Einträge in diesen Spalten fehlen. Die Liste kann auch leer sein."
   ]
  },
  {
   "cell_type": "code",
   "execution_count": null,
   "metadata": {},
   "outputs": [],
   "source": [
    "insert_cols_additional = [\n",
    "    :givenname,\n",
    "    :prefixname,\n",
    "    :familyname,\n",
    "    :date_death,\n",
    "    :date_birth,\n",
    "    :note_dates,\n",
    "    :num_date_birth,\n",
    "    :num_date_death,\n",
    "    :date_min,\n",
    "    :date_max,\n",
    "    :academic_title,\n",
    "    :note_person,\n",
    "    :comment,\n",
    "    :note_name,\n",
    "    :religious_order_id\n",
    "];"
   ]
  },
  {
   "cell_type": "code",
   "execution_count": null,
   "metadata": {},
   "outputs": [],
   "source": [
    "insert_cols = vcat(insert_cols_mandatory, insert_cols_additional);"
   ]
  },
  {
   "cell_type": "code",
   "execution_count": null,
   "metadata": {},
   "outputs": [],
   "source": [
    "filename = joinpath(output_path, \"insert_person.sql\")\n",
    "table_name = \"person\"\n",
    "insert_sql(filename, table_name, select(df_person, insert_cols))"
   ]
  },
  {
   "cell_type": "markdown",
   "metadata": {},
   "source": [
    "### Literaturverweise\n",
    "Befülle Tabelle `item_reference`\n",
    "\n",
    "Die Quell-Datei muss über die Spalte \"id_csv\" mit den Daten in \"person.csv\" verknüpft sein."
   ]
  },
  {
   "cell_type": "code",
   "execution_count": null,
   "metadata": {},
   "outputs": [],
   "source": [
    "filename = joinpath(input_path, \"item_reference.csv\")\n",
    "df_item_reference = CSV.read(filename, DataFrame)\n",
    "nrow(df_item_reference)"
   ]
  },
  {
   "cell_type": "markdown",
   "metadata": {},
   "source": [
    "Weise einen Wert für `item_id` zu."
   ]
  },
  {
   "cell_type": "code",
   "execution_count": null,
   "metadata": {},
   "outputs": [],
   "source": [
    "n = nrow(df_item_reference)\n",
    "if !(\"item_id\" in names(df_item_reference)) || count(ismissing, df_item_reference.item_id) == n\n",
    "    df_item_reference.item_id .= 0;\n",
    "end\n",
    "names(df_item_reference)"
   ]
  },
  {
   "cell_type": "code",
   "execution_count": null,
   "metadata": {},
   "outputs": [],
   "source": [
    "idx_csv = Dict(r.id_csv => i for (i, r) in enumerate(eachrow(df_person)))\n",
    "for (i, row) in enumerate(eachrow(df_item_reference))\n",
    "    if ismissing(row[:item_id]) || row[:item_id] == 0\n",
    "        row_number = get(idx_csv, row.id_csv, 0)\n",
    "        if row_number == 0\n",
    "            @warn \"Für $(row.name) fehlen 'item_id' und 'id_csv' in Zeile $(i)\"\n",
    "        else\n",
    "            row[:item_id] = df_person[row_number, :id]\n",
    "        end\n",
    "    end\n",
    "end\n",
    "nrow(df_item_reference)"
   ]
  },
  {
   "cell_type": "markdown",
   "metadata": {},
   "source": [
    "Pflichtspalten: Dieser Eintrag ist in der Regel nicht zu bearbeiten. Die CSV-Datei muss diese Spalten enthalten und sie müssen befüllt sein."
   ]
  },
  {
   "cell_type": "code",
   "execution_count": null,
   "metadata": {},
   "outputs": [],
   "source": [
    "insert_cols_mandatory = [\n",
    "    :item_id,\n",
    "    :reference_id,\n",
    "];"
   ]
  },
  {
   "cell_type": "markdown",
   "metadata": {},
   "source": [
    "Zusätzliche Spalten: Dieser Eintrag kann bearbeitet werden, wenn weitere Spalten eingelesen werden sollen. Diese muss es in der Zieldatenbank und in der Quelldatei geben. In der Quelldatei können Einträge in diesen Spalten fehlen. Die Liste kann auch leer sein."
   ]
  },
  {
   "cell_type": "code",
   "execution_count": null,
   "metadata": {},
   "outputs": [],
   "source": [
    "insert_cols_additional = [\n",
    "    :note,\n",
    "    :page,\n",
    "    :id_in_reference\n",
    "];"
   ]
  },
  {
   "cell_type": "code",
   "execution_count": null,
   "metadata": {},
   "outputs": [],
   "source": [
    "insert_cols = vcat(insert_cols_mandatory, insert_cols_additional);"
   ]
  },
  {
   "cell_type": "code",
   "execution_count": null,
   "metadata": {},
   "outputs": [],
   "source": [
    "filename = joinpath(output_path, \"insert_item_reference.sql\")\n",
    "table_name = \"item_reference\"\n",
    "insert_sql(filename, table_name, select(df_item_reference, insert_cols))"
   ]
  },
  {
   "cell_type": "markdown",
   "metadata": {},
   "source": [
    "### Namensvarianten\n",
    "Befülle Tabelle `name_lookup`.\n",
    "Das Notebook ist zu erweitern, wenn die Datei \"person.csv\" Namensvarianten enthält."
   ]
  },
  {
   "cell_type": "code",
   "execution_count": null,
   "metadata": {},
   "outputs": [],
   "source": [
    "df_name_lookup = DataFrame(person_id = Vector{Int}(), name_variant = Vector{String}());"
   ]
  },
  {
   "cell_type": "code",
   "execution_count": null,
   "metadata": {},
   "outputs": [],
   "source": [
    "rgx = r\"[\\w-]+( [\\w-]+)*\"\n",
    "function find_word(s)\n",
    "    w = \"\"\n",
    "    m = match(rgx, s)\n",
    "    if !isnothing(m)\n",
    "        w = m.match\n",
    "    end\n",
    "    return w\n",
    "end\n",
    "for row in eachrow(df_person)\n",
    "    p_list = String[]\n",
    "    for part in row[[:givenname, :prefixname, :familyname]]    \n",
    "        if !ismissing(part) && strip(part) != \"\"\n",
    "            push!(p_list, find_word(part))\n",
    "        end\n",
    "    end\n",
    "    variant = join(p_list, \" \")\n",
    "    push!(df_name_lookup, (row[:id], variant))\n",
    "end\n",
    "nrow(df_name_lookup)"
   ]
  },
  {
   "cell_type": "code",
   "execution_count": null,
   "metadata": {},
   "outputs": [],
   "source": [
    "df_name_lookup[102:107, :]"
   ]
  },
  {
   "cell_type": "markdown",
   "metadata": {},
   "source": [
    "Pflichtspalten: Dieser Eintrag ist in der Regel nicht zu bearbeiten. Die CSV-Datei muss diese Spalten enthalten und sie müssen befüllt sein."
   ]
  },
  {
   "cell_type": "code",
   "execution_count": null,
   "metadata": {},
   "outputs": [],
   "source": [
    "insert_cols = [\n",
    "    :person_id\n",
    "    :name_variant\n",
    "];"
   ]
  },
  {
   "cell_type": "code",
   "execution_count": null,
   "metadata": {},
   "outputs": [],
   "source": [
    "filename = joinpath(output_path, \"insert_name_lookup.sql\")\n",
    "table_name = \"name_lookup\"\n",
    "insert_sql(filename, table_name, select(df_name_lookup, insert_cols))"
   ]
  },
  {
   "cell_type": "markdown",
   "metadata": {},
   "source": [
    "### Externe Identifier"
   ]
  },
  {
   "cell_type": "code",
   "execution_count": null,
   "metadata": {},
   "outputs": [],
   "source": [
    "filename = joinpath(input_path, \"url_external.csv\")\n",
    "df_url_external = CSV.read(filename, DataFrame)\n",
    "nrow(df_url_external)"
   ]
  },
  {
   "cell_type": "code",
   "execution_count": null,
   "metadata": {},
   "outputs": [],
   "source": [
    "idx_csv = Dict(r.id_csv => i for (i, r) in enumerate(eachrow(df_person)))\n",
    "df_url_external.item_id .= 0;\n",
    "for (i, row) in enumerate(eachrow(df_url_external))\n",
    "    if ismissing(row[:item_id]) || row[:item_id] == 0\n",
    "        row_number = get(idx_csv, row.id_csv, 0)\n",
    "        if row_number == 0\n",
    "            @warn \"Für $(row.name) fehlen 'item_id' und 'id_csv' in Zeile $(i)\"\n",
    "        else\n",
    "            row[:item_id] = df_person[row_number, :id]\n",
    "        end\n",
    "    end\n",
    "end\n",
    "nrow(df_url_external)"
   ]
  },
  {
   "cell_type": "markdown",
   "metadata": {},
   "source": [
    "Pflichtspalten: Dieser Eintrag ist in der Regel nicht zu bearbeiten. Die CSV-Datei muss diese Spalten enthalten und sie müssen befüllt sein."
   ]
  },
  {
   "cell_type": "code",
   "execution_count": null,
   "metadata": {},
   "outputs": [],
   "source": [
    "insert_cols_mandatory = [\n",
    "    :item_id,\n",
    "    :authority_id,\n",
    "    :value\n",
    "];"
   ]
  },
  {
   "cell_type": "markdown",
   "metadata": {},
   "source": [
    "Zusätzliche Spalten: Dieser Eintrag kann bearbeitet werden, wenn weitere Spalten eingelesen werden sollen. Diese muss es in der Zieldatenbank und in der Quelldatei geben. In der Quelldatei können Einträge in diesen Spalten fehlen. Die Liste kann auch leer sein."
   ]
  },
  {
   "cell_type": "code",
   "execution_count": null,
   "metadata": {},
   "outputs": [],
   "source": [
    "insert_cols_additional = [\n",
    "    \n",
    "];"
   ]
  },
  {
   "cell_type": "code",
   "execution_count": null,
   "metadata": {},
   "outputs": [],
   "source": [
    "insert_cols = vcat(insert_cols_mandatory, insert_cols_additional);"
   ]
  },
  {
   "cell_type": "code",
   "execution_count": null,
   "metadata": {},
   "outputs": [],
   "source": [
    "filename = joinpath(output_path, \"insert_url_external.sql\")\n",
    "table_name = \"url_external\"\n",
    "insert_sql(filename, table_name, select(df_url_external, insert_cols))"
   ]
  },
  {
   "cell_type": "markdown",
   "metadata": {},
   "source": [
    "## Amtsdaten\n",
    "Amtsdaten sind oben schon eingelesen worden."
   ]
  },
  {
   "cell_type": "markdown",
   "metadata": {},
   "source": [
    "**Diözesen über den Namen zuordnen**  \n",
    "Dieser Abschnitt ist nur relevant, wenn beim Import neue Diözesen aufgenommen werden."
   ]
  },
  {
   "cell_type": "code",
   "execution_count": null,
   "metadata": {},
   "outputs": [],
   "source": [
    "select!(df_person_role, Not(:diocese_id));"
   ]
  },
  {
   "cell_type": "code",
   "execution_count": null,
   "metadata": {},
   "outputs": [],
   "source": [
    "join_cols = [\n",
    "    :name => :diocese_name,\n",
    "    :id => :diocese_id\n",
    "];"
   ]
  },
  {
   "cell_type": "code",
   "execution_count": null,
   "metadata": {},
   "outputs": [],
   "source": [
    "df_person_role = leftjoin(df_person_role, select(df_diocese, join_cols), on = :diocese_name)\n",
    "nrow(df_person_role)"
   ]
  },
  {
   "cell_type": "markdown",
   "metadata": {},
   "source": [
    "**Daten schreiben**"
   ]
  },
  {
   "cell_type": "markdown",
   "metadata": {},
   "source": [
    "Pflichtspalten: Dieser Eintrag ist in der Regel nicht zu bearbeiten. Die CSV-Datei muss diese Spalten enthalten und sie müssen befüllt sein."
   ]
  },
  {
   "cell_type": "code",
   "execution_count": null,
   "metadata": {},
   "outputs": [],
   "source": [
    "insert_cols_mandatory = [\n",
    "    :person_id,\n",
    "    :role_id\n",
    "];"
   ]
  },
  {
   "cell_type": "markdown",
   "metadata": {},
   "source": [
    "Zusätzliche Spalten: Dieser Eintrag kann bearbeitet werden, wenn weitere Spalten eingelesen werden sollen. Diese muss es in der Zieldatenbank und in der Quelldatei geben. In der Quelldatei können Daten für diese Spalten fehlen. Die Liste kann auch leer sein.\n",
    "\n",
    "Wenn es grundsätzlich Daten zu dem Amtszeiten (`date_begin`, `date_end`) gibt, sollten auch `num_date_begin` und `num_date_end` sowie `date_sort_key` befüllt sein."
   ]
  },
  {
   "cell_type": "code",
   "execution_count": null,
   "metadata": {},
   "outputs": [],
   "source": [
    "insert_cols_additional = [\n",
    "    :diocese_name,\n",
    "    :diocese_id,\n",
    "    :date_begin,\n",
    "    :date_end,\n",
    "    :num_date_begin,\n",
    "    :num_date_end,\n",
    "    :date_sort_key,\n",
    "    :note    \n",
    "];"
   ]
  },
  {
   "cell_type": "code",
   "execution_count": null,
   "metadata": {},
   "outputs": [],
   "source": [
    "insert_cols = vcat(insert_cols_mandatory, insert_cols_additional);"
   ]
  },
  {
   "cell_type": "code",
   "execution_count": null,
   "metadata": {},
   "outputs": [],
   "source": [
    "filename = joinpath(output_path, \"insert_person_role.sql\")\n",
    "table_name = \"person_role\"\n",
    "insert_sql(filename, table_name, select(df_person_role, insert_cols))"
   ]
  },
  {
   "cell_type": "markdown",
   "metadata": {},
   "source": [
    "### Online?\n",
    "Setze alle Elemente des neuen Corpus online.\n",
    "\n",
    "Mit den SQL-Skripten bis hierher werden die Daten des Corpus in die Datenbank aufgenommen, sind aber in der Abfrage erst sichtbar, wenn der Status über die Redaktionmaske auf der Wert von `online_status` gesetzt wird.\n",
    "\n",
    "Das Skript \"set_online.sql\", das hier erzeugt wird, macht alle Elemente des Corpus in der Abfrage sichtbar"
   ]
  },
  {
   "cell_type": "code",
   "execution_count": null,
   "metadata": {},
   "outputs": [],
   "source": [
    "filename = joinpath(output_path, \"set_$(corpus_id)_online.sql\")\n",
    "now_string = Dates.format(Dates.now(), \"Y-mm-dd HH:MM:SS\")"
   ]
  },
  {
   "cell_type": "code",
   "execution_count": null,
   "metadata": {},
   "outputs": [],
   "source": [
    "update_online_item_sql = \"\"\"\n",
    "UPDATE item SET edit_status = '$(online_status)', is_online = 1, \n",
    "date_changed = '$(now_string)', changed_by = $(user_id)\n",
    "WHERE id IN (SELECT item_id FROM item_corpus WHERE corpus_id = '$(corpus_id)');\n",
    "\"\"\"\n",
    "insert_item_name_role_sql = \"\"\"\n",
    "INSERT INTO item_name_role (item_id_name, item_id_role)\n",
    "SELECT item_id, item_id FROM item_corpus WHERE corpus_id = '$(corpus_id)';\n",
    "\"\"\""
   ]
  },
  {
   "cell_type": "code",
   "execution_count": null,
   "metadata": {},
   "outputs": [],
   "source": [
    "open(filename, write = true) do io \n",
    "    print(io, update_online_item_sql, insert_item_name_role_sql)\n",
    "end\n",
    "filename"
   ]
  },
  {
   "cell_type": "markdown",
   "metadata": {},
   "source": [
    "### Nicht online?\n",
    "Setze alle Elemente des neuen Corpus offline.\n",
    "\n",
    "Das Skript \"set_not_online.sql\", das hier erzeugt wird, nimmt den online-Status zurück"
   ]
  },
  {
   "cell_type": "code",
   "execution_count": null,
   "metadata": {},
   "outputs": [],
   "source": [
    "filename = joinpath(output_path, \"set_$(corpus_id)_not_online.sql\")\n",
    "now_string = Dates.format(Dates.now(), \"Y-mm-dd HH:MM:SS\")"
   ]
  },
  {
   "cell_type": "code",
   "execution_count": null,
   "metadata": {},
   "outputs": [],
   "source": [
    "update_not_online_item_sql = \"\"\"\n",
    "UPDATE item SET edit_status = '$(default_status)', is_online = 0, \n",
    "date_changed = '$(now_string)', changed_by = $(user_id)\n",
    "WHERE id IN (SELECT item_id FROM item_corpus WHERE corpus_id = '$(corpus_id)');\n",
    "\"\"\"\n",
    "delete_item_name_role_sql = \"\"\"\n",
    "DELETE FROM item_name_role WHERE item_id_role IN\n",
    "(SELECT item_id FROM item_corpus WHERE corpus_id = '$(corpus_id)');\n",
    "\"\"\""
   ]
  },
  {
   "cell_type": "code",
   "execution_count": null,
   "metadata": {},
   "outputs": [],
   "source": [
    "open(filename, write = true) do io \n",
    "    print(io, update_not_online_item_sql, delete_item_name_role_sql)\n",
    "end\n",
    "filename"
   ]
  },
  {
   "cell_type": "code",
   "execution_count": null,
   "metadata": {},
   "outputs": [],
   "source": []
  }
 ],
 "metadata": {
  "kernelspec": {
   "display_name": "Julia 1.8.2",
   "language": "julia",
   "name": "julia-1.8"
  },
  "language_info": {
   "file_extension": ".jl",
   "mimetype": "application/julia",
   "name": "julia",
   "version": "1.8.2"
  }
 },
 "nbformat": 4,
 "nbformat_minor": 4
}
