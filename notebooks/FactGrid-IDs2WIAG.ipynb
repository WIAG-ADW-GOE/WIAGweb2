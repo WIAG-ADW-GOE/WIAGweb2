{
 "cells": [
  {
   "cell_type": "markdown",
   "metadata": {},
   "source": [
    "# Datenaustausch WIAG/FactGrid, Teil 1\n",
    "## Lies FactGrid-IDs in WIAG ein.\n",
    "\n",
    "Wenn IDs im FactGrid manuell recherchiert worden sind und in WIAG eingetragen wurden, dann ist zu prüfen, ob zunächst die entsprechenden WIAG-IDs auch manuell in FactGrid eingetragen werden sollen."
   ]
  },
  {
   "cell_type": "markdown",
   "metadata": {},
   "source": [
    "- Lies die aktuellen FQ-IDs aus WIAG ein. \n",
    "- Lies die aktuellen WIAG-IDs aus FactGrid ein.\n",
    "- Prüfe in Bezug auf die WIAG-ID auf doppelte Einträge in WIAG, in FactGrid und auf unterschiedliche Zuordnungen in WIAG und FactGrid\n",
    "- Entferne Einträge, die im FactGrid schon eine ID haben."
   ]
  },
  {
   "cell_type": "code",
   "execution_count": null,
   "metadata": {},
   "outputs": [],
   "source": [
    "using DataFrames, CSV"
   ]
  },
  {
   "cell_type": "code",
   "execution_count": null,
   "metadata": {},
   "outputs": [],
   "source": [
    "input_path = \"C:\\\\Users\\\\georg\\\\Documents\\\\projekte-doc\\\\Forschungsdaten-GS\\\\data\\\\FactGrid\""
   ]
  },
  {
   "cell_type": "code",
   "execution_count": null,
   "metadata": {},
   "outputs": [],
   "source": [
    "output_path = \"C:\\\\Users\\\\georg\\\\Documents\\\\projekte-doc\\\\Forschungsdaten-GS\\\\data_sql\""
   ]
  },
  {
   "cell_type": "markdown",
   "metadata": {},
   "source": [
    "## Lies und prüfe die IDs aus FactGrid"
   ]
  },
  {
   "cell_type": "markdown",
   "metadata": {},
   "source": [
    "Frage IDs im FactGrid ab (SPARQL) und speichere das Ergebnis in einer `*.tsv`-Datei.  \n",
    "https://database.factgrid.de/query/\n",
    "\n",
    "\n",
    "``` sparql\n",
    "SELECT DISTINCT ?item ?itemLabel ?wiag\n",
    "\tWHERE\n",
    "\t{\n",
    "\t  ?item wdt:P601 ?wiag.\n",
    "\t  ?item wdt:P2 wd:Q7\n",
    "\t    SERVICE wikibase:label { bd:serviceParam wikibase:language \"[AUTO_LANGUAGE],en\". }\n",
    "\t}    \n",
    "\n",
    "```"
   ]
  },
  {
   "cell_type": "markdown",
   "metadata": {},
   "source": [
    "Lies die Daten ein. Gib die Zahl der Einträge aus."
   ]
  },
  {
   "cell_type": "code",
   "execution_count": null,
   "metadata": {},
   "outputs": [],
   "source": [
    "input_file = \"FactGrid-IDs_2023-12-18.tsv\"\n",
    "input_path_file = joinpath(input_path, input_file)"
   ]
  },
  {
   "cell_type": "code",
   "execution_count": null,
   "metadata": {},
   "outputs": [],
   "source": [
    "df_fq_ids = CSV.read(input_path_file, DataFrame, delim = \"\\t\");\n",
    "nrow(df_fq_ids)"
   ]
  },
  {
   "cell_type": "markdown",
   "metadata": {},
   "source": [
    "Kontroll-Ausgabe"
   ]
  },
  {
   "cell_type": "code",
   "execution_count": null,
   "metadata": {},
   "outputs": [],
   "source": [
    "df_fq_ids[17:22, :]"
   ]
  },
  {
   "cell_type": "markdown",
   "metadata": {},
   "source": [
    "Extrahiere die Q-Nummer aus der Spalte `item`."
   ]
  },
  {
   "cell_type": "code",
   "execution_count": null,
   "metadata": {},
   "outputs": [],
   "source": [
    "find_fq_id(s) = last(split(s, \"/\"))"
   ]
  },
  {
   "cell_type": "code",
   "execution_count": null,
   "metadata": {},
   "outputs": [],
   "source": [
    "transform!(df_fq_ids, :item => ByRow(find_fq_id) => :q_id);"
   ]
  },
  {
   "cell_type": "markdown",
   "metadata": {},
   "source": [
    "Finde doppelte Einträge"
   ]
  },
  {
   "cell_type": "code",
   "execution_count": null,
   "metadata": {},
   "outputs": [],
   "source": [
    "df_fq_m = groupby(df_fq_ids, :wiag);\n",
    "size(df_fq_m)"
   ]
  },
  {
   "cell_type": "code",
   "execution_count": null,
   "metadata": {},
   "outputs": [],
   "source": [
    "df_fq_m_count = combine(df_fq_m, nrow => :n);"
   ]
  },
  {
   "cell_type": "markdown",
   "metadata": {},
   "source": [
    "Zeige, wo die WIAG-Nummer mehrfach erscheint."
   ]
  },
  {
   "cell_type": "code",
   "execution_count": null,
   "metadata": {},
   "outputs": [],
   "source": [
    "df_fq_m_2 = subset(df_fq_m_count, :n => ByRow(n -> n > 1))"
   ]
  },
  {
   "cell_type": "markdown",
   "metadata": {},
   "source": [
    "Falls es Mehrfacheinträge gibt: Erhalte mehr Informationen durch einen Filter für diese Einträge. Die angegebenen WIAG-Nummern sind Beispiele, welche durch die WIAG-Nummern der vorangegangenen Ausgabe ersetzt werden müssen."
   ]
  },
  {
   "cell_type": "code",
   "execution_count": null,
   "metadata": {},
   "outputs": [],
   "source": [
    "wiag_mult = [\n",
    "    \"WIAG-Pers-CANON-11582-001\", \n",
    "    \"WIAG-Pers-CANON-15754-001\"\n",
    "]"
   ]
  },
  {
   "cell_type": "code",
   "execution_count": null,
   "metadata": {},
   "outputs": [],
   "source": [
    "crit_wiag(s) = s in wiag_mult\n",
    "subset(df_fq_ids, :wiag => ByRow(crit_wiag))"
   ]
  },
  {
   "cell_type": "markdown",
   "metadata": {},
   "source": [
    "Falls es Mehrfacheinträge gibt: Übernimm nur Zeilen ohne die jeweils überzähligen FactGrid-IDs. Die Filterliste enthält IDs, die **nicht** in WIAG übernommen werden sollen."
   ]
  },
  {
   "cell_type": "code",
   "execution_count": null,
   "metadata": {},
   "outputs": [],
   "source": [
    "crit_fq(s) = s in [\"Q646386\", \"Q646394\"]"
   ]
  },
  {
   "cell_type": "code",
   "execution_count": null,
   "metadata": {},
   "outputs": [],
   "source": [
    "df_fq_ids = subset(df_fq_ids, :q_id => ByRow(!crit_fq));\n",
    "nrow(df_fq_ids)"
   ]
  },
  {
   "cell_type": "markdown",
   "metadata": {},
   "source": [
    "Die Ausgabe der folgenden Zelle sollte keine Mehrfacheinträge mehr enthalten."
   ]
  },
  {
   "cell_type": "code",
   "execution_count": null,
   "metadata": {},
   "outputs": [],
   "source": [
    "subset(df_fq_ids, :wiag => ByRow(crit_wiag))"
   ]
  },
  {
   "cell_type": "markdown",
   "metadata": {},
   "source": [
    "## Lies und prüfe die FactGrid-IDs aus WIAG"
   ]
  },
  {
   "cell_type": "markdown",
   "metadata": {},
   "source": [
    "Exportiere Personendaten aus WIAG: \"Export\"/\"CSV Personendaten\"  \n",
    "Letzer Export: Server LIVE, Datum 2023-12-18 12:20"
   ]
  },
  {
   "cell_type": "markdown",
   "metadata": {},
   "source": [
    "Lies die Personendaten aus WIAG ein."
   ]
  },
  {
   "cell_type": "code",
   "execution_count": null,
   "metadata": {},
   "outputs": [],
   "source": [
    "input_file = \"WIAG-can_2023-12-18.csv\"\n",
    "input_path_file = joinpath(input_path, input_file)"
   ]
  },
  {
   "cell_type": "code",
   "execution_count": null,
   "metadata": {},
   "outputs": [],
   "source": [
    "df_p = CSV.read(input_path_file, DataFrame);\n",
    "nrow(df_p)"
   ]
  },
  {
   "cell_type": "markdown",
   "metadata": {},
   "source": [
    "Wähle relevante Spalten aus."
   ]
  },
  {
   "cell_type": "code",
   "execution_count": null,
   "metadata": {},
   "outputs": [],
   "source": [
    "df_p_fq = select(df_p, [:id, :FactGrid_ID, :corpus, :displayname]);"
   ]
  },
  {
   "cell_type": "markdown",
   "metadata": {},
   "source": [
    "## Vergleiche die beiden Quellen"
   ]
  },
  {
   "cell_type": "code",
   "execution_count": null,
   "metadata": {},
   "outputs": [],
   "source": [
    "df_fq = outerjoin(df_p_fq, df_fq_ids, on = :id => :wiag);\n",
    "nrow(df_fq)"
   ]
  },
  {
   "cell_type": "markdown",
   "metadata": {},
   "source": [
    "Die Zahl ist größer als die Zahl der Einträge in `df_p_fq` aus WIAG, weil in der Liste aus FactGrid die Bischöfe auch enthalten sind."
   ]
  },
  {
   "cell_type": "code",
   "execution_count": null,
   "metadata": {},
   "outputs": [],
   "source": [
    "names(df_fq)"
   ]
  },
  {
   "cell_type": "markdown",
   "metadata": {},
   "source": [
    "Ermittle die Einträge mit FactGrid-ID in WIAG aber ohne Eintrag in FactGrid."
   ]
  },
  {
   "cell_type": "code",
   "execution_count": null,
   "metadata": {},
   "outputs": [],
   "source": [
    "a_mg_b(a, b) = !ismissing(a) && ismissing(b)"
   ]
  },
  {
   "cell_type": "code",
   "execution_count": null,
   "metadata": {},
   "outputs": [],
   "source": [
    "df_p_only = subset(df_fq, [:FactGrid_ID, :q_id] => ByRow(a_mg_b))"
   ]
  },
  {
   "cell_type": "markdown",
   "metadata": {},
   "source": [
    "Ermittle die Einträge mit unterschiedlichen Werten für die FactGrid-ID"
   ]
  },
  {
   "cell_type": "code",
   "execution_count": null,
   "metadata": {},
   "outputs": [],
   "source": [
    "missing_or_equal(a, b) = ismissing(a) || ismissing(b) || a == b"
   ]
  },
  {
   "cell_type": "code",
   "execution_count": null,
   "metadata": {},
   "outputs": [],
   "source": [
    "df_diff = subset(df_fq, [:FactGrid_ID, :q_id] => ByRow(!missing_or_equal))"
   ]
  },
  {
   "cell_type": "markdown",
   "metadata": {},
   "source": [
    "Sortiere die Bischöfe wieder aus. (Nach der Prüfung auf ungleiche IDs!) "
   ]
  },
  {
   "cell_type": "code",
   "execution_count": null,
   "metadata": {},
   "outputs": [],
   "source": [
    "is_gatz_id(s) = occursin(\"EPISCGatz\", s)"
   ]
  },
  {
   "cell_type": "code",
   "execution_count": null,
   "metadata": {},
   "outputs": [],
   "source": [
    "subset!(df_fq, :id => ByRow(!is_gatz_id))\n",
    "nrow(df_fq)"
   ]
  },
  {
   "cell_type": "markdown",
   "metadata": {},
   "source": [
    "Zahl der neu einzutragenden FactGrid-IDs: Einträge mit einer ID im FactGrid, aber nicht in WIAG"
   ]
  },
  {
   "cell_type": "code",
   "execution_count": null,
   "metadata": {},
   "outputs": [],
   "source": [
    "df_insert = subset(df_fq, [:q_id, :FactGrid_ID] => ByRow(a_mg_b));\n",
    "nrow(df_insert)"
   ]
  },
  {
   "cell_type": "markdown",
   "metadata": {},
   "source": [
    "Beispiel für das SQL-insert Statement, das in der Folge automatisch für jede Zeile in `df_insert` erzeugt wird.\n",
    "``` sql\n",
    "INSERT INTO url_external (item_id, value, authority_id)\n",
    "\t    SELECT item_id, 'Q648993', 42 FROM item_corpus\n",
    "\t    WHERE id_public = \"WIAG-Pers-EPISCGatz-02525-001\";\n",
    "```"
   ]
  },
  {
   "cell_type": "code",
   "execution_count": null,
   "metadata": {},
   "outputs": [],
   "source": [
    "function make_insert_stmt(fq_id, wiag_id)\n",
    "    return \"\"\"\n",
    "    INSERT INTO url_external (item_id, value, authority_id)\n",
    "    SELECT item_id, '$(fq_id)', 42 FROM item_corpus\n",
    "    WHERE id_public = \"$(wiag_id)\";\n",
    "    \"\"\"\n",
    "end"
   ]
  },
  {
   "cell_type": "markdown",
   "metadata": {},
   "source": [
    "Schreibe eine Datei mit SQL-Statements, mit der die FactGrid IDs in die Tabelle `url_external` eingelesen werden können."
   ]
  },
  {
   "cell_type": "code",
   "execution_count": null,
   "metadata": {},
   "outputs": [],
   "source": [
    "output_file = \"insert-uext-can_2023-12-18.sql\"\n",
    "output_file_path = joinpath(output_path, output_file)"
   ]
  },
  {
   "cell_type": "code",
   "execution_count": null,
   "metadata": {},
   "outputs": [],
   "source": [
    "open(output_file_path, \"w\") do out\n",
    "    println(out, \"LOCK TABLES url_external WRITE, item_corpus WRITE;\")\n",
    "    for row in eachrow(df_insert)\n",
    "        println(out, make_insert_stmt(row[:q_id], row[:id]))\n",
    "    end\n",
    "    println(out, \"UNLOCK TABLES;\")\n",
    "end"
   ]
  },
  {
   "cell_type": "markdown",
   "metadata": {},
   "source": [
    "\n",
    "Lies die entstandene Datei in die WIAG-Datenbank ein. Die Datei kann z.B. über phpMyAdmin in eine Datenbank eingelesen werden. Nachdem die Datenbank dort ausgewählt ist, wählt man im Menu den Punkt \"Import\", setzt die Datei ein über \"Durchsuchen\" und startet den Import mit \"Ok\"."
   ]
  },
  {
   "cell_type": "code",
   "execution_count": null,
   "metadata": {},
   "outputs": [],
   "source": []
  },
  {
   "cell_type": "code",
   "execution_count": null,
   "metadata": {},
   "outputs": [],
   "source": []
  },
  {
   "cell_type": "code",
   "execution_count": null,
   "metadata": {},
   "outputs": [],
   "source": []
  },
  {
   "cell_type": "code",
   "execution_count": null,
   "metadata": {},
   "outputs": [],
   "source": []
  },
  {
   "cell_type": "code",
   "execution_count": null,
   "metadata": {},
   "outputs": [],
   "source": []
  },
  {
   "cell_type": "code",
   "execution_count": null,
   "metadata": {},
   "outputs": [],
   "source": []
  }
 ],
 "metadata": {
  "kernelspec": {
   "display_name": "Julia 1.8.2",
   "language": "julia",
   "name": "julia-1.8"
  },
  "language_info": {
   "file_extension": ".jl",
   "mimetype": "application/julia",
   "name": "julia",
   "version": "1.8.2"
  }
 },
 "nbformat": 4,
 "nbformat_minor": 4
}
