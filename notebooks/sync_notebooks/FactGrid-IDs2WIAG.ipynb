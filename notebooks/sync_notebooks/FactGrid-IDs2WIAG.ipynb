{
 "cells": [
  {
   "cell_type": "markdown",
   "metadata": {},
   "source": [
    "# Datenaustausch WIAG/FactGrid, Teil 1\n",
    "## Lies FactGrid-IDs in WIAG ein.\n",
    "\n",
    "Wenn IDs im FactGrid manuell recherchiert worden sind und in WIAG eingetragen wurden, dann ist zu prüfen, ob zunächst die entsprechenden WIAG-IDs auch manuell in FactGrid eingetragen werden sollen."
   ]
  },
  {
   "cell_type": "markdown",
   "metadata": {},
   "source": [
    "- Lies die aktuellen FQ-IDs aus WIAG ein. \n",
    "- Lies die aktuellen WIAG-IDs aus FactGrid ein.\n",
    "- Prüfe in Bezug auf die WIAG-ID auf doppelte Einträge in WIAG, in FactGrid und auf unterschiedliche Zuordnungen in WIAG und FactGrid\n",
    "- Entferne Einträge, die im FactGrid schon eine ID haben."
   ]
  },
  {
   "cell_type": "code",
   "execution_count": 82,
   "metadata": {},
   "outputs": [],
   "source": [
    "using DataFrames, CSV, HTTP, CodecZlib, Dates"
   ]
  },
  {
   "cell_type": "code",
   "execution_count": 83,
   "metadata": {},
   "outputs": [
    {
     "data": {
      "text/plain": [
       "\"C:\\\\Users\\\\khan32\\\\Documents\\\\factgrid-test-import\\\\data\\\\FactGrid\""
      ]
     },
     "execution_count": 83,
     "metadata": {},
     "output_type": "execute_result"
    }
   ],
   "source": [
    "input_path = \"C:\\\\Users\\\\khan32\\\\Documents\\\\factgrid-test-import\\\\data\\\\FactGrid\""
   ]
  },
  {
   "cell_type": "code",
   "execution_count": 84,
   "metadata": {},
   "outputs": [
    {
     "data": {
      "text/plain": [
       "\"C:\\\\Users\\\\khan32\\\\Documents\\\\factgrid-test-import\\\\data_sql\""
      ]
     },
     "execution_count": 84,
     "metadata": {},
     "output_type": "execute_result"
    }
   ],
   "source": [
    "output_path = \"C:\\\\Users\\\\khan32\\\\Documents\\\\factgrid-test-import\\\\data_sql\""
   ]
  },
  {
   "cell_type": "markdown",
   "metadata": {},
   "source": [
    "## Lies und prüfe die IDs aus FactGrid"
   ]
  },
  {
   "cell_type": "markdown",
   "metadata": {},
   "source": [
    "Frage IDs im FactGrid ab (SPARQL) und speichere das Ergebnis in einer `*.tsv`-Datei.  \n",
    "https://database.factgrid.de/query/\n",
    "\n",
    "\n",
    "``` sparql\n",
    "SELECT DISTINCT ?item ?itemLabel ?wiag\n",
    "\tWHERE\n",
    "\t{\n",
    "\t  ?item wdt:P601 ?wiag.\n",
    "\t  ?item wdt:P2 wd:Q7\n",
    "\t    SERVICE wikibase:label { bd:serviceParam wikibase:language \"[AUTO_LANGUAGE],en\". }\n",
    "\t}    \n",
    "\n",
    "```"
   ]
  },
  {
   "cell_type": "markdown",
   "metadata": {},
   "source": [
    "Download a csv file using the query given."
   ]
  },
  {
   "cell_type": "code",
   "execution_count": 85,
   "metadata": {},
   "outputs": [
    {
     "data": {
      "text/plain": [
       "HTTP.Messages.Response:\n",
       "\"\"\"\n",
       "HTTP/1.1 200 OK\r\n",
       "Date: Wed, 24 Apr 2024 11:45:11 GMT\r\n",
       "Server: Jetty(9.4.12.v20180830)\r\n",
       "Content-Type: text/csv;charset=utf-8\r\n",
       "Content-disposition: attachment; filename=query35559.csv\r\n",
       "X-FIRST-SOLUTION-MILLIS: 8\r\n",
       "Access-Control-Allow-Origin: *\r\n",
       "Transfer-Encoding: chunked\r\n",
       "\r\n",
       "item,itemLabel,wiag\r\n",
       "https://database.factgrid.de/entity/Q77343,Georg Friedrich Theodor von Witzendorff,WIAG-Pers-CANON-26965-001\r\n",
       "https://database.factgrid.de/entity/Q102444,Christof von Kesselstatt,WIAG-Pers-CANON-10981-001\r\n",
       "https://database.factgrid.de/entity/Q140745,Detlev Joachim von Brockdorff,WIAG-Pers-CANON-26937-001\r\n",
       "https://database.factgrid.de/entity/Q140685,Friedrich Carl Schnoor,WIAG-Pers-CANON-27011-001\r\n",
       "https://database.factgrid.de/entity/Q140710,Friedrich Ludwig von Moltke,WIAG-Pers-CANON-26943-001\r\n",
       "https://database.factgrid.de/entity/Q144133,Joseph Anton Siegmund von Beroldingen,WIAG-Pers-CANON-10894-001\r\n",
       "https://database.factgrid.de/entity/Q146400,Franz Paul Christoph Freiherr von Seckendorff,WIAG-Pers-CANON-26996-001\r\n",
       "https://database.factgrid.de/entity/Q148441,Detlev Hans von Schmettau,WIAG-Pers-CANON-26969-001\r\n",
       "https://database.factgrid.de/entity/Q164289,Johannes Meynesti,WIAG-Pers-CANON-20098-001\r\n",
       "https://database.factgrid.de/entity/Q165166,Paul Burchard Joseph vo\n",
       "⋮\n",
       "1096302-byte body\n",
       "\"\"\""
      ]
     },
     "execution_count": 85,
     "metadata": {},
     "output_type": "execute_result"
    }
   ],
   "source": [
    "r = HTTP.request(\"GET\", \"https://database.factgrid.de/sparql\", \n",
    "    Dict(\"Accept\" => \"text/csv\"); \n",
    "    query=Dict(\"query\" => \"\"\"SELECT DISTINCT ?item ?itemLabel ?wiag\n",
    "    WHERE\n",
    "    {\n",
    "      ?item wdt:P601 ?wiag.\n",
    "      ?item wdt:P2 wd:Q7\n",
    "        SERVICE wikibase:label { bd:serviceParam wikibase:language \"[AUTO_LANGUAGE],en\". }\n",
    "    }    \n",
    "\"\"\"))"
   ]
  },
  {
   "cell_type": "markdown",
   "metadata": {},
   "source": [
    "Save the downloaded csv file."
   ]
  },
  {
   "cell_type": "code",
   "execution_count": 86,
   "metadata": {},
   "outputs": [],
   "source": [
    "tsv_file = \"FactGrid-IDs_\" * Dates.format(now(), \"yyyy-mm-dd-HH-MM-SS\") * \".csv\"\n",
    "tsv_file_path = joinpath(input_path, tsv_file)\n",
    "open(tsv_file_path, \"w\") do out\n",
    "    println(out, String(r.body))\n",
    "end"
   ]
  },
  {
   "cell_type": "code",
   "execution_count": null,
   "metadata": {},
   "outputs": [],
   "source": []
  },
  {
   "cell_type": "markdown",
   "metadata": {},
   "source": [
    "Lies die Daten ein. Gib die Zahl der Einträge aus."
   ]
  },
  {
   "cell_type": "code",
   "execution_count": 87,
   "metadata": {},
   "outputs": [
    {
     "data": {
      "text/plain": [
       "\"C:\\\\Users\\\\khan32\\\\Documents\\\\factgrid-test-import\\\\data\\\\FactGrid\\\\FactGrid-IDs_2024-04-24-13-45-19.csv\""
      ]
     },
     "execution_count": 87,
     "metadata": {},
     "output_type": "execute_result"
    }
   ],
   "source": [
    "#input_file = \"FactGrid-IDs_2024-03-26_1.tsv\"\n",
    "input_file = tsv_file\n",
    "input_path_file = joinpath(input_path, input_file)"
   ]
  },
  {
   "cell_type": "code",
   "execution_count": 88,
   "metadata": {},
   "outputs": [
    {
     "data": {
      "text/plain": [
       "11660"
      ]
     },
     "execution_count": 88,
     "metadata": {},
     "output_type": "execute_result"
    }
   ],
   "source": [
    "#df_fq_ids = CSV.read(input_path_file, DataFrame, delim = \"\\t\");\n",
    "df_fq_ids = CSV.read(input_path_file, DataFrame);\n",
    "nrow(df_fq_ids)"
   ]
  },
  {
   "cell_type": "markdown",
   "metadata": {},
   "source": [
    "Kontroll-Ausgabe"
   ]
  },
  {
   "cell_type": "code",
   "execution_count": 89,
   "metadata": {},
   "outputs": [
    {
     "data": {
      "text/html": [
       "<div><div style = \"float: left;\"><span>6×3 DataFrame</span></div><div style = \"clear: both;\"></div></div><div class = \"data-frame\" style = \"overflow-x: scroll;\"><table class = \"data-frame\" style = \"margin-bottom: 6px;\"><thead><tr class = \"header\"><th class = \"rowNumber\" style = \"font-weight: bold; text-align: right;\">Row</th><th style = \"text-align: left;\">item</th><th style = \"text-align: left;\">itemLabel</th><th style = \"text-align: left;\">wiag</th></tr><tr class = \"subheader headerLastRow\"><th class = \"rowNumber\" style = \"font-weight: bold; text-align: right;\"></th><th title = \"String\" style = \"text-align: left;\">String</th><th title = \"String\" style = \"text-align: left;\">String</th><th title = \"String31\" style = \"text-align: left;\">String31</th></tr></thead><tbody><tr><td class = \"rowNumber\" style = \"font-weight: bold; text-align: right;\">1</td><td style = \"text-align: left;\">https://database.factgrid.de/entity/Q254428</td><td style = \"text-align: left;\">Arnold von Rotberg</td><td style = \"text-align: left;\">WIAG-Pers-EPISCGatz-05560-001</td></tr><tr><td class = \"rowNumber\" style = \"font-weight: bold; text-align: right;\">2</td><td style = \"text-align: left;\">https://database.factgrid.de/entity/Q254416</td><td style = \"text-align: left;\">Berthold von Landsberg</td><td style = \"text-align: left;\">WIAG-Pers-EPISCGatz-05470-001</td></tr><tr><td class = \"rowNumber\" style = \"font-weight: bold; text-align: right;\">3</td><td style = \"text-align: left;\">https://database.factgrid.de/entity/Q254424</td><td style = \"text-align: left;\">Dietrich Schenk von Erbach</td><td style = \"text-align: left;\">WIAG-Pers-EPISCGatz-05586-001</td></tr><tr><td class = \"rowNumber\" style = \"font-weight: bold; text-align: right;\">4</td><td style = \"text-align: left;\">https://database.factgrid.de/entity/Q254420</td><td style = \"text-align: left;\">Johann Borsnitz</td><td style = \"text-align: left;\">WIAG-Pers-EPISCGatz-03013-001</td></tr><tr><td class = \"rowNumber\" style = \"font-weight: bold; text-align: right;\">5</td><td style = \"text-align: left;\">https://database.factgrid.de/entity/Q254601</td><td style = \"text-align: left;\">Friedrich zu Rhein</td><td style = \"text-align: left;\">WIAG-Pers-EPISCGatz-05679-001</td></tr><tr><td class = \"rowNumber\" style = \"font-weight: bold; text-align: right;\">6</td><td style = \"text-align: left;\">https://database.factgrid.de/entity/Q254922</td><td style = \"text-align: left;\">Burkhard von Warberg</td><td style = \"text-align: left;\">WIAG-Pers-EPISCGatz-05655-001</td></tr></tbody></table></div>"
      ],
      "text/latex": [
       "\\begin{tabular}{r|ccc}\n",
       "\t& item & itemLabel & wiag\\\\\n",
       "\t\\hline\n",
       "\t& String & String & String31\\\\\n",
       "\t\\hline\n",
       "\t1 & https://database.factgrid.de/entity/Q254428 & Arnold von Rotberg & WIAG-Pers-EPISCGatz-05560-001 \\\\\n",
       "\t2 & https://database.factgrid.de/entity/Q254416 & Berthold von Landsberg & WIAG-Pers-EPISCGatz-05470-001 \\\\\n",
       "\t3 & https://database.factgrid.de/entity/Q254424 & Dietrich Schenk von Erbach & WIAG-Pers-EPISCGatz-05586-001 \\\\\n",
       "\t4 & https://database.factgrid.de/entity/Q254420 & Johann Borsnitz & WIAG-Pers-EPISCGatz-03013-001 \\\\\n",
       "\t5 & https://database.factgrid.de/entity/Q254601 & Friedrich zu Rhein & WIAG-Pers-EPISCGatz-05679-001 \\\\\n",
       "\t6 & https://database.factgrid.de/entity/Q254922 & Burkhard von Warberg & WIAG-Pers-EPISCGatz-05655-001 \\\\\n",
       "\\end{tabular}\n"
      ],
      "text/plain": [
       "\u001b[1m6×3 DataFrame\u001b[0m\n",
       "\u001b[1m Row \u001b[0m│\u001b[1m item                              \u001b[0m\u001b[1m itemLabel                  \u001b[0m\u001b[1m wiag    \u001b[0m ⋯\n",
       "     │\u001b[90m String                            \u001b[0m\u001b[90m String                     \u001b[0m\u001b[90m String31\u001b[0m ⋯\n",
       "─────┼──────────────────────────────────────────────────────────────────────────\n",
       "   1 │ https://database.factgrid.de/ent…  Arnold von Rotberg          WIAG-Per ⋯\n",
       "   2 │ https://database.factgrid.de/ent…  Berthold von Landsberg      WIAG-Per\n",
       "   3 │ https://database.factgrid.de/ent…  Dietrich Schenk von Erbach  WIAG-Per\n",
       "   4 │ https://database.factgrid.de/ent…  Johann Borsnitz             WIAG-Per\n",
       "   5 │ https://database.factgrid.de/ent…  Friedrich zu Rhein          WIAG-Per ⋯\n",
       "   6 │ https://database.factgrid.de/ent…  Burkhard von Warberg        WIAG-Per\n",
       "\u001b[36m                                                                1 column omitted\u001b[0m"
      ]
     },
     "execution_count": 89,
     "metadata": {},
     "output_type": "execute_result"
    }
   ],
   "source": [
    "df_fq_ids[17:22, :]"
   ]
  },
  {
   "cell_type": "markdown",
   "metadata": {},
   "source": [
    "Extrahiere die Q-Nummer aus der Spalte `item`."
   ]
  },
  {
   "cell_type": "code",
   "execution_count": 90,
   "metadata": {},
   "outputs": [
    {
     "data": {
      "text/plain": [
       "find_fq_id (generic function with 1 method)"
      ]
     },
     "execution_count": 90,
     "metadata": {},
     "output_type": "execute_result"
    }
   ],
   "source": [
    "find_fq_id(s) = last(split(s, \"/\"))"
   ]
  },
  {
   "cell_type": "code",
   "execution_count": 91,
   "metadata": {},
   "outputs": [],
   "source": [
    "transform!(df_fq_ids, :item => ByRow(find_fq_id) => :q_id);"
   ]
  },
  {
   "cell_type": "markdown",
   "metadata": {},
   "source": [
    "**Finde doppelte Einträge in FactGrid**"
   ]
  },
  {
   "cell_type": "code",
   "execution_count": 92,
   "metadata": {},
   "outputs": [
    {
     "data": {
      "text/plain": [
       "(11660,)"
      ]
     },
     "execution_count": 92,
     "metadata": {},
     "output_type": "execute_result"
    }
   ],
   "source": [
    "df_fq_m = groupby(df_fq_ids, :wiag);\n",
    "size(df_fq_m)"
   ]
  },
  {
   "cell_type": "code",
   "execution_count": 93,
   "metadata": {},
   "outputs": [],
   "source": [
    "df_fq_m_count = combine(df_fq_m, nrow => :n);"
   ]
  },
  {
   "cell_type": "markdown",
   "metadata": {},
   "source": [
    "Zeige, WIAG-Nummern, die in FactGrid für mehrere Items verwendet werden."
   ]
  },
  {
   "cell_type": "code",
   "execution_count": 94,
   "metadata": {},
   "outputs": [
    {
     "data": {
      "text/html": [
       "<div><div style = \"float: left;\"><span>0×2 DataFrame</span></div><div style = \"clear: both;\"></div></div><div class = \"data-frame\" style = \"overflow-x: scroll;\"><table class = \"data-frame\" style = \"margin-bottom: 6px;\"><thead><tr class = \"header\"><th class = \"rowNumber\" style = \"font-weight: bold; text-align: right;\">Row</th><th style = \"text-align: left;\">wiag</th><th style = \"text-align: left;\">n</th></tr><tr class = \"subheader headerLastRow\"><th class = \"rowNumber\" style = \"font-weight: bold; text-align: right;\"></th><th title = \"String31\" style = \"text-align: left;\">String31</th><th title = \"Int64\" style = \"text-align: left;\">Int64</th></tr></thead><tbody></tbody></table></div>"
      ],
      "text/latex": [
       "\\begin{tabular}{r|cc}\n",
       "\t& wiag & n\\\\\n",
       "\t\\hline\n",
       "\t& String31 & Int64\\\\\n",
       "\t\\hline\n",
       "\\end{tabular}\n"
      ],
      "text/plain": [
       "\u001b[1m0×2 DataFrame\u001b[0m\n",
       "\u001b[1m Row \u001b[0m│\u001b[1m wiag     \u001b[0m\u001b[1m n     \u001b[0m\n",
       "     │\u001b[90m String31 \u001b[0m\u001b[90m Int64 \u001b[0m\n",
       "─────┴─────────────────"
      ]
     },
     "execution_count": 94,
     "metadata": {},
     "output_type": "execute_result"
    }
   ],
   "source": [
    "df_fq_m_2 = subset(df_fq_m_count, :n => ByRow(n -> n > 1))"
   ]
  },
  {
   "cell_type": "markdown",
   "metadata": {},
   "source": [
    "Falls es Mehrfacheinträge gibt: Erhalte mehr Informationen durch einen Filter für diese Einträge. Die unten angegebenen WIAG-Nummern sind Beispiele, welche durch die WIAG-Nummern der vorangegangenen, aktuellen Ausgabe ersetzt werden müssen."
   ]
  },
  {
   "cell_type": "code",
   "execution_count": 95,
   "metadata": {},
   "outputs": [
    {
     "data": {
      "text/plain": [
       "2-element Vector{String}:\n",
       " \"WIAG-Pers-CANON-11582-001\"\n",
       " \"WIAG-Pers-CANON-15754-001\""
      ]
     },
     "execution_count": 95,
     "metadata": {},
     "output_type": "execute_result"
    }
   ],
   "source": [
    "wiag_mult = [\n",
    "    \"WIAG-Pers-CANON-11582-001\", \n",
    "    \"WIAG-Pers-CANON-15754-001\"\n",
    "]"
   ]
  },
  {
   "cell_type": "code",
   "execution_count": 96,
   "metadata": {},
   "outputs": [
    {
     "data": {
      "text/html": [
       "<div><div style = \"float: left;\"><span>2×4 DataFrame</span></div><div style = \"clear: both;\"></div></div><div class = \"data-frame\" style = \"overflow-x: scroll;\"><table class = \"data-frame\" style = \"margin-bottom: 6px;\"><thead><tr class = \"header\"><th class = \"rowNumber\" style = \"font-weight: bold; text-align: right;\">Row</th><th style = \"text-align: left;\">item</th><th style = \"text-align: left;\">itemLabel</th><th style = \"text-align: left;\">wiag</th><th style = \"text-align: left;\">q_id</th></tr><tr class = \"subheader headerLastRow\"><th class = \"rowNumber\" style = \"font-weight: bold; text-align: right;\"></th><th title = \"String\" style = \"text-align: left;\">String</th><th title = \"String\" style = \"text-align: left;\">String</th><th title = \"String31\" style = \"text-align: left;\">String31</th><th title = \"SubString{String}\" style = \"text-align: left;\">SubStrin…</th></tr></thead><tbody><tr><td class = \"rowNumber\" style = \"font-weight: bold; text-align: right;\">1</td><td style = \"text-align: left;\">https://database.factgrid.de/entity/Q509010</td><td style = \"text-align: left;\">Hermann of Baden-Baden</td><td style = \"text-align: left;\">WIAG-Pers-CANON-11582-001</td><td style = \"text-align: left;\">Q509010</td></tr><tr><td class = \"rowNumber\" style = \"font-weight: bold; text-align: right;\">2</td><td style = \"text-align: left;\">https://database.factgrid.de/entity/Q509641</td><td style = \"text-align: left;\">Francis Christopher Anton, Count of Hohenzollern-Sigmaringen</td><td style = \"text-align: left;\">WIAG-Pers-CANON-15754-001</td><td style = \"text-align: left;\">Q509641</td></tr></tbody></table></div>"
      ],
      "text/latex": [
       "\\begin{tabular}{r|ccc}\n",
       "\t& item & itemLabel & \\\\\n",
       "\t\\hline\n",
       "\t& String & String & \\\\\n",
       "\t\\hline\n",
       "\t1 & https://database.factgrid.de/entity/Q509010 & Hermann of Baden-Baden & $\\dots$ \\\\\n",
       "\t2 & https://database.factgrid.de/entity/Q509641 & Francis Christopher Anton, Count of Hohenzollern-Sigmaringen & $\\dots$ \\\\\n",
       "\\end{tabular}\n"
      ],
      "text/plain": [
       "\u001b[1m2×4 DataFrame\u001b[0m\n",
       "\u001b[1m Row \u001b[0m│\u001b[1m item                              \u001b[0m\u001b[1m itemLabel                         \u001b[0m\u001b[1m w\u001b[0m ⋯\n",
       "     │\u001b[90m String                            \u001b[0m\u001b[90m String                            \u001b[0m\u001b[90m S\u001b[0m ⋯\n",
       "─────┼──────────────────────────────────────────────────────────────────────────\n",
       "   1 │ https://database.factgrid.de/ent…  Hermann of Baden-Baden             W ⋯\n",
       "   2 │ https://database.factgrid.de/ent…  Francis Christopher Anton, Count…  W\n",
       "\u001b[36m                                                               2 columns omitted\u001b[0m"
      ]
     },
     "execution_count": 96,
     "metadata": {},
     "output_type": "execute_result"
    }
   ],
   "source": [
    "crit_wiag(s) = s in wiag_mult\n",
    "subset(df_fq_ids, :wiag => ByRow(crit_wiag))"
   ]
  },
  {
   "cell_type": "markdown",
   "metadata": {},
   "source": [
    "Falls es Mehrfacheinträge gibt, müssen diese redaktionell in FactGrid geprüft werden. Ggf. müssen dort Dubletten zusammengeführt werden; FactGrid-IDs, die dann nicht mehr existieren, werden in die folgende Filterliste eingetragen. Die beiden schon eingetragenen Beispiel-Q-IDs dafür überschrieben. Die Filterliste enthält Q-IDs, die **nicht** in WIAG übernommen werden sollen."
   ]
  },
  {
   "cell_type": "code",
   "execution_count": 97,
   "metadata": {},
   "outputs": [
    {
     "data": {
      "text/plain": [
       "crit_fq (generic function with 1 method)"
      ]
     },
     "execution_count": 97,
     "metadata": {},
     "output_type": "execute_result"
    }
   ],
   "source": [
    "crit_fq(s) = s in [\"Q646386\", \"Q646394\"]"
   ]
  },
  {
   "cell_type": "code",
   "execution_count": 98,
   "metadata": {},
   "outputs": [
    {
     "data": {
      "text/plain": [
       "11660"
      ]
     },
     "execution_count": 98,
     "metadata": {},
     "output_type": "execute_result"
    }
   ],
   "source": [
    "df_fq_ids = subset(df_fq_ids, :q_id => ByRow(!crit_fq));\n",
    "nrow(df_fq_ids)"
   ]
  },
  {
   "cell_type": "markdown",
   "metadata": {},
   "source": [
    "Die Ausgabe der folgenden Zelle sollte keine Mehrfacheinträge mehr enthalten."
   ]
  },
  {
   "cell_type": "code",
   "execution_count": 99,
   "metadata": {},
   "outputs": [
    {
     "data": {
      "text/html": [
       "<div><div style = \"float: left;\"><span>2×4 DataFrame</span></div><div style = \"clear: both;\"></div></div><div class = \"data-frame\" style = \"overflow-x: scroll;\"><table class = \"data-frame\" style = \"margin-bottom: 6px;\"><thead><tr class = \"header\"><th class = \"rowNumber\" style = \"font-weight: bold; text-align: right;\">Row</th><th style = \"text-align: left;\">item</th><th style = \"text-align: left;\">itemLabel</th><th style = \"text-align: left;\">wiag</th><th style = \"text-align: left;\">q_id</th></tr><tr class = \"subheader headerLastRow\"><th class = \"rowNumber\" style = \"font-weight: bold; text-align: right;\"></th><th title = \"String\" style = \"text-align: left;\">String</th><th title = \"String\" style = \"text-align: left;\">String</th><th title = \"String31\" style = \"text-align: left;\">String31</th><th title = \"SubString{String}\" style = \"text-align: left;\">SubStrin…</th></tr></thead><tbody><tr><td class = \"rowNumber\" style = \"font-weight: bold; text-align: right;\">1</td><td style = \"text-align: left;\">https://database.factgrid.de/entity/Q509010</td><td style = \"text-align: left;\">Hermann of Baden-Baden</td><td style = \"text-align: left;\">WIAG-Pers-CANON-11582-001</td><td style = \"text-align: left;\">Q509010</td></tr><tr><td class = \"rowNumber\" style = \"font-weight: bold; text-align: right;\">2</td><td style = \"text-align: left;\">https://database.factgrid.de/entity/Q509641</td><td style = \"text-align: left;\">Francis Christopher Anton, Count of Hohenzollern-Sigmaringen</td><td style = \"text-align: left;\">WIAG-Pers-CANON-15754-001</td><td style = \"text-align: left;\">Q509641</td></tr></tbody></table></div>"
      ],
      "text/latex": [
       "\\begin{tabular}{r|ccc}\n",
       "\t& item & itemLabel & \\\\\n",
       "\t\\hline\n",
       "\t& String & String & \\\\\n",
       "\t\\hline\n",
       "\t1 & https://database.factgrid.de/entity/Q509010 & Hermann of Baden-Baden & $\\dots$ \\\\\n",
       "\t2 & https://database.factgrid.de/entity/Q509641 & Francis Christopher Anton, Count of Hohenzollern-Sigmaringen & $\\dots$ \\\\\n",
       "\\end{tabular}\n"
      ],
      "text/plain": [
       "\u001b[1m2×4 DataFrame\u001b[0m\n",
       "\u001b[1m Row \u001b[0m│\u001b[1m item                              \u001b[0m\u001b[1m itemLabel                         \u001b[0m\u001b[1m w\u001b[0m ⋯\n",
       "     │\u001b[90m String                            \u001b[0m\u001b[90m String                            \u001b[0m\u001b[90m S\u001b[0m ⋯\n",
       "─────┼──────────────────────────────────────────────────────────────────────────\n",
       "   1 │ https://database.factgrid.de/ent…  Hermann of Baden-Baden             W ⋯\n",
       "   2 │ https://database.factgrid.de/ent…  Francis Christopher Anton, Count…  W\n",
       "\u001b[36m                                                               2 columns omitted\u001b[0m"
      ]
     },
     "execution_count": 99,
     "metadata": {},
     "output_type": "execute_result"
    }
   ],
   "source": [
    "subset(df_fq_ids, :wiag => ByRow(crit_wiag))"
   ]
  },
  {
   "cell_type": "markdown",
   "metadata": {},
   "source": [
    "## Lies und prüfe die FactGrid-IDs aus WIAG"
   ]
  },
  {
   "cell_type": "markdown",
   "metadata": {},
   "source": [
    "Exportiere Personendaten aus WIAG (https://wiag-vocab.adw-goe.de): Export-CSV Personendaten, speichere die Datei im Input-Ordner (siehe oben) unter dem Dateinamen WIAG-can.csv. Die Datei kann auch anders benannt werden, dann muss auch der Eintrag in der Zeile input_file geändert werden \n",
    "Letzer Export: Server LIVE, Datum 2023-12-18 12:20"
   ]
  },
  {
   "cell_type": "markdown",
   "metadata": {},
   "source": [
    "Lies die Personendaten aus WIAG ein."
   ]
  },
  {
   "cell_type": "code",
   "execution_count": 100,
   "metadata": {},
   "outputs": [],
   "source": [
    "# r = HTTP.request(\"POST\", \"http://wiag-vocab.adw-goe.de/download/csv/person/can\", \n",
    "#     Dict(\"Accept\" => \"text/csv\"), \n",
    "#     HTTP.Form(Dict(\n",
    "#         \"person_form[name]\" => \"\",\n",
    "#         \"person_form[domstift]\"=> \"\",\n",
    "#         \"person_form[office]\"=> \"\",\n",
    "#         \"person_form[place]\"=> \"\",\n",
    "#         \"person_form[year]\"=> \"\",\n",
    "#         \"person_form[someid]\"=> \"\",\n",
    "#         \"person_form[sortBy]\"=> \"domstift\",\n",
    "#         \"person_form[sortOrder]\"=> \"ASC\",\n",
    "#         \"person_form[corpus]\"=> \"can\",\n",
    "#         \"pageNumber\"=> [\"1\",\"1\"],\n",
    "#         \"person_form[stateFctCap]\"=> \"\",\n",
    "#         \"person_form[stateFctOfc]\"=> \"\",\n",
    "#         \"person_form[stateFctPlc]\"=> \"\",\n",
    "#         \"person_form[stateFctUrl]\"=> \"\",\n",
    "#         \"person_form[stateFctDioc]\"=> \"\",\n",
    "#         \"person_form[_token]\"=> \"5cbea5f890d070bbb4f0350f.FwxBYKsOwnzbM_dAhHfyOT2s6TzCBu2sMud65S3ufO8.fWMoDeFCs0vrdaZ09g63aVT9k3OIPonGR5c5rEvXO91-Si0yynyKGJljkA\"\n",
    "#     )); \n",
    "#     query=Dict(\"query\" => \"\"\"SELECT DISTINCT ?item ?itemLabel ?wiag\n",
    "#     WHERE\n",
    "#     {\n",
    "#       ?item wdt:P601 ?wiag.\n",
    "#       ?item wdt:P2 wd:Q7\n",
    "#         SERVICE wikibase:label { bd:serviceParam wikibase:language \"[AUTO_LANGUAGE],en\". }\n",
    "#     }    \n",
    "# \"\"\"))"
   ]
  },
  {
   "cell_type": "code",
   "execution_count": 101,
   "metadata": {},
   "outputs": [
    {
     "data": {
      "text/plain": [
       "\"C:\\\\Users\\\\khan32\\\\Documents\\\\factgrid-test-import\\\\data\\\\FactGrid\\\\WIAG-can_2024_04_24_whole.csv\""
      ]
     },
     "execution_count": 101,
     "metadata": {},
     "output_type": "execute_result"
    }
   ],
   "source": [
    "input_file = \"WIAG-can_2024_04_24_whole.csv\"\n",
    "input_path_file = joinpath(input_path, input_file)"
   ]
  },
  {
   "cell_type": "code",
   "execution_count": 102,
   "metadata": {},
   "outputs": [
    {
     "data": {
      "text/plain": [
       "15503"
      ]
     },
     "execution_count": 102,
     "metadata": {},
     "output_type": "execute_result"
    }
   ],
   "source": [
    "df_p = CSV.read(input_path_file, DataFrame);\n",
    "nrow(df_p)"
   ]
  },
  {
   "cell_type": "markdown",
   "metadata": {},
   "source": [
    "Wähle relevante Spalten aus."
   ]
  },
  {
   "cell_type": "code",
   "execution_count": 103,
   "metadata": {},
   "outputs": [],
   "source": [
    "df_p_fq = select(df_p, [:id, :FactGrid_ID, :corpus, :displayname]);"
   ]
  },
  {
   "cell_type": "markdown",
   "metadata": {},
   "source": [
    "## Vergleiche die beiden Quellen"
   ]
  },
  {
   "cell_type": "code",
   "execution_count": 104,
   "metadata": {},
   "outputs": [
    {
     "data": {
      "text/plain": [
       "19594"
      ]
     },
     "execution_count": 104,
     "metadata": {},
     "output_type": "execute_result"
    }
   ],
   "source": [
    "df_fq = outerjoin(df_p_fq, df_fq_ids, on = :id => :wiag);\n",
    "nrow(df_fq)"
   ]
  },
  {
   "cell_type": "markdown",
   "metadata": {},
   "source": [
    "Die Zahl ist größer als die Zahl der Einträge in `df_p_fq` aus WIAG, weil in der Liste aus FactGrid die Bischöfe auch enthalten sind."
   ]
  },
  {
   "cell_type": "code",
   "execution_count": 105,
   "metadata": {},
   "outputs": [
    {
     "data": {
      "text/plain": [
       "7-element Vector{String}:\n",
       " \"id\"\n",
       " \"FactGrid_ID\"\n",
       " \"corpus\"\n",
       " \"displayname\"\n",
       " \"item\"\n",
       " \"itemLabel\"\n",
       " \"q_id\""
      ]
     },
     "execution_count": 105,
     "metadata": {},
     "output_type": "execute_result"
    }
   ],
   "source": [
    "names(df_fq)"
   ]
  },
  {
   "cell_type": "markdown",
   "metadata": {},
   "source": [
    "Ermittle die Einträge mit FactGrid-ID in WIAG aber ohne Eintrag in FactGrid."
   ]
  },
  {
   "cell_type": "code",
   "execution_count": 106,
   "metadata": {},
   "outputs": [
    {
     "data": {
      "text/plain": [
       "a_mg_b (generic function with 1 method)"
      ]
     },
     "execution_count": 106,
     "metadata": {},
     "output_type": "execute_result"
    }
   ],
   "source": [
    "a_mg_b(a, b) = !ismissing(a) && ismissing(b)"
   ]
  },
  {
   "cell_type": "code",
   "execution_count": 107,
   "metadata": {},
   "outputs": [
    {
     "data": {
      "text/html": [
       "<div><div style = \"float: left;\"><span>1×7 DataFrame</span></div><div style = \"clear: both;\"></div></div><div class = \"data-frame\" style = \"overflow-x: scroll;\"><table class = \"data-frame\" style = \"margin-bottom: 6px;\"><thead><tr class = \"header\"><th class = \"rowNumber\" style = \"font-weight: bold; text-align: right;\">Row</th><th style = \"text-align: left;\">id</th><th style = \"text-align: left;\">FactGrid_ID</th><th style = \"text-align: left;\">corpus</th><th style = \"text-align: left;\">displayname</th><th style = \"text-align: left;\">item</th><th style = \"text-align: left;\">itemLabel</th><th style = \"text-align: left;\">q_id</th></tr><tr class = \"subheader headerLastRow\"><th class = \"rowNumber\" style = \"font-weight: bold; text-align: right;\"></th><th title = \"String31\" style = \"text-align: left;\">String31</th><th title = \"Union{Missing, String7}\" style = \"text-align: left;\">String7?</th><th title = \"Union{Missing, String15}\" style = \"text-align: left;\">String15?</th><th title = \"Union{Missing, String}\" style = \"text-align: left;\">String?</th><th title = \"Union{Missing, String}\" style = \"text-align: left;\">String?</th><th title = \"Union{Missing, String}\" style = \"text-align: left;\">String?</th><th title = \"Union{Missing, SubString{String}}\" style = \"text-align: left;\">SubStrin…?</th></tr></thead><tbody><tr><td class = \"rowNumber\" style = \"font-weight: bold; text-align: right;\">1</td><td style = \"text-align: left;\">WIAG-Pers-CANON-13861-001</td><td style = \"text-align: left;\">Q701486</td><td style = \"text-align: left;\">can</td><td style = \"text-align: left;\">Anton Eusebius Graf von Königsegg-Aulendorf (Ober-)Staufen und Ebenweiler</td><td style = \"font-style: italic; text-align: left;\">missing</td><td style = \"font-style: italic; text-align: left;\">missing</td><td style = \"font-style: italic; text-align: left;\">missing</td></tr></tbody></table></div>"
      ],
      "text/latex": [
       "\\begin{tabular}{r|ccccc}\n",
       "\t& id & FactGrid\\_ID & corpus & displayname & \\\\\n",
       "\t\\hline\n",
       "\t& String31 & String7? & String15? & String? & \\\\\n",
       "\t\\hline\n",
       "\t1 & WIAG-Pers-CANON-13861-001 & Q701486 & can & Anton Eusebius Graf von Königsegg-Aulendorf (Ober-)Staufen und Ebenweiler & $\\dots$ \\\\\n",
       "\\end{tabular}\n"
      ],
      "text/plain": [
       "\u001b[1m1×7 DataFrame\u001b[0m\n",
       "\u001b[1m Row \u001b[0m│\u001b[1m id                        \u001b[0m\u001b[1m FactGrid_ID \u001b[0m\u001b[1m corpus    \u001b[0m\u001b[1m displayname         \u001b[0m ⋯\n",
       "     │\u001b[90m String31                  \u001b[0m\u001b[90m String7?    \u001b[0m\u001b[90m String15? \u001b[0m\u001b[90m String?             \u001b[0m ⋯\n",
       "─────┼──────────────────────────────────────────────────────────────────────────\n",
       "   1 │ WIAG-Pers-CANON-13861-001  Q701486      can        Anton Eusebius Graf  ⋯\n",
       "\u001b[36m                                                               4 columns omitted\u001b[0m"
      ]
     },
     "execution_count": 107,
     "metadata": {},
     "output_type": "execute_result"
    }
   ],
   "source": [
    "df_p_only = subset(df_fq, [:FactGrid_ID, :q_id] => ByRow(a_mg_b))"
   ]
  },
  {
   "cell_type": "markdown",
   "metadata": {},
   "source": [
    "Ermittle die Einträge mit unterschiedlichen Werten für die FactGrid-ID"
   ]
  },
  {
   "cell_type": "code",
   "execution_count": 108,
   "metadata": {},
   "outputs": [
    {
     "data": {
      "text/plain": [
       "missing_or_equal (generic function with 1 method)"
      ]
     },
     "execution_count": 108,
     "metadata": {},
     "output_type": "execute_result"
    }
   ],
   "source": [
    "missing_or_equal(a, b) = ismissing(a) || ismissing(b) || a == b"
   ]
  },
  {
   "cell_type": "code",
   "execution_count": 109,
   "metadata": {},
   "outputs": [
    {
     "data": {
      "text/html": [
       "<div><div style = \"float: left;\"><span>3×7 DataFrame</span></div><div style = \"clear: both;\"></div></div><div class = \"data-frame\" style = \"overflow-x: scroll;\"><table class = \"data-frame\" style = \"margin-bottom: 6px;\"><thead><tr class = \"header\"><th class = \"rowNumber\" style = \"font-weight: bold; text-align: right;\">Row</th><th style = \"text-align: left;\">id</th><th style = \"text-align: left;\">FactGrid_ID</th><th style = \"text-align: left;\">corpus</th><th style = \"text-align: left;\">displayname</th><th style = \"text-align: left;\">item</th><th style = \"text-align: left;\">itemLabel</th><th style = \"text-align: left;\">q_id</th></tr><tr class = \"subheader headerLastRow\"><th class = \"rowNumber\" style = \"font-weight: bold; text-align: right;\"></th><th title = \"String31\" style = \"text-align: left;\">String31</th><th title = \"Union{Missing, String7}\" style = \"text-align: left;\">String7?</th><th title = \"Union{Missing, String15}\" style = \"text-align: left;\">String15?</th><th title = \"Union{Missing, String}\" style = \"text-align: left;\">String?</th><th title = \"Union{Missing, String}\" style = \"text-align: left;\">String?</th><th title = \"Union{Missing, String}\" style = \"text-align: left;\">String?</th><th title = \"Union{Missing, SubString{String}}\" style = \"text-align: left;\">SubStrin…?</th></tr></thead><tbody><tr><td class = \"rowNumber\" style = \"font-weight: bold; text-align: right;\">1</td><td style = \"text-align: left;\">WIAG-Pers-CANON-49064-001</td><td style = \"text-align: left;\">Q701452</td><td style = \"text-align: left;\">can</td><td style = \"text-align: left;\">Johann von Schaumberg</td><td style = \"text-align: left;\">https://database.factgrid.de/entity/Q883556</td><td style = \"text-align: left;\">Johann von Schaumberg</td><td style = \"text-align: left;\">Q883556</td></tr><tr><td class = \"rowNumber\" style = \"font-weight: bold; text-align: right;\">2</td><td style = \"text-align: left;\">WIAG-Pers-CANON-25919-001</td><td style = \"text-align: left;\">Q883726</td><td style = \"text-align: left;\">can</td><td style = \"text-align: left;\">Valentin Philipp von Nankenreuth</td><td style = \"text-align: left;\">https://database.factgrid.de/entity/Q729654</td><td style = \"text-align: left;\">Valentin Philipp von Nankenreuth</td><td style = \"text-align: left;\">Q729654</td></tr><tr><td class = \"rowNumber\" style = \"font-weight: bold; text-align: right;\">3</td><td style = \"text-align: left;\">WIAG-Pers-CANON-19541-001</td><td style = \"text-align: left;\">Q726649</td><td style = \"text-align: left;\">can</td><td style = \"text-align: left;\">Johannes Langeditrich</td><td style = \"text-align: left;\">https://database.factgrid.de/entity/Q480961</td><td style = \"text-align: left;\">Johannes Lange Diderick</td><td style = \"text-align: left;\">Q480961</td></tr></tbody></table></div>"
      ],
      "text/latex": [
       "\\begin{tabular}{r|ccccc}\n",
       "\t& id & FactGrid\\_ID & corpus & displayname & \\\\\n",
       "\t\\hline\n",
       "\t& String31 & String7? & String15? & String? & \\\\\n",
       "\t\\hline\n",
       "\t1 & WIAG-Pers-CANON-49064-001 & Q701452 & can & Johann von Schaumberg & $\\dots$ \\\\\n",
       "\t2 & WIAG-Pers-CANON-25919-001 & Q883726 & can & Valentin Philipp von Nankenreuth & $\\dots$ \\\\\n",
       "\t3 & WIAG-Pers-CANON-19541-001 & Q726649 & can & Johannes Langeditrich & $\\dots$ \\\\\n",
       "\\end{tabular}\n"
      ],
      "text/plain": [
       "\u001b[1m3×7 DataFrame\u001b[0m\n",
       "\u001b[1m Row \u001b[0m│\u001b[1m id                        \u001b[0m\u001b[1m FactGrid_ID \u001b[0m\u001b[1m corpus    \u001b[0m\u001b[1m displayname         \u001b[0m ⋯\n",
       "     │\u001b[90m String31                  \u001b[0m\u001b[90m String7?    \u001b[0m\u001b[90m String15? \u001b[0m\u001b[90m String?             \u001b[0m ⋯\n",
       "─────┼──────────────────────────────────────────────────────────────────────────\n",
       "   1 │ WIAG-Pers-CANON-49064-001  Q701452      can        Johann von Schaumber ⋯\n",
       "   2 │ WIAG-Pers-CANON-25919-001  Q883726      can        Valentin Philipp von\n",
       "   3 │ WIAG-Pers-CANON-19541-001  Q726649      can        Johannes Langeditric\n",
       "\u001b[36m                                                               4 columns omitted\u001b[0m"
      ]
     },
     "execution_count": 109,
     "metadata": {},
     "output_type": "execute_result"
    }
   ],
   "source": [
    "df_diff = subset(df_fq, [:FactGrid_ID, :q_id] => ByRow(!missing_or_equal))"
   ]
  },
  {
   "cell_type": "markdown",
   "metadata": {},
   "source": [
    "Sortiere die Bischöfe wieder aus. (Nach der Prüfung auf ungleiche IDs!) "
   ]
  },
  {
   "cell_type": "code",
   "execution_count": 110,
   "metadata": {},
   "outputs": [
    {
     "data": {
      "text/plain": [
       "is_gatz_id (generic function with 1 method)"
      ]
     },
     "execution_count": 110,
     "metadata": {},
     "output_type": "execute_result"
    }
   ],
   "source": [
    "is_gatz_id(s) = occursin(\"EPISCGatz\", s)"
   ]
  },
  {
   "cell_type": "code",
   "execution_count": 111,
   "metadata": {},
   "outputs": [
    {
     "data": {
      "text/plain": [
       "14429"
      ]
     },
     "execution_count": 111,
     "metadata": {},
     "output_type": "execute_result"
    }
   ],
   "source": [
    "subset!(df_fq, :id => ByRow(!is_gatz_id))\n",
    "nrow(df_fq)"
   ]
  },
  {
   "cell_type": "markdown",
   "metadata": {},
   "source": [
    "Zahl der neu einzutragenden FactGrid-IDs: Einträge mit einer ID im FactGrid, aber nicht in WIAG"
   ]
  },
  {
   "cell_type": "code",
   "execution_count": 112,
   "metadata": {},
   "outputs": [
    {
     "data": {
      "text/html": [
       "<div><div style = \"float: left;\"><span>90×7 DataFrame</span></div><div style = \"float: right;\"><span style = \"font-style: italic;\">65 rows omitted</span></div><div style = \"clear: both;\"></div></div><div class = \"data-frame\" style = \"overflow-x: scroll;\"><table class = \"data-frame\" style = \"margin-bottom: 6px;\"><thead><tr class = \"header\"><th class = \"rowNumber\" style = \"font-weight: bold; text-align: right;\">Row</th><th style = \"text-align: left;\">id</th><th style = \"text-align: left;\">FactGrid_ID</th><th style = \"text-align: left;\">corpus</th><th style = \"text-align: left;\">displayname</th><th style = \"text-align: left;\">item</th><th style = \"text-align: left;\">itemLabel</th><th style = \"text-align: left;\">q_id</th></tr><tr class = \"subheader headerLastRow\"><th class = \"rowNumber\" style = \"font-weight: bold; text-align: right;\"></th><th title = \"String31\" style = \"text-align: left;\">String31</th><th title = \"Union{Missing, String7}\" style = \"text-align: left;\">String7?</th><th title = \"Union{Missing, String15}\" style = \"text-align: left;\">String15?</th><th title = \"Union{Missing, String}\" style = \"text-align: left;\">String?</th><th title = \"Union{Missing, String}\" style = \"text-align: left;\">String?</th><th title = \"Union{Missing, String}\" style = \"text-align: left;\">String?</th><th title = \"Union{Missing, SubString{String}}\" style = \"text-align: left;\">SubStrin…?</th></tr></thead><tbody><tr><td class = \"rowNumber\" style = \"font-weight: bold; text-align: right;\">1</td><td style = \"text-align: left;\">WIAG-Pers-CANON-48917-001</td><td style = \"font-style: italic; text-align: left;\">missing</td><td style = \"text-align: left;\">can</td><td style = \"text-align: left;\">Sigismund von Leonrod</td><td style = \"text-align: left;\">https://database.factgrid.de/entity/Q900400</td><td style = \"text-align: left;\">Sigismund von Leonrod</td><td style = \"text-align: left;\">Q900400</td></tr><tr><td class = \"rowNumber\" style = \"font-weight: bold; text-align: right;\">2</td><td style = \"text-align: left;\">WIAG-Pers-CANON-48966-001</td><td style = \"font-style: italic; text-align: left;\">missing</td><td style = \"text-align: left;\">can</td><td style = \"text-align: left;\">Veit Truchseß von Pommersfelden</td><td style = \"text-align: left;\">https://database.factgrid.de/entity/Q900419</td><td style = \"text-align: left;\">Veit Truchseß von Pommersfelden</td><td style = \"text-align: left;\">Q900419</td></tr><tr><td class = \"rowNumber\" style = \"font-weight: bold; text-align: right;\">3</td><td style = \"text-align: left;\">WIAG-Pers-CANON-49026-001</td><td style = \"font-style: italic; text-align: left;\">missing</td><td style = \"text-align: left;\">can</td><td style = \"text-align: left;\">Gottfried von Wolfstein</td><td style = \"text-align: left;\">https://database.factgrid.de/entity/Q900437</td><td style = \"text-align: left;\">Gottfried von Wolfstein</td><td style = \"text-align: left;\">Q900437</td></tr><tr><td class = \"rowNumber\" style = \"font-weight: bold; text-align: right;\">4</td><td style = \"text-align: left;\">WIAG-Pers-CANON-49085-001</td><td style = \"font-style: italic; text-align: left;\">missing</td><td style = \"text-align: left;\">can</td><td style = \"text-align: left;\">Peter von Pienzenau</td><td style = \"text-align: left;\">https://database.factgrid.de/entity/Q900454</td><td style = \"text-align: left;\">Peter von Pienzenau</td><td style = \"text-align: left;\">Q900454</td></tr><tr><td class = \"rowNumber\" style = \"font-weight: bold; text-align: right;\">5</td><td style = \"text-align: left;\">WIAG-Pers-CANON-48815-001</td><td style = \"font-style: italic; text-align: left;\">missing</td><td style = \"text-align: left;\">can</td><td style = \"text-align: left;\">Heinrich Marschalk von Ebneth</td><td style = \"text-align: left;\">https://database.factgrid.de/entity/Q900353</td><td style = \"text-align: left;\">Heinrich Marschalk von Ebneth</td><td style = \"text-align: left;\">Q900353</td></tr><tr><td class = \"rowNumber\" style = \"font-weight: bold; text-align: right;\">6</td><td style = \"text-align: left;\">WIAG-Pers-CANON-48816-001</td><td style = \"font-style: italic; text-align: left;\">missing</td><td style = \"text-align: left;\">can</td><td style = \"text-align: left;\">Konrad von Stör</td><td style = \"text-align: left;\">https://database.factgrid.de/entity/Q900354</td><td style = \"text-align: left;\">Konrad von Stör</td><td style = \"text-align: left;\">Q900354</td></tr><tr><td class = \"rowNumber\" style = \"font-weight: bold; text-align: right;\">7</td><td style = \"text-align: left;\">WIAG-Pers-CANON-48840-001</td><td style = \"font-style: italic; text-align: left;\">missing</td><td style = \"text-align: left;\">can</td><td style = \"text-align: left;\">Werntho von Breitenstein</td><td style = \"text-align: left;\">https://database.factgrid.de/entity/Q900365</td><td style = \"text-align: left;\">Werntho von Breitenstein</td><td style = \"text-align: left;\">Q900365</td></tr><tr><td class = \"rowNumber\" style = \"font-weight: bold; text-align: right;\">8</td><td style = \"text-align: left;\">WIAG-Pers-CANON-48832-001</td><td style = \"font-style: italic; text-align: left;\">missing</td><td style = \"text-align: left;\">can</td><td style = \"text-align: left;\">Otto von Egloffstein</td><td style = \"text-align: left;\">https://database.factgrid.de/entity/Q900360</td><td style = \"text-align: left;\">Otto von Egloffstein</td><td style = \"text-align: left;\">Q900360</td></tr><tr><td class = \"rowNumber\" style = \"font-weight: bold; text-align: right;\">9</td><td style = \"text-align: left;\">WIAG-Pers-CANON-48833-001</td><td style = \"font-style: italic; text-align: left;\">missing</td><td style = \"text-align: left;\">can</td><td style = \"text-align: left;\">Hermann von Henneberg</td><td style = \"text-align: left;\">https://database.factgrid.de/entity/Q900361</td><td style = \"text-align: left;\">Hermann von Henneberg</td><td style = \"text-align: left;\">Q900361</td></tr><tr><td class = \"rowNumber\" style = \"font-weight: bold; text-align: right;\">10</td><td style = \"text-align: left;\">WIAG-Pers-CANON-48839-001</td><td style = \"font-style: italic; text-align: left;\">missing</td><td style = \"text-align: left;\">can</td><td style = \"text-align: left;\">Otto Wolf von Spanheim</td><td style = \"text-align: left;\">https://database.factgrid.de/entity/Q900364</td><td style = \"text-align: left;\">Otto Wolf von Spanheim</td><td style = \"text-align: left;\">Q900364</td></tr><tr><td class = \"rowNumber\" style = \"font-weight: bold; text-align: right;\">11</td><td style = \"text-align: left;\">WIAG-Pers-CANON-48842-001</td><td style = \"font-style: italic; text-align: left;\">missing</td><td style = \"text-align: left;\">can</td><td style = \"text-align: left;\">Heinrich Marschalk von Ebneth</td><td style = \"text-align: left;\">https://database.factgrid.de/entity/Q900366</td><td style = \"text-align: left;\">Heinrich Marschalk von Ebneth</td><td style = \"text-align: left;\">Q900366</td></tr><tr><td class = \"rowNumber\" style = \"font-weight: bold; text-align: right;\">12</td><td style = \"text-align: left;\">WIAG-Pers-CANON-26379-001</td><td style = \"font-style: italic; text-align: left;\">missing</td><td style = \"text-align: left;\">can</td><td style = \"text-align: left;\">Jakob von Tunfeld</td><td style = \"text-align: left;\">https://database.factgrid.de/entity/Q900327</td><td style = \"text-align: left;\">Jakob von Tunfeld</td><td style = \"text-align: left;\">Q900327</td></tr><tr><td class = \"rowNumber\" style = \"font-weight: bold; text-align: right;\">13</td><td style = \"text-align: left;\">WIAG-Pers-CANON-48875-001</td><td style = \"font-style: italic; text-align: left;\">missing</td><td style = \"text-align: left;\">can</td><td style = \"text-align: left;\">Werner von Hayn</td><td style = \"text-align: left;\">https://database.factgrid.de/entity/Q900382</td><td style = \"text-align: left;\">Werner von Hayn</td><td style = \"text-align: left;\">Q900382</td></tr><tr><td style = \"text-align: right;\">&vellip;</td><td style = \"text-align: right;\">&vellip;</td><td style = \"text-align: right;\">&vellip;</td><td style = \"text-align: right;\">&vellip;</td><td style = \"text-align: right;\">&vellip;</td><td style = \"text-align: right;\">&vellip;</td><td style = \"text-align: right;\">&vellip;</td><td style = \"text-align: right;\">&vellip;</td></tr><tr><td class = \"rowNumber\" style = \"font-weight: bold; text-align: right;\">79</td><td style = \"text-align: left;\">WIAG-Pers-CANON-84135-001</td><td style = \"font-style: italic; text-align: left;\">missing</td><td style = \"font-style: italic; text-align: left;\">missing</td><td style = \"font-style: italic; text-align: left;\">missing</td><td style = \"text-align: left;\">https://database.factgrid.de/entity/Q883734</td><td style = \"text-align: left;\">Lorenz von Würtzburg</td><td style = \"text-align: left;\">Q883734</td></tr><tr><td class = \"rowNumber\" style = \"font-weight: bold; text-align: right;\">80</td><td style = \"text-align: left;\">WIAG-Pers-CANON-84897-001</td><td style = \"font-style: italic; text-align: left;\">missing</td><td style = \"font-style: italic; text-align: left;\">missing</td><td style = \"font-style: italic; text-align: left;\">missing</td><td style = \"text-align: left;\">https://database.factgrid.de/entity/Q883777</td><td style = \"text-align: left;\">Werner von Aufseß</td><td style = \"text-align: left;\">Q883777</td></tr><tr><td class = \"rowNumber\" style = \"font-weight: bold; text-align: right;\">81</td><td style = \"text-align: left;\">WIAG-Pers-CANON-84879-001</td><td style = \"font-style: italic; text-align: left;\">missing</td><td style = \"font-style: italic; text-align: left;\">missing</td><td style = \"font-style: italic; text-align: left;\">missing</td><td style = \"text-align: left;\">https://database.factgrid.de/entity/Q883761</td><td style = \"text-align: left;\">Johannes von Seckendorf genannt Hörauf</td><td style = \"text-align: left;\">Q883761</td></tr><tr><td class = \"rowNumber\" style = \"font-weight: bold; text-align: right;\">82</td><td style = \"text-align: left;\">WIAG-Pers-CANON-84892-001</td><td style = \"font-style: italic; text-align: left;\">missing</td><td style = \"font-style: italic; text-align: left;\">missing</td><td style = \"font-style: italic; text-align: left;\">missing</td><td style = \"text-align: left;\">https://database.factgrid.de/entity/Q883772</td><td style = \"text-align: left;\">Siboto von Wichsenstein</td><td style = \"text-align: left;\">Q883772</td></tr><tr><td class = \"rowNumber\" style = \"font-weight: bold; text-align: right;\">83</td><td style = \"text-align: left;\">WIAG-Pers-CANON-85537-001</td><td style = \"font-style: italic; text-align: left;\">missing</td><td style = \"font-style: italic; text-align: left;\">missing</td><td style = \"font-style: italic; text-align: left;\">missing</td><td style = \"text-align: left;\">https://database.factgrid.de/entity/Q883789</td><td style = \"text-align: left;\">Benedikt Christoph von Freyberg</td><td style = \"text-align: left;\">Q883789</td></tr><tr><td class = \"rowNumber\" style = \"font-weight: bold; text-align: right;\">84</td><td style = \"text-align: left;\">WIAG-Pers-CANON-85617-001</td><td style = \"font-style: italic; text-align: left;\">missing</td><td style = \"font-style: italic; text-align: left;\">missing</td><td style = \"font-style: italic; text-align: left;\">missing</td><td style = \"text-align: left;\">https://database.factgrid.de/entity/Q883802</td><td style = \"text-align: left;\">Ernst Georg von Dernbach</td><td style = \"text-align: left;\">Q883802</td></tr><tr><td class = \"rowNumber\" style = \"font-weight: bold; text-align: right;\">85</td><td style = \"text-align: left;\">WIAG-Pers-CANON-88159-001</td><td style = \"font-style: italic; text-align: left;\">missing</td><td style = \"font-style: italic; text-align: left;\">missing</td><td style = \"font-style: italic; text-align: left;\">missing</td><td style = \"text-align: left;\">https://database.factgrid.de/entity/Q883821</td><td style = \"text-align: left;\">Georg von Aufseß</td><td style = \"text-align: left;\">Q883821</td></tr><tr><td class = \"rowNumber\" style = \"font-weight: bold; text-align: right;\">86</td><td style = \"text-align: left;\">WIAG-Pers-CANON-87469-001</td><td style = \"font-style: italic; text-align: left;\">missing</td><td style = \"font-style: italic; text-align: left;\">missing</td><td style = \"font-style: italic; text-align: left;\">missing</td><td style = \"text-align: left;\">https://database.factgrid.de/entity/Q883807</td><td style = \"text-align: left;\">Otto von Egloffstein</td><td style = \"text-align: left;\">Q883807</td></tr><tr><td class = \"rowNumber\" style = \"font-weight: bold; text-align: right;\">87</td><td style = \"text-align: left;\">WIAG-Pers-CANON-88034-001</td><td style = \"font-style: italic; text-align: left;\">missing</td><td style = \"font-style: italic; text-align: left;\">missing</td><td style = \"font-style: italic; text-align: left;\">missing</td><td style = \"text-align: left;\">https://database.factgrid.de/entity/Q883812</td><td style = \"text-align: left;\">Gottfried von Wolfstein</td><td style = \"text-align: left;\">Q883812</td></tr><tr><td class = \"rowNumber\" style = \"font-weight: bold; text-align: right;\">88</td><td style = \"text-align: left;\">WIAG-Pers-CANON-88158-001</td><td style = \"font-style: italic; text-align: left;\">missing</td><td style = \"font-style: italic; text-align: left;\">missing</td><td style = \"font-style: italic; text-align: left;\">missing</td><td style = \"text-align: left;\">https://database.factgrid.de/entity/Q883820</td><td style = \"text-align: left;\">Heinrich Marschalk von Ebneth</td><td style = \"text-align: left;\">Q883820</td></tr><tr><td class = \"rowNumber\" style = \"font-weight: bold; text-align: right;\">89</td><td style = \"text-align: left;\">WIAG-Pers-CANON-88253-001</td><td style = \"font-style: italic; text-align: left;\">missing</td><td style = \"font-style: italic; text-align: left;\">missing</td><td style = \"font-style: italic; text-align: left;\">missing</td><td style = \"text-align: left;\">https://database.factgrid.de/entity/Q883826</td><td style = \"text-align: left;\">Georg von Egloffstein</td><td style = \"text-align: left;\">Q883826</td></tr><tr><td class = \"rowNumber\" style = \"font-weight: bold; text-align: right;\">90</td><td style = \"text-align: left;\">WIAG-Pers-CANON-91083-001</td><td style = \"font-style: italic; text-align: left;\">missing</td><td style = \"font-style: italic; text-align: left;\">missing</td><td style = \"font-style: italic; text-align: left;\">missing</td><td style = \"text-align: left;\">https://database.factgrid.de/entity/Q883873</td><td style = \"text-align: left;\">Sigismund von Leonrod</td><td style = \"text-align: left;\">Q883873</td></tr></tbody></table></div>"
      ],
      "text/latex": [
       "\\begin{tabular}{r|ccccc}\n",
       "\t& id & FactGrid\\_ID & corpus & displayname & \\\\\n",
       "\t\\hline\n",
       "\t& String31 & String7? & String15? & String? & \\\\\n",
       "\t\\hline\n",
       "\t1 & WIAG-Pers-CANON-48917-001 & \\emph{missing} & can & Sigismund von Leonrod & $\\dots$ \\\\\n",
       "\t2 & WIAG-Pers-CANON-48966-001 & \\emph{missing} & can & Veit Truchseß von Pommersfelden & $\\dots$ \\\\\n",
       "\t3 & WIAG-Pers-CANON-49026-001 & \\emph{missing} & can & Gottfried von Wolfstein & $\\dots$ \\\\\n",
       "\t4 & WIAG-Pers-CANON-49085-001 & \\emph{missing} & can & Peter von Pienzenau & $\\dots$ \\\\\n",
       "\t5 & WIAG-Pers-CANON-48815-001 & \\emph{missing} & can & Heinrich Marschalk von Ebneth & $\\dots$ \\\\\n",
       "\t6 & WIAG-Pers-CANON-48816-001 & \\emph{missing} & can & Konrad von Stör & $\\dots$ \\\\\n",
       "\t7 & WIAG-Pers-CANON-48840-001 & \\emph{missing} & can & Werntho von Breitenstein & $\\dots$ \\\\\n",
       "\t8 & WIAG-Pers-CANON-48832-001 & \\emph{missing} & can & Otto von Egloffstein & $\\dots$ \\\\\n",
       "\t9 & WIAG-Pers-CANON-48833-001 & \\emph{missing} & can & Hermann von Henneberg & $\\dots$ \\\\\n",
       "\t10 & WIAG-Pers-CANON-48839-001 & \\emph{missing} & can & Otto Wolf von Spanheim & $\\dots$ \\\\\n",
       "\t11 & WIAG-Pers-CANON-48842-001 & \\emph{missing} & can & Heinrich Marschalk von Ebneth & $\\dots$ \\\\\n",
       "\t12 & WIAG-Pers-CANON-26379-001 & \\emph{missing} & can & Jakob von Tunfeld & $\\dots$ \\\\\n",
       "\t13 & WIAG-Pers-CANON-48875-001 & \\emph{missing} & can & Werner von Hayn & $\\dots$ \\\\\n",
       "\t14 & WIAG-Pers-CANON-48831-001 & \\emph{missing} & can & Georg von Seinsheim & $\\dots$ \\\\\n",
       "\t15 & WIAG-Pers-CANON-48853-001 & \\emph{missing} & can & Konrad von Streitberg & $\\dots$ \\\\\n",
       "\t16 & WIAG-Pers-CANON-48854-001 & \\emph{missing} & can & Otto von Henneberg & $\\dots$ \\\\\n",
       "\t17 & WIAG-Pers-CANON-48858-001 & \\emph{missing} & can & Heinrich von Streitberg & $\\dots$ \\\\\n",
       "\t18 & WIAG-Pers-CANON-48857-001 & \\emph{missing} & can & Michael von Herbilstadt & $\\dots$ \\\\\n",
       "\t19 & WIAG-Pers-CANON-48862-001 & \\emph{missing} & can & Matthias von Künsberg & $\\dots$ \\\\\n",
       "\t20 & WIAG-Pers-CANON-48865-001 & \\emph{missing} & can & Konrad von Aufseß & $\\dots$ \\\\\n",
       "\t21 & WIAG-Pers-CANON-48864-001 & \\emph{missing} & can & Konrad Stiebar von Buttenheim & $\\dots$ \\\\\n",
       "\t22 & WIAG-Pers-CANON-48867-001 & \\emph{missing} & can & Georg I. von Künsberg & $\\dots$ \\\\\n",
       "\t23 & WIAG-Pers-CANON-48881-001 & \\emph{missing} & can & Heinrich von Streitberg & $\\dots$ \\\\\n",
       "\t24 & WIAG-Pers-CANON-45753-001 & \\emph{missing} & can & Johann Neustetter genannt Stürmer & $\\dots$ \\\\\n",
       "\t25 & WIAG-Pers-CANON-48884-001 & \\emph{missing} & can & Georg I. Marschalk von Ebneth & $\\dots$ \\\\\n",
       "\t26 & WIAG-Pers-CANON-48891-001 & \\emph{missing} & can & Werner von Aufseß & $\\dots$ \\\\\n",
       "\t27 & WIAG-Pers-CANON-48900-001 & \\emph{missing} & can & Ulrich Stiebar von Buttenheim & $\\dots$ \\\\\n",
       "\t28 & WIAG-Pers-CANON-48912-001 & \\emph{missing} & can & Wolfram von Rotenhan & $\\dots$ \\\\\n",
       "\t29 & WIAG-Pers-CANON-48915-001 & \\emph{missing} & can & Otto Truchseß von Pommersfelden & $\\dots$ \\\\\n",
       "\t30 & WIAG-Pers-CANON-48916-001 & \\emph{missing} & can & Moritz von Rotenhan & $\\dots$ \\\\\n",
       "\t$\\dots$ & $\\dots$ & $\\dots$ & $\\dots$ & $\\dots$ &  \\\\\n",
       "\\end{tabular}\n"
      ],
      "text/plain": [
       "\u001b[1m90×7 DataFrame\u001b[0m\n",
       "\u001b[1m Row \u001b[0m│\u001b[1m id                        \u001b[0m\u001b[1m FactGrid_ID \u001b[0m\u001b[1m corpus    \u001b[0m\u001b[1m displayname         \u001b[0m ⋯\n",
       "     │\u001b[90m String31                  \u001b[0m\u001b[90m String7?    \u001b[0m\u001b[90m String15? \u001b[0m\u001b[90m String?             \u001b[0m ⋯\n",
       "─────┼──────────────────────────────────────────────────────────────────────────\n",
       "   1 │ WIAG-Pers-CANON-48917-001 \u001b[90m missing     \u001b[0m can        Sigismund von Leonro ⋯\n",
       "   2 │ WIAG-Pers-CANON-48966-001 \u001b[90m missing     \u001b[0m can        Veit Truchseß von Po\n",
       "   3 │ WIAG-Pers-CANON-49026-001 \u001b[90m missing     \u001b[0m can        Gottfried von Wolfst\n",
       "   4 │ WIAG-Pers-CANON-49085-001 \u001b[90m missing     \u001b[0m can        Peter von Pienzenau\n",
       "   5 │ WIAG-Pers-CANON-48815-001 \u001b[90m missing     \u001b[0m can        Heinrich Marschalk v ⋯\n",
       "   6 │ WIAG-Pers-CANON-48816-001 \u001b[90m missing     \u001b[0m can        Konrad von Stör\n",
       "   7 │ WIAG-Pers-CANON-48840-001 \u001b[90m missing     \u001b[0m can        Werntho von Breitens\n",
       "   8 │ WIAG-Pers-CANON-48832-001 \u001b[90m missing     \u001b[0m can        Otto von Egloffstein\n",
       "   9 │ WIAG-Pers-CANON-48833-001 \u001b[90m missing     \u001b[0m can        Hermann von Henneber ⋯\n",
       "  10 │ WIAG-Pers-CANON-48839-001 \u001b[90m missing     \u001b[0m can        Otto Wolf von Spanhe\n",
       "  11 │ WIAG-Pers-CANON-48842-001 \u001b[90m missing     \u001b[0m can        Heinrich Marschalk v\n",
       "  ⋮  │             ⋮                   ⋮           ⋮                     ⋮     ⋱\n",
       "  81 │ WIAG-Pers-CANON-84879-001 \u001b[90m missing     \u001b[0m\u001b[90m missing   \u001b[0m\u001b[90m missing             \u001b[0m\n",
       "  82 │ WIAG-Pers-CANON-84892-001 \u001b[90m missing     \u001b[0m\u001b[90m missing   \u001b[0m\u001b[90m missing             \u001b[0m ⋯\n",
       "  83 │ WIAG-Pers-CANON-85537-001 \u001b[90m missing     \u001b[0m\u001b[90m missing   \u001b[0m\u001b[90m missing             \u001b[0m\n",
       "  84 │ WIAG-Pers-CANON-85617-001 \u001b[90m missing     \u001b[0m\u001b[90m missing   \u001b[0m\u001b[90m missing             \u001b[0m\n",
       "  85 │ WIAG-Pers-CANON-88159-001 \u001b[90m missing     \u001b[0m\u001b[90m missing   \u001b[0m\u001b[90m missing             \u001b[0m\n",
       "  86 │ WIAG-Pers-CANON-87469-001 \u001b[90m missing     \u001b[0m\u001b[90m missing   \u001b[0m\u001b[90m missing             \u001b[0m ⋯\n",
       "  87 │ WIAG-Pers-CANON-88034-001 \u001b[90m missing     \u001b[0m\u001b[90m missing   \u001b[0m\u001b[90m missing             \u001b[0m\n",
       "  88 │ WIAG-Pers-CANON-88158-001 \u001b[90m missing     \u001b[0m\u001b[90m missing   \u001b[0m\u001b[90m missing             \u001b[0m\n",
       "  89 │ WIAG-Pers-CANON-88253-001 \u001b[90m missing     \u001b[0m\u001b[90m missing   \u001b[0m\u001b[90m missing             \u001b[0m\n",
       "  90 │ WIAG-Pers-CANON-91083-001 \u001b[90m missing     \u001b[0m\u001b[90m missing   \u001b[0m\u001b[90m missing             \u001b[0m ⋯\n",
       "\u001b[36m                                                   4 columns and 69 rows omitted\u001b[0m"
      ]
     },
     "execution_count": 112,
     "metadata": {},
     "output_type": "execute_result"
    }
   ],
   "source": [
    "subset(df_fq, [:q_id, :FactGrid_ID] => ByRow(a_mg_b))"
   ]
  },
  {
   "cell_type": "code",
   "execution_count": 113,
   "metadata": {},
   "outputs": [],
   "source": [
    "df_insert = subset(df_fq, [:q_id, :FactGrid_ID] => ByRow(a_mg_b));\n",
    "macro assert(ex)\n",
    "   return :( $ex ? nothing : throw(AssertionError($(string(ex)))) )\n",
    "end\n",
    "nrow(df_insert)\n",
    "@assert nrow(df_insert) < 500"
   ]
  },
  {
   "cell_type": "markdown",
   "metadata": {},
   "source": [
    "Beispiel für das SQL-insert Statement, das in der Folge automatisch für jede Zeile in `df_insert` erzeugt wird.\n",
    "``` sql\n",
    "INSERT INTO url_external (item_id, value, authority_id)\n",
    "\t    SELECT item_id, 'Q648993', 42 FROM item_corpus\n",
    "\t    WHERE id_public = \"WIAG-Pers-EPISCGatz-02525-001\";\n",
    "```"
   ]
  },
  {
   "cell_type": "code",
   "execution_count": 114,
   "metadata": {},
   "outputs": [
    {
     "data": {
      "text/plain": [
       "make_insert_stmt (generic function with 1 method)"
      ]
     },
     "execution_count": 114,
     "metadata": {},
     "output_type": "execute_result"
    }
   ],
   "source": [
    "function make_insert_stmt(fq_id, wiag_id)\n",
    "    return \"\"\"\n",
    "    INSERT INTO url_external (item_id, value, authority_id)\n",
    "    SELECT item_id, '$(fq_id)', 42 FROM item_corpus\n",
    "    WHERE id_public = \"$(wiag_id)\";\n",
    "    \"\"\"\n",
    "end"
   ]
  },
  {
   "cell_type": "markdown",
   "metadata": {},
   "source": [
    "Schreibe eine Datei mit SQL-Statements, mit der die FactGrid IDs in die Tabelle `url_external` eingelesen werden können."
   ]
  },
  {
   "cell_type": "code",
   "execution_count": 115,
   "metadata": {},
   "outputs": [
    {
     "data": {
      "text/plain": [
       "\"C:\\\\Users\\\\khan32\\\\Documents\\\\factgrid-test-import\\\\data_sql\\\\insert-uext-can_2024_04_24.sql\""
      ]
     },
     "execution_count": 115,
     "metadata": {},
     "output_type": "execute_result"
    }
   ],
   "source": [
    "output_file = \"insert-uext-can_2024_04_24.sql\"\n",
    "output_file_path = joinpath(output_path, output_file)"
   ]
  },
  {
   "cell_type": "code",
   "execution_count": 116,
   "metadata": {},
   "outputs": [],
   "source": [
    "open(output_file_path, \"w\") do out\n",
    "    println(out, \"LOCK TABLES url_external WRITE, item_corpus WRITE;\")\n",
    "    for row in eachrow(df_insert)\n",
    "        println(out, make_insert_stmt(row[:q_id], row[:id]))\n",
    "    end\n",
    "    println(out, \"UNLOCK TABLES;\")\n",
    "end"
   ]
  },
  {
   "cell_type": "markdown",
   "metadata": {},
   "source": [
    "\n",
    "Lies die entstandene Datei in die WIAG-Datenbank ein. Die Datei kann z.B. über phpMyAdmin in eine Datenbank eingelesen werden. Nachdem die Datenbank dort ausgewählt ist, wählt man im Menu den Punkt \"Import\", setzt die Datei ein über \"Durchsuchen\" und startet den Import mit \"Ok\"."
   ]
  },
  {
   "cell_type": "code",
   "execution_count": null,
   "metadata": {},
   "outputs": [],
   "source": []
  },
  {
   "cell_type": "code",
   "execution_count": null,
   "metadata": {},
   "outputs": [],
   "source": []
  },
  {
   "cell_type": "code",
   "execution_count": null,
   "metadata": {},
   "outputs": [],
   "source": []
  },
  {
   "cell_type": "code",
   "execution_count": null,
   "metadata": {},
   "outputs": [],
   "source": []
  },
  {
   "cell_type": "code",
   "execution_count": null,
   "metadata": {},
   "outputs": [],
   "source": []
  },
  {
   "cell_type": "code",
   "execution_count": null,
   "metadata": {},
   "outputs": [],
   "source": []
  }
 ],
 "metadata": {
  "kernelspec": {
   "display_name": "Julia 1.10.2",
   "language": "julia",
   "name": "julia-1.10"
  },
  "language_info": {
   "file_extension": ".jl",
   "mimetype": "application/julia",
   "name": "julia",
   "version": "1.10.2"
  }
 },
 "nbformat": 4,
 "nbformat_minor": 4
}
