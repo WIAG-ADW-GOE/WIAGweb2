{
 "cells": [
  {
   "cell_type": "markdown",
   "metadata": {},
   "source": [
    "# 7. FactGrid to Digitales Personenregister\n",
    "\n",
    "## Add Factgrid IDs in Personenregister"
   ]
  },
  {
   "cell_type": "markdown",
   "metadata": {},
   "source": [
    "This notebook helps ensure that the FactGrid IDs stored in the local \"Digitales Personenregister\" (DPr, digital index of persons) are correct and up to date.\n",
    "\n",
    "\n",
    "\n",
    "By checking which IDs match and which do not, the notebook identifies differences, such as records in FactGrid that aren’t in the Digitales Personenregister, or people in the DPr whose FactGrid ID is incorrect or outdated. After finding these differences, it creates an easy-to-use set of SQL commands, that can be run on the DPr database to fix the FactGrid IDs and ensure both sources of information match."
   ]
  },
  {
   "cell_type": "markdown",
   "metadata": {},
   "source": [
    "## 1. Export data from DPr\n",
    "\n",
    "\n",
    "\n",
    "For this step you have to **manually export the dataset** by opening and [phpMyAdmin (DPr)](https://personendatenbank.germania-sacra.de/phpmyadmin/):\n",
    "\n",
    " 1. log in\n",
    "\n",
    " 2. select the gso database\n",
    "\n",
    " 3. switch to the 'SQL' tab\n",
    "\n",
    " 4. copy the query below, paste it in the text field and click 'Go'\n",
    "\n",
    " 5. export the result to a csv file\n",
    "\n",
    "\n",
    "\n",
    "A detailed description can be found here: [Run_SQL_Query_and_Export_CSV.md](https://github.com/WIAG-ADW-GOE/WIAGweb2/blob/main/notebooks/sync_notebooks/docs/Run_SQL_Query_and_Export_CSV.md)"
   ]
  },
  {
   "cell_type": "markdown",
   "metadata": {},
   "source": [
    "```\n",
    "\n",
    "SELECT persons.factgrid, persons.id, gsn.nummer\n",
    "\n",
    "FROM items\n",
    "\n",
    "INNER JOIN persons ON persons.item_id = items.id AND persons.deleted=0 AND items.deleted=0 AND items.status = \"online\"\n",
    "\n",
    "INNER JOIN gsn ON gsn.item_id = items.id AND gsn.deleted=0\n",
    "\n",
    "```"
   ]
  },
  {
   "cell_type": "markdown",
   "metadata": {},
   "source": [
    "## 2. Import the file\n",
    "\n",
    "Please **move the downloaded files** to the `input_path` directory defined below or **change the `input_path`** to where the files are located."
   ]
  },
  {
   "cell_type": "code",
   "execution_count": null,
   "metadata": {},
   "outputs": [],
   "source": [
    "import requests\n",
    "import csv\n",
    "import os\n",
    "import pandas as pd\n",
    "import json\n",
    "import re\n",
    "import time\n",
    "from datetime import datetime, timedelta\n",
    "import math\n",
    "import traceback\n",
    "\n",
    "input_path = r\"C:\\Users\\Public\\WIAGweb2\\notebooks\\sync_notebooks\\input_files\"\n",
    "filename = 'persons.csv'"
   ]
  },
  {
   "cell_type": "code",
   "execution_count": null,
   "metadata": {},
   "outputs": [],
   "source": [
    "pr_df = pd.read_csv(os.path.join(input_path, filename), header = 0, names=[\"fg_id\", \"id\", \"gsn\"])"
   ]
  },
  {
   "cell_type": "markdown",
   "metadata": {},
   "source": [
    "## 3. Import data from FactGrid\n",
    "\n",
    "Data is downloaded and and cleaned for further processing automatically."
   ]
  },
  {
   "cell_type": "code",
   "execution_count": null,
   "metadata": {},
   "outputs": [],
   "source": [
    "url = 'https://database.factgrid.de/sparql'\n",
    "query = (\n",
    "\"\"\"SELECT ?item ?gsn WHERE {\n",
    "  ?item wdt:P472 ?gsn.\n",
    "}\"\"\")\n",
    "\n",
    "r = requests.get(url, params={'query': query}, headers={\"Accept\": \"application/json\"})\n",
    "data = r.json()\n",
    "factgrid_df = pd.json_normalize(data['results']['bindings'])\n",
    "\n",
    "len(factgrid_df)"
   ]
  },
  {
   "cell_type": "code",
   "execution_count": null,
   "metadata": {},
   "outputs": [],
   "source": [
    "#extract out q id\n",
    "def extract_qid(df, column):\n",
    "    df[column] = df[column].map(lambda x: x.strip('https://database.factgrid.de/entity/'))\n",
    "\n",
    "#drop irrelevant columns\n",
    "def drop_type_columns(df):\n",
    "    df.drop(columns=[column for column in df.columns if column.endswith('type')], inplace=True)\n",
    "    df.drop(columns=[column for column in df.columns if column.endswith('xml:lang')], inplace=True)"
   ]
  },
  {
   "cell_type": "code",
   "execution_count": null,
   "metadata": {},
   "outputs": [],
   "source": [
    "drop_type_columns(factgrid_df)\n",
    "extract_qid(factgrid_df, 'item.value')\n",
    "factgrid_df.columns = ['FactGrid_ID', 'gsn']"
   ]
  },
  {
   "cell_type": "markdown",
   "metadata": {},
   "source": [
    "## 4. Compare data from DPr and FG\n",
    "\n",
    "First the data is joined. Then two checks will be performed. These two cases need to be **handled manually** and will **not be updated automatically**. Generally it's a good idea to take care of these cases right away, but if that's not possible, you can also first let the notebook finish and later take care of the other cases.\n",
    "\n",
    "Joining the data and showing a sample to give an idea of what the data looks like."
   ]
  },
  {
   "cell_type": "code",
   "execution_count": null,
   "metadata": {},
   "outputs": [],
   "source": [
    "joined_df = factgrid_df.merge(pr_df, how='outer', on='gsn', suffixes=('_wiag', '_pd'), indicator=True)\n",
    "joined_df"
   ]
  },
  {
   "cell_type": "markdown",
   "metadata": {},
   "source": [
    "### Entries only in FG\n",
    "\n",
    "The output of the cell below shows entries in FG which point to entries that were not found in the DPr. These entries need to be **fixed manually**."
   ]
  },
  {
   "cell_type": "code",
   "execution_count": null,
   "metadata": {},
   "outputs": [],
   "source": [
    "joined_df[joined_df['_merge'] == 'left_only']"
   ]
  },
  {
   "cell_type": "markdown",
   "metadata": {},
   "source": [
    "From now on only entries that were found both in the DPr and FG and don't point to each other are considered, because these are the cases that need to be updated."
   ]
  },
  {
   "cell_type": "code",
   "execution_count": null,
   "metadata": {},
   "outputs": [],
   "source": [
    "unequal_df = joined_df[(joined_df['_merge'] == 'both') & (joined_df['FactGrid_ID'] != joined_df['fg_id'])]\n",
    "unequal_df"
   ]
  },
  {
   "cell_type": "markdown",
   "metadata": {},
   "source": [
    "### Finding possible duplicates\n",
    "\n",
    "Should any entries be shown, these need to be **fixed manually**. For this, the cell one further down will generate links to speed up the process."
   ]
  },
  {
   "cell_type": "code",
   "execution_count": null,
   "metadata": {},
   "outputs": [],
   "source": [
    "possible_dup = unequal_df[unequal_df['fg_id'].notna()]\n",
    "possible_dup"
   ]
  },
  {
   "cell_type": "markdown",
   "metadata": {},
   "source": [
    "generating links to check on FactGrid"
   ]
  },
  {
   "cell_type": "code",
   "execution_count": null,
   "metadata": {},
   "outputs": [],
   "source": [
    "linkify = lambda x : 'https://database.factgrid.de/wiki/Item:' + x \n",
    "for _, row in possible_dup.iterrows(): # if the DPr-entry points to a FactGrid-entry, but a different FG-entry points to the DPr-entry\n",
    "    print(linkify (row['FactGrid_ID']), linkify (row['fg_id']))"
   ]
  },
  {
   "cell_type": "markdown",
   "metadata": {},
   "source": [
    "once again ignoring the special cases and continuing on with the rest"
   ]
  },
  {
   "cell_type": "code",
   "execution_count": null,
   "metadata": {},
   "outputs": [],
   "source": [
    "to_be_updated_df = unequal_df[unequal_df['fg_id'].isna()]"
   ]
  },
  {
   "cell_type": "markdown",
   "metadata": {},
   "source": [
    "## 5. Update DPr\n",
    "\n",
    "### Generate SQL to update DPr\n",
    "\n",
    "Please **change the path** to where you want the SQL-file to be saved to."
   ]
  },
  {
   "cell_type": "code",
   "execution_count": null,
   "metadata": {},
   "outputs": [],
   "source": [
    "output_path = r\"C:\\Users\\Public\\WIAGweb2\\notebooks\\sync_notebooks\\output_files\""
   ]
  },
  {
   "cell_type": "code",
   "execution_count": null,
   "metadata": {},
   "outputs": [],
   "source": [
    "today_string = datetime.now().strftime('%Y-%m-%d')\n",
    "query = \"LOCK TABLES persons WRITE;\\n\"\n",
    "for _, row in to_be_updated_df.iterrows():\n",
    "    query += f\"\"\"\n",
    "    UPDATE persons\n",
    "    SET factgrid = '{row['FactGrid_ID']}'\n",
    "    WHERE id = {row['id']}; -- id: {row['gsn']}\n",
    "\"\"\"\n",
    "query += \"\\nUNLOCK TABLES;\"\n",
    "with open(os.path.join(output_path, f'update_pr_fg_ids_{today_string}.sql'), 'w') as file:\n",
    "    file.write(query)\n"
   ]
  },
  {
   "cell_type": "markdown",
   "metadata": {},
   "source": [
    "### Upload the file\n",
    "\n",
    "Once the file has been generated, please open [phpMyAdmin DPr](https://personendatenbank.germania-sacra.de/phpmyadmin/) and **run the SQL** there. First you need to select the database (gso) and then either:\n",
    "\n",
    " - go to the Import tab -> select the file -> click 'Ok' to run it\n",
    "\n",
    " - go to the SQL tab -> copy the contents of the file and paste them into the interface -> click 'Ok' to run it"
   ]
  }
 ],
 "metadata": {
  "language_info": {
   "codemirror_mode": {
    "name": "ipython",
    "version": 3
   },
   "file_extension": ".py",
   "mimetype": "text/x-python",
   "name": "python",
   "nbconvert_exporter": "python",
   "pygments_lexer": "ipython3",
   "version": 3
  }
 },
 "nbformat": 4,
 "nbformat_minor": 2
}
