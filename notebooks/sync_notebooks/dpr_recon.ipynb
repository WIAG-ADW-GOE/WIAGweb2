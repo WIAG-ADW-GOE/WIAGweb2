{
 "cells": [
  {
   "cell_type": "markdown",
   "metadata": {},
   "source": [
    "# 2. Update wiag id (in table persons) in Digitales Personenregister (DPr)\n",
    "\n",
    "\n",
    "\n",
    "Updates DPr with the WIAG IDs assigned to each person, ensuring DPr remains the primary and up-to-date source of data.\n",
    "\n",
    "## Requirements\n",
    "\n",
    "You need access to\n",
    "\n",
    " * WIAG database at https://vwebfile.gwdg.de/phpmyadmin/\n",
    "\n",
    " * Digitales Personenregister database at https://personendatenbank.germania-sacra.de/phpmyadmin/\n",
    "\n",
    "\n",
    "\n",
    "In you can't access the databases at the link above, please check if you are in the GWDG network. You can fix this by using the GWDG VPN.\n",
    "\n",
    "\n",
    "\n",
    "## Steps in the notebook\n",
    "\n",
    " 1. Export data from WIAG and DPr\n",
    "\n",
    "\n",
    "\n",
    " 2. Import the files\n",
    "\n",
    "\n",
    "\n",
    " 3. Check for problematic entries\n",
    "\n",
    "\n",
    "\n",
    " 4. Check for outdated entries\n",
    "\n",
    "\n",
    "\n",
    " 5. Generate SQL file to update the outdated entries in the Digitales Personenregister"
   ]
  },
  {
   "cell_type": "markdown",
   "metadata": {},
   "source": [
    "## 1. Export data from WIAG and DPr\n",
    "\n",
    "\n",
    "\n",
    "For this step you have to manually export the datasets by opening [phpMyAdmin WIAG](https://vwebfile.gwdg.de/phpmyadmin/) and [phpMyAdmin DPr](https://personendatenbank.germania-sacra.de/phpmyadmin/) each:\n",
    "\n",
    " 1. log in\n",
    "\n",
    " 2. select the 'gso' (DPr) or 'wiagvokabulare' (WIAG) database\n",
    "\n",
    " 3. switch to the 'SQL' tab\n",
    "\n",
    " 4. run the saved \"Step 2 of the sync notebooks\" sql query\n",
    "\n",
    " 5. export the result to a csv file\n",
    "\n",
    "\n",
    "\n",
    "A detailed description can be found here: [Run_SQL_Query_and_Export_CSV.md](https://github.com/WIAG-ADW-GOE/WIAGweb2/blob/main/notebooks/sync_notebooks/docs/Run_SQL_Query_and_Export_CSV.md) (As a backup, here are the saved queries: [WIAG](https://github.com/WIAG-ADW-GOE/WIAGweb2/blob/main/notebooks/sync_notebooks/scripts/get_wiag_data.sql) -- [DPr](https://github.com/WIAG-ADW-GOE/WIAGweb2/blob/main/notebooks/sync_notebooks/scripts/get_dpr_data.sql))\n",
    "\n",
    "\n",
    "\n",
    "\n",
    "\n",
    "## 2. Import the files\n",
    "\n",
    "Please move the downloaded files to the `input_path` directory defined below or change the `input_path` to where the files are located."
   ]
  },
  {
   "cell_type": "code",
   "execution_count": null,
   "metadata": {},
   "outputs": [],
   "source": [
    "import csv # first loading necessary libraries\n",
    "import os\n",
    "import pandas as pd\n",
    "import os\n",
    "\n",
    "#change this to where the csv file is located (e.g. C:\\Users\\<your_username_here>\\Downloads\\) or move the csv file to this directory\n",
    "input_path = r\"C:\\Users\\Public\\WIAGweb2\\notebooks\\sync_notebooks\\input_files\"\n",
    "\n",
    "wiag_file = 'item.csv' # change this in case you renamed the file\n",
    "dpr_file = 'persons.csv' # change this in case you renamed the file\n",
    "\n",
    "ic_df = pd.read_csv(os.path.join(input_path, wiag_file), names=[\"id\", \"wiag_id\", \"gsn\"])\n",
    "dpr_df = pd.read_csv(os.path.join(input_path, dpr_file), names=[\"wiag_id\", \"id\", \"gsn_table_id\", \"gsn\"])\n"
   ]
  },
  {
   "cell_type": "markdown",
   "metadata": {},
   "source": [
    "## 3. Check for problematic entries\n",
    "\n",
    "Any listed entries **need to be fixed manually** before once again exporting the updated data from WIAG and DPr\n",
    "\n",
    "\n",
    "\n",
    "First a list of known problematic entries (by GSN) in the DPr is created. These entries are linked to more than one entry in WIAG and it is unclear whether the different entries reference the same person or not, so they should simply be ignored for the rest of the script."
   ]
  },
  {
   "cell_type": "code",
   "execution_count": null,
   "metadata": {},
   "outputs": [],
   "source": [
    "gsns_of_known_problematic_wiag_entries = ['046-02872-001', '007-00413-001']"
   ]
  },
  {
   "cell_type": "markdown",
   "metadata": {},
   "source": [
    "### Check data from WIAG"
   ]
  },
  {
   "cell_type": "code",
   "execution_count": null,
   "metadata": {},
   "outputs": [],
   "source": [
    "ic_df[ic_df['gsn'].isna()] # checking for entries with an empty Germania Sacra Number field"
   ]
  },
  {
   "cell_type": "markdown",
   "metadata": {},
   "source": [
    "checking for entries that reference the same GSN"
   ]
  },
  {
   "cell_type": "code",
   "execution_count": null,
   "metadata": {},
   "outputs": [],
   "source": [
    "_duplicates = ic_df[ic_df.duplicated(subset = ['gsn'], keep = False)]\n",
    "_duplicates[~_duplicates['gsn'].isin(gsns_of_known_problematic_wiag_entries)].sort_values(by=['gsn']) # ignoring known entries"
   ]
  },
  {
   "cell_type": "markdown",
   "metadata": {},
   "source": [
    "### Check data from DPr"
   ]
  },
  {
   "cell_type": "code",
   "execution_count": null,
   "metadata": {},
   "outputs": [],
   "source": [
    "dpr_df[dpr_df['gsn'].isna()] # checking for entries with an empty Germania Sacra Number field"
   ]
  },
  {
   "cell_type": "code",
   "execution_count": null,
   "metadata": {},
   "outputs": [],
   "source": [
    "ic_df[ic_df.duplicated(subset = ['wiag_id'], keep = False)].sort_values(by = ['wiag_id']) # checking for entries with the same WIAG-ID\n"
   ]
  },
  {
   "cell_type": "markdown",
   "metadata": {},
   "source": [
    "## 4. Check for entries with (probably) outdated WIAG-IDs in DPr\n",
    "\n",
    "\n",
    "\n",
    "Compares the records downloaded from WIAG and DPr. The output lists entries with differing WIAG-IDs in WIAG and DPr. **Check a sample** to make sure the listed entries simply need their WIAG-ID updated and a reasonable amount of entries are listed! For this purpose the list is also saved as a csv-file. Should you be unsure, do not proceed, but contact Barbara Kroeger!\n",
    "\n",
    "\n",
    "\n",
    "Should the output be empty, there is nothing to be updated and you can proceed with the third notebook. Otherwise, proceed below."
   ]
  },
  {
   "cell_type": "code",
   "execution_count": null,
   "metadata": {},
   "outputs": [],
   "source": [
    "#Join the dataframes from WIAG and DPr\n",
    "joined_df = ic_df.merge(dpr_df, on='gsn', suffixes=('_wiag', '_dpr'))\n",
    "\n",
    "#Check for linked entries that don't have the same WIAG ID\n",
    "unequal_df = joined_df[joined_df['wiag_id_wiag'] != joined_df['wiag_id_dpr']]\n",
    "\n",
    "#remove known entries that should be ignored (defined in step \"Multiple records in WIAG for one GSN (manual fix)\")\n",
    "unequal_df = unequal_df[~unequal_df['gsn'].isin(gsns_of_known_problematic_wiag_entries)]\n",
    "\n",
    "unequal_df # print entries that will be updated"
   ]
  },
  {
   "cell_type": "markdown",
   "metadata": {},
   "source": [
    "Saving the list of entries to be updated as a csv-file for easier checking of proposed updates.\n",
    "\n",
    "Change the `output_path` to where you want the csv-file to be output."
   ]
  },
  {
   "cell_type": "code",
   "execution_count": null,
   "metadata": {},
   "outputs": [],
   "source": [
    "from datetime import datetime\n",
    "\n",
    "output_path = r\"C:\\Users\\Public\\WIAGweb2\\notebooks\\sync_notebooks\\output_files\"\n",
    "today_string = datetime.now().strftime('%Y-%m-%d')\n",
    "\n",
    "unequal_df.to_csv( \n",
    "    os.path.join(\n",
    "        output_path,\n",
    "        f'dpr_entries_to_be_updated_{today_string}.csv'\n",
    "    ),\n",
    "    index=False\n",
    ")\n"
   ]
  },
  {
   "cell_type": "markdown",
   "metadata": {},
   "source": [
    "## 5. Updating Digitales Personenregister\n",
    "\n",
    "### Generating the SQL-file\n",
    "\n",
    "Using the same `output_path` as above.\n",
    "\n"
   ]
  },
  {
   "cell_type": "code",
   "execution_count": null,
   "metadata": {},
   "outputs": [],
   "source": [
    "query = \"LOCK TABLES persons WRITE;\\n\"\n",
    "for row in unequal_df.itertuples():\n",
    "    query += f\"\"\"\n",
    "    UPDATE persons\n",
    "    SET wiag = '{row.wiag_id_wiag}'\n",
    "    WHERE id = {row.id_dpr}; -- id: {row.gsn}\n",
    "\"\"\"\n",
    "query += \"\\nUNLOCK TABLES;\"\n",
    "\n",
    "today_string = datetime.now().strftime('%Y-%m-%d')\n",
    "with open(os.path.join(output_path, f'update_dpr_{today_string}.sql'), 'w') as file:\n",
    "    file.write(query)\n"
   ]
  },
  {
   "cell_type": "markdown",
   "metadata": {},
   "source": [
    "### Upload the file\n",
    "\n",
    "Once the file has been generated, please open [phpMyAdmin DPr](https://personendatenbank.germania-sacra.de/phpmyadmin/) and run the SQL file there. First you need to select the database (gso) and then either:\n",
    "\n",
    " - go to the Import tab -> select the file -> click 'Ok' to run it\n",
    "\n",
    " - go to the SQL tab -> copy the contents of the file and paste them into the interface -> click 'Ok' to run it\n",
    "\n",
    "\n",
    "\n",
    "\n",
    "\n",
    "Once the update is done, you can continue with the next notebook (fg_and_WIAG-recon - combining former steps 3 and 4)"
   ]
  }
 ],
 "metadata": {
  "language_info": {
   "codemirror_mode": {
    "name": "ipython",
    "version": 3
   },
   "file_extension": ".py",
   "mimetype": "text/x-python",
   "name": "python",
   "nbconvert_exporter": "python",
   "pygments_lexer": "ipython3",
   "version": 3
  }
 },
 "nbformat": 4,
 "nbformat_minor": 2
}
