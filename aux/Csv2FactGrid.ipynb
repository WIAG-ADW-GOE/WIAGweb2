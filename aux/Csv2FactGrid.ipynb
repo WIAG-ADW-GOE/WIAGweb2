{
 "cells": [
  {
   "cell_type": "markdown",
   "metadata": {},
   "source": [
    "# Import von WIAG-Daten in FactGrid\n",
    "Formatiere CSV-Daten aus WIAG als V1-Statements für QuickSteps  \n",
    "siehe [Einführung in QuickStatements](https://www.wikidata.org/wiki/Help:QuickStatements)\n",
    "und die [Properties des FactGrid](https://database.factgrid.de/wiki/FactGrid:Directory_of_Properties)"
   ]
  },
  {
   "cell_type": "markdown",
   "metadata": {},
   "source": [
    "Inhalt:\n",
    "\n",
    "- [neue Objekte in FactGrid anlegen](#neue-Objekte-in-FactGrid-anlegen)"
   ]
  },
  {
   "cell_type": "code",
   "execution_count": 2,
   "metadata": {},
   "outputs": [],
   "source": [
    "using CSV, DataFrames, Dates"
   ]
  },
  {
   "cell_type": "code",
   "execution_count": 33,
   "metadata": {},
   "outputs": [
    {
     "data": {
      "text/plain": [
       "\"C:\\\\Users\\\\georg\\\\Documents\\\\projekte-doc\\\\Forschungsdaten-GS\\\\data\\\\FactGrid\""
      ]
     },
     "execution_count": 33,
     "metadata": {},
     "output_type": "execute_result"
    }
   ],
   "source": [
    "input_path = \"C:\\\\Users\\\\georg\\\\Documents\\\\projekte-doc\\\\Forschungsdaten-GS\\\\data\\\\FactGrid\""
   ]
  },
  {
   "cell_type": "code",
   "execution_count": 34,
   "metadata": {},
   "outputs": [
    {
     "data": {
      "text/plain": [
       "\"C:\\\\Users\\\\georg\\\\Documents\\\\projekte-doc\\\\Forschungsdaten-GS\\\\data\\\\FactGrid\""
      ]
     },
     "execution_count": 34,
     "metadata": {},
     "output_type": "execute_result"
    }
   ],
   "source": [
    "output_path = input_path"
   ]
  },
  {
   "cell_type": "markdown",
   "metadata": {},
   "source": [
    "## neue Objekte in FactGrid anlegen\n",
    "Es wird davon ausgegangen, dass die betreffenden Personen noch nicht in FactGrid vorhanden sind. Die Spalte \"FactGrid_ID\" sollte also für alle Einträge leer sein."
   ]
  },
  {
   "cell_type": "markdown",
   "metadata": {},
   "source": [
    "Daten aus WIAG einlesen: Quelle Export \"CSV Personendaten\""
   ]
  },
  {
   "cell_type": "code",
   "execution_count": 4,
   "metadata": {},
   "outputs": [
    {
     "data": {
      "text/plain": [
       "\"C:\\\\Users\\\\georg\\\\Documents\\\\projekte-doc\\\\WIAGweb3\\\\data\\\\FactGrid\\\\WIAG-can_2023-12-01.csv\""
      ]
     },
     "execution_count": 4,
     "metadata": {},
     "output_type": "execute_result"
    }
   ],
   "source": [
    "input_file = \"WIAG-can_2023-12-01.csv\"\n",
    "input_path_file = joinpath(input_path, input_file)"
   ]
  },
  {
   "cell_type": "code",
   "execution_count": 23,
   "metadata": {},
   "outputs": [
    {
     "data": {
      "text/plain": [
       "15141"
      ]
     },
     "execution_count": 23,
     "metadata": {},
     "output_type": "execute_result"
    }
   ],
   "source": [
    "df_person = CSV.read(input_path_file, DataFrame);\n",
    "nrow(df_person)"
   ]
  },
  {
   "cell_type": "markdown",
   "metadata": {},
   "source": [
    "Benenne die Spalten um entsprechend den Konventionen des FactGrid"
   ]
  },
  {
   "cell_type": "code",
   "execution_count": 24,
   "metadata": {},
   "outputs": [],
   "source": [
    "columns = [\n",
    "    :displayname => :Lde,\n",
    "    :description => :Dde,\n",
    "    :date_of_birth => :P77,\n",
    "    :date_of_death => :P38,\n",
    "    :GND_ID => :P76,\n",
    "    :GSN => :P472,\n",
    "    :id => :P601\n",
    "];"
   ]
  },
  {
   "cell_type": "code",
   "execution_count": 25,
   "metadata": {},
   "outputs": [],
   "source": [
    "rename!(df_person, columns);"
   ]
  },
  {
   "cell_type": "markdown",
   "metadata": {},
   "source": [
    "Kopiere den Label in Deutsch auch als Label in Englisch"
   ]
  },
  {
   "cell_type": "code",
   "execution_count": 26,
   "metadata": {},
   "outputs": [],
   "source": [
    "df_person.Len = df_person.Lde;"
   ]
  },
  {
   "cell_type": "markdown",
   "metadata": {},
   "source": [
    "Füge Daten ein, die für alle Personen gleich sind:\n",
    "Mensch, Teil der Germania Sacra Forschungsdaten, männlich"
   ]
  },
  {
   "cell_type": "code",
   "execution_count": 27,
   "metadata": {},
   "outputs": [],
   "source": [
    "insertcols!(df_person, \n",
    "    :P2 => \"Q7\",\n",
    "    :P131 => \"Q153178\",\n",
    "    :P154 => \"Q18\"\n",
    ");    "
   ]
  },
  {
   "cell_type": "markdown",
   "metadata": {},
   "source": [
    "Reduziere die Daten auf die Spalten, die in FactGrid übernommen werden sollen."
   ]
  },
  {
   "cell_type": "code",
   "execution_count": 43,
   "metadata": {},
   "outputs": [],
   "source": [
    "drop_columns = [\n",
    "    :givenname,\n",
    "    :prefix,\n",
    "    :familyname,    \n",
    "    :Wikidata_ID,\n",
    "    :Wikipedia\n",
    "];"
   ]
  },
  {
   "cell_type": "code",
   "execution_count": 44,
   "metadata": {},
   "outputs": [],
   "source": [
    "df_fq = select(df_person, Not(drop_columns));"
   ]
  },
  {
   "cell_type": "code",
   "execution_count": 45,
   "metadata": {},
   "outputs": [
    {
     "data": {
      "text/html": [
       "<div><div style = \"float: left;\"><span>3×12 DataFrame</span></div><div style = \"clear: both;\"></div></div><div class = \"data-frame\" style = \"overflow-x: scroll;\"><table class = \"data-frame\" style = \"margin-bottom: 6px;\"><thead><tr class = \"header\"><th class = \"rowNumber\" style = \"font-weight: bold; text-align: right;\">Row</th><th style = \"text-align: left;\">P601</th><th style = \"text-align: left;\">Lde</th><th style = \"text-align: left;\">P77</th><th style = \"text-align: left;\">P38</th><th style = \"text-align: left;\">Dde</th><th style = \"text-align: left;\">P76</th><th style = \"text-align: left;\">P472</th><th style = \"text-align: left;\">FactGrid_ID</th><th style = \"text-align: left;\">Len</th><th style = \"text-align: left;\">P2</th><th style = \"text-align: left;\">P131</th><th style = \"text-align: left;\">P154</th></tr><tr class = \"subheader headerLastRow\"><th class = \"rowNumber\" style = \"font-weight: bold; text-align: right;\"></th><th title = \"String31\" style = \"text-align: left;\">String31</th><th title = \"String\" style = \"text-align: left;\">String</th><th title = \"Union{Missing, String15}\" style = \"text-align: left;\">String15?</th><th title = \"Union{Missing, String31}\" style = \"text-align: left;\">String31?</th><th title = \"String\" style = \"text-align: left;\">String</th><th title = \"Union{Missing, String15}\" style = \"text-align: left;\">String15?</th><th title = \"Union{Missing, String15}\" style = \"text-align: left;\">String15?</th><th title = \"Union{Missing, String7}\" style = \"text-align: left;\">String7?</th><th title = \"String\" style = \"text-align: left;\">String</th><th title = \"String\" style = \"text-align: left;\">String</th><th title = \"String\" style = \"text-align: left;\">String</th><th title = \"String\" style = \"text-align: left;\">String</th></tr></thead><tbody><tr><td class = \"rowNumber\" style = \"font-weight: bold; text-align: right;\">1</td><td style = \"text-align: left;\">WIAG-Pers-CANON-80952-001</td><td style = \"text-align: left;\">Christoph von Knöringen</td><td style = \"font-style: italic; text-align: left;\">missing</td><td style = \"font-style: italic; text-align: left;\">missing</td><td style = \"text-align: left;\">~ 1499, Domscholaster Domstift Augsburg 1499</td><td style = \"font-style: italic; text-align: left;\">missing</td><td style = \"text-align: left;\">007-00810-001</td><td style = \"font-style: italic; text-align: left;\">missing</td><td style = \"text-align: left;\">Christoph von Knöringen</td><td style = \"text-align: left;\">Q7</td><td style = \"text-align: left;\">Q153178</td><td style = \"text-align: left;\">Q18</td></tr><tr><td class = \"rowNumber\" style = \"font-weight: bold; text-align: right;\">2</td><td style = \"text-align: left;\">WIAG-Pers-CANON-84019-001</td><td style = \"text-align: left;\">Friedrich von Leonrod</td><td style = \"text-align: left;\">1483</td><td style = \"text-align: left;\">1539</td><td style = \"text-align: left;\">* 1483, + 1539, Domherr Domstift Augsburg 1514, Domherr Domstift Eichstätt 1501</td><td style = \"font-style: italic; text-align: left;\">missing</td><td style = \"text-align: left;\">054-01638-001</td><td style = \"font-style: italic; text-align: left;\">missing</td><td style = \"text-align: left;\">Friedrich von Leonrod</td><td style = \"text-align: left;\">Q7</td><td style = \"text-align: left;\">Q153178</td><td style = \"text-align: left;\">Q18</td></tr><tr><td class = \"rowNumber\" style = \"font-weight: bold; text-align: right;\">3</td><td style = \"text-align: left;\">WIAG-Pers-CANON-49717-001</td><td style = \"text-align: left;\">Eustachius von Stain</td><td style = \"font-style: italic; text-align: left;\">missing</td><td style = \"text-align: left;\">1523</td><td style = \"text-align: left;\">+ 1523, Domherr Domstift Eichstätt 1512-1517, Domherr Domstift Augsburg 1506-1523</td><td style = \"font-style: italic; text-align: left;\">missing</td><td style = \"font-style: italic; text-align: left;\">missing</td><td style = \"font-style: italic; text-align: left;\">missing</td><td style = \"text-align: left;\">Eustachius von Stain</td><td style = \"text-align: left;\">Q7</td><td style = \"text-align: left;\">Q153178</td><td style = \"text-align: left;\">Q18</td></tr></tbody></table></div>"
      ],
      "text/latex": [
       "\\begin{tabular}{r|cccccc}\n",
       "\t& P601 & Lde & P77 & P38 & Dde & \\\\\n",
       "\t\\hline\n",
       "\t& String31 & String & String15? & String31? & String & \\\\\n",
       "\t\\hline\n",
       "\t1 & WIAG-Pers-CANON-80952-001 & Christoph von Knöringen & \\emph{missing} & \\emph{missing} & \\textasciitilde{} 1499, Domscholaster Domstift Augsburg 1499 & $\\dots$ \\\\\n",
       "\t2 & WIAG-Pers-CANON-84019-001 & Friedrich von Leonrod & 1483 & 1539 & * 1483, + 1539, Domherr Domstift Augsburg 1514, Domherr Domstift Eichstätt 1501 & $\\dots$ \\\\\n",
       "\t3 & WIAG-Pers-CANON-49717-001 & Eustachius von Stain & \\emph{missing} & 1523 & + 1523, Domherr Domstift Eichstätt 1512-1517, Domherr Domstift Augsburg 1506-1523 & $\\dots$ \\\\\n",
       "\\end{tabular}\n"
      ],
      "text/plain": [
       "\u001b[1m3×12 DataFrame\u001b[0m\n",
       "\u001b[1m Row \u001b[0m│\u001b[1m P601                      \u001b[0m\u001b[1m Lde                     \u001b[0m\u001b[1m P77       \u001b[0m\u001b[1m P38     \u001b[0m ⋯\n",
       "     │\u001b[90m String31                  \u001b[0m\u001b[90m String                  \u001b[0m\u001b[90m String15? \u001b[0m\u001b[90m String31\u001b[0m ⋯\n",
       "─────┼──────────────────────────────────────────────────────────────────────────\n",
       "   1 │ WIAG-Pers-CANON-80952-001  Christoph von Knöringen \u001b[90m missing   \u001b[0m\u001b[90m missing \u001b[0m ⋯\n",
       "   2 │ WIAG-Pers-CANON-84019-001  Friedrich von Leonrod    1483       1539\n",
       "   3 │ WIAG-Pers-CANON-49717-001  Eustachius von Stain    \u001b[90m missing   \u001b[0m 1523\n",
       "\u001b[36m                                                               9 columns omitted\u001b[0m"
      ]
     },
     "execution_count": 45,
     "metadata": {},
     "output_type": "execute_result"
    }
   ],
   "source": [
    "df_fq[50:52, :]"
   ]
  },
  {
   "cell_type": "markdown",
   "metadata": {},
   "source": [
    "Definiere Umwandlungsfunktionen  \n",
    "*offen:* Datumsangaben sind noch zu besprechen, wegen der Verarbeitung von unscharften Zeitangaben."
   ]
  },
  {
   "cell_type": "code",
   "execution_count": 13,
   "metadata": {},
   "outputs": [
    {
     "data": {
      "text/plain": [
       "fqs_string (generic function with 1 method)"
      ]
     },
     "execution_count": 13,
     "metadata": {},
     "output_type": "execute_result"
    }
   ],
   "source": [
    "fqs_string(s) = \"\\\"\" * s * \"\\\"\""
   ]
  },
  {
   "cell_type": "code",
   "execution_count": 14,
   "metadata": {},
   "outputs": [
    {
     "data": {
      "text/plain": [
       "create (generic function with 1 method)"
      ]
     },
     "execution_count": 14,
     "metadata": {},
     "output_type": "execute_result"
    }
   ],
   "source": [
    "function create(out, row, col_list) \n",
    "    println(out, \"CREATE\")    \n",
    "    for col in col_list\n",
    "        println(out, \"LAST\\t\", string(col), \"\\t\", fqs_string(row[col]))        \n",
    "    end\n",
    "end"
   ]
  },
  {
   "cell_type": "code",
   "execution_count": 50,
   "metadata": {},
   "outputs": [
    {
     "data": {
      "text/plain": [
       "set_property_list"
      ]
     },
     "execution_count": 50,
     "metadata": {},
     "output_type": "execute_result"
    }
   ],
   "source": [
    "\"\"\"\n",
    "    set_property_list (out, row, object, col_list, fmt_list)\n",
    "\n",
    "    \n",
    "\n",
    "# Arguments\n",
    "- `out::IOStream`: output stream\n",
    "- `row::DataFrameRow`: input data\n",
    "- `object`: FactGrid identifier or \"LAST\"\n",
    "- `col_list`: list of colums where data should be read from\n",
    "- `fmr_list`: list of formatting functions (one for each column)\n",
    "\"\"\"\n",
    "function set_property_list(out, row, object, col_list, fmt_list)\n",
    "    for (col, fmt) in zip(col_list, fmt_list)\n",
    "        if (!ismissing(row[col]))\n",
    "            println(out, object, \"\\t\", string(col), \"\\t\", fmt(row[col]))\n",
    "        end\n",
    "    end\n",
    "end"
   ]
  },
  {
   "cell_type": "markdown",
   "metadata": {},
   "source": [
    "Gib alle Elemente in `df_fq` aus. Falls es schon eine Datei mit gleichem Namen im angegebenen Verzeichnis gibt, wird die Datei überschrieben."
   ]
  },
  {
   "cell_type": "code",
   "execution_count": 40,
   "metadata": {},
   "outputs": [
    {
     "data": {
      "text/plain": [
       "\"2023-12-01\""
      ]
     },
     "execution_count": 40,
     "metadata": {},
     "output_type": "execute_result"
    }
   ],
   "source": [
    "date_key = Dates.format(now(), \"yyyy-mm-dd\")"
   ]
  },
  {
   "cell_type": "code",
   "execution_count": 47,
   "metadata": {},
   "outputs": [
    {
     "data": {
      "text/plain": [
       "\"C:\\\\Users\\\\georg\\\\Documents\\\\projekte-doc\\\\Forschungsdaten-GS\\\\data\\\\FactGrid\\\\Insert_WIAG-can_2023-12-01_FQ.csv\""
      ]
     },
     "execution_count": 47,
     "metadata": {},
     "output_type": "execute_result"
    }
   ],
   "source": [
    "output_file = \"Insert_WIAG-can_\" * date_key * \"_FQ.csv\"\n",
    "output_path_file = joinpath(output_path, output_file)"
   ]
  },
  {
   "cell_type": "code",
   "execution_count": 48,
   "metadata": {},
   "outputs": [],
   "source": [
    "open(output_path_file, \"w\") do out_stream\n",
    "    for row in eachrow(df_fq)\n",
    "        create(out_stream, row, [:Lde, :Len, :Dde])\n",
    "        set_property_list(out_stream, row, \"LAST\", \n",
    "            [:P2, :P131, :P154, :P601, :P76, :P472], \n",
    "            [identity, identity, identity, fqs_string, fqs_string, fqs_string])\n",
    "    end        \n",
    "end"
   ]
  },
  {
   "cell_type": "code",
   "execution_count": null,
   "metadata": {},
   "outputs": [],
   "source": []
  },
  {
   "cell_type": "code",
   "execution_count": null,
   "metadata": {},
   "outputs": [],
   "source": []
  },
  {
   "cell_type": "code",
   "execution_count": null,
   "metadata": {},
   "outputs": [],
   "source": []
  },
  {
   "cell_type": "code",
   "execution_count": null,
   "metadata": {},
   "outputs": [],
   "source": []
  },
  {
   "cell_type": "code",
   "execution_count": null,
   "metadata": {},
   "outputs": [],
   "source": []
  },
  {
   "cell_type": "code",
   "execution_count": null,
   "metadata": {},
   "outputs": [],
   "source": []
  }
 ],
 "metadata": {
  "kernelspec": {
   "display_name": "Julia 1.8.2",
   "language": "julia",
   "name": "julia-1.8"
  },
  "language_info": {
   "file_extension": ".jl",
   "mimetype": "application/julia",
   "name": "julia",
   "version": "1.8.2"
  }
 },
 "nbformat": 4,
 "nbformat_minor": 4
}
