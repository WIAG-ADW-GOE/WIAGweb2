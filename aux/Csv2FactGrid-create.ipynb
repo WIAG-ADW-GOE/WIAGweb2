{
 "cells": [
  {
   "cell_type": "markdown",
   "metadata": {},
   "source": [
    "# Import von WIAG-Daten in FactGrid\n",
    "Formatiere CSV-Daten aus WIAG als V1-Statements für QuickSteps  \n",
    "siehe [Einführung in QuickStatements](https://www.wikidata.org/wiki/Help:QuickStatements)\n",
    "und die [Properties des FactGrid](https://database.factgrid.de/wiki/FactGrid:Directory_of_Properties)\n",
    "\n",
    "Änderungen\n",
    "\n",
    "- *2023-12-11* Verwende die Gruppe des höchsten erreichten Amtes in der englischen Beschreibung und für P165"
   ]
  },
  {
   "cell_type": "markdown",
   "metadata": {},
   "source": [
    "Inhalt:\n",
    "\n",
    "- [neue Objekte in FactGrid anlegen](#neue-Objekte-in-FactGrid-anlegen)"
   ]
  },
  {
   "cell_type": "code",
   "execution_count": 9,
   "metadata": {},
   "outputs": [],
   "source": [
    "using CSV, DataFrames, Dates"
   ]
  },
  {
   "cell_type": "code",
   "execution_count": 10,
   "metadata": {},
   "outputs": [
    {
     "data": {
      "text/plain": [
       "120"
      ]
     },
     "execution_count": 10,
     "metadata": {},
     "output_type": "execute_result"
    }
   ],
   "source": [
    "ENV[\"COLUMNS\"] = 120"
   ]
  },
  {
   "cell_type": "code",
   "execution_count": 11,
   "metadata": {},
   "outputs": [
    {
     "data": {
      "text/plain": [
       "\"C:\\\\Users\\\\georg\\\\Documents\\\\projekte-doc\\\\Forschungsdaten-GS\\\\data\\\\FactGrid\""
      ]
     },
     "execution_count": 11,
     "metadata": {},
     "output_type": "execute_result"
    }
   ],
   "source": [
    "input_path = \"C:\\\\Users\\\\georg\\\\Documents\\\\projekte-doc\\\\Forschungsdaten-GS\\\\data\\\\FactGrid\""
   ]
  },
  {
   "cell_type": "code",
   "execution_count": 12,
   "metadata": {},
   "outputs": [
    {
     "data": {
      "text/plain": [
       "\"C:\\\\Users\\\\georg\\\\Documents\\\\projekte-doc\\\\Forschungsdaten-GS\\\\data\\\\FactGrid\""
      ]
     },
     "execution_count": 12,
     "metadata": {},
     "output_type": "execute_result"
    }
   ],
   "source": [
    "output_path = input_path"
   ]
  },
  {
   "cell_type": "markdown",
   "metadata": {},
   "source": [
    "## neue Objekte in FactGrid anlegen\n",
    "Es wird davon ausgegangen, dass die betreffenden Personen noch nicht in FactGrid vorhanden sind. Die Spalte \"FactGrid_ID\" sollte also für alle Einträge leer sein."
   ]
  },
  {
   "cell_type": "markdown",
   "metadata": {},
   "source": [
    "Daten aus WIAG einlesen: Quelle Export \"CSV Personendaten\""
   ]
  },
  {
   "cell_type": "code",
   "execution_count": 81,
   "metadata": {},
   "outputs": [
    {
     "data": {
      "text/plain": [
       "\"C:\\\\Users\\\\georg\\\\Documents\\\\projekte-doc\\\\Forschungsdaten-GS\\\\data\\\\FactGrid\\\\WIAG-Köln_2023-12-18.csv\""
      ]
     },
     "execution_count": 81,
     "metadata": {},
     "output_type": "execute_result"
    }
   ],
   "source": [
    "input_file = \"WIAG-Köln_2023-12-18.csv\"\n",
    "input_path_file = joinpath(input_path, input_file)"
   ]
  },
  {
   "cell_type": "code",
   "execution_count": 82,
   "metadata": {},
   "outputs": [
    {
     "data": {
      "text/plain": [
       "1168"
      ]
     },
     "execution_count": 82,
     "metadata": {},
     "output_type": "execute_result"
    }
   ],
   "source": [
    "df_person_all = CSV.read(input_path_file, DataFrame);\n",
    "nrow(df_person_all)"
   ]
  },
  {
   "cell_type": "markdown",
   "metadata": {},
   "source": [
    "Betrachte nur Neu-Zugänge (keine FactGrid-ID)"
   ]
  },
  {
   "cell_type": "code",
   "execution_count": 83,
   "metadata": {},
   "outputs": [
    {
     "data": {
      "text/plain": [
       "956"
      ]
     },
     "execution_count": 83,
     "metadata": {},
     "output_type": "execute_result"
    }
   ],
   "source": [
    "df_person_in = subset(df_person_all, :FactGrid_ID => ByRow(ismissing));\n",
    "nrow(df_person_in)"
   ]
  },
  {
   "cell_type": "code",
   "execution_count": 84,
   "metadata": {},
   "outputs": [],
   "source": [
    "sort!(df_person_in, :corpus);"
   ]
  },
  {
   "cell_type": "markdown",
   "metadata": {},
   "source": [
    "Lies die Amtsdaten ein (zunächst für P1018)"
   ]
  },
  {
   "cell_type": "code",
   "execution_count": 17,
   "metadata": {},
   "outputs": [
    {
     "data": {
      "text/plain": [
       "\"C:\\\\Users\\\\georg\\\\Documents\\\\projekte-doc\\\\Forschungsdaten-GS\\\\data\\\\FactGrid\\\\WIAG-Köln-roles_2023-12-18.csv\""
      ]
     },
     "execution_count": 17,
     "metadata": {},
     "output_type": "execute_result"
    }
   ],
   "source": [
    "input_file = \"WIAG-Köln-roles_2023-12-18.csv\"\n",
    "input_path_file = joinpath(input_path, input_file)"
   ]
  },
  {
   "cell_type": "code",
   "execution_count": 18,
   "metadata": {},
   "outputs": [
    {
     "data": {
      "text/plain": [
       "4563"
      ]
     },
     "execution_count": 18,
     "metadata": {},
     "output_type": "execute_result"
    }
   ],
   "source": [
    "df_role_all = CSV.read(input_path_file, DataFrame);\n",
    "nrow(df_role_all)"
   ]
  },
  {
   "cell_type": "markdown",
   "metadata": {},
   "source": [
    "Definiere Funktionen:  \n",
    "Lege die zwei Rollen/Amtszeiten fest, die für die Beschreibung verwendet werden.  \n",
    "Priorisiere nach Gruppe der Rolle (siehe `role_group_rank_list`) und dann nach Amtszeit (jüngste zuerst)"
   ]
  },
  {
   "cell_type": "code",
   "execution_count": 21,
   "metadata": {},
   "outputs": [
    {
     "data": {
      "text/plain": [
       "describe_role (generic function with 1 method)"
      ]
     },
     "execution_count": 21,
     "metadata": {},
     "output_type": "execute_result"
    }
   ],
   "source": [
    "function describe_role(role)\n",
    "    inst_or_dioc = !ismissing(role[:institution]) ? role[:institution] : role[:diocese]    \n",
    "    \n",
    "    date_info = \"\"\n",
    "    if !ismissing(role[:date_begin]) && !ismissing(role[:date_end])\n",
    "        date_info = role[:date_begin] * \"-\" * role[:date_end]\n",
    "    elseif !ismissing(role[:date_begin])\n",
    "        date_info = role[:date_begin]\n",
    "    elseif !ismissing(role[:date_end])\n",
    "        date_info = \"bis \" * role[:date_end]\n",
    "    end\n",
    "    \n",
    "    description = role[:name]\n",
    "    if !ismissing(inst_or_dioc)\n",
    "        description *= \" \" * inst_or_dioc\n",
    "    end\n",
    "    if date_info != \"\"\n",
    "        description *= \" \" * date_info\n",
    "    end\n",
    "    \n",
    "    return description    \n",
    "end"
   ]
  },
  {
   "cell_type": "code",
   "execution_count": 3,
   "metadata": {},
   "outputs": [
    {
     "data": {
      "text/plain": [
       "4-element Vector{String}:\n",
       " \"Q648236\"\n",
       " \"Q648232\"\n",
       " \"Q648233\"\n",
       " \"Q646226\""
      ]
     },
     "execution_count": 3,
     "metadata": {},
     "output_type": "execute_result"
    }
   ],
   "source": [
    "role_group_rank_list = [\n",
    "    \"Q648236\", # Leiter (Erz-)diözese (Altes Reich)\n",
    "    \"Q648232\", # Domdignitär Altes Reich\n",
    "    \"Q648233\", # Klosterangehöriger mit Leitungsamt\n",
    "    \"Q646226\", # Domkleriker Altes Reich\n",
    "]"
   ]
  },
  {
   "cell_type": "code",
   "execution_count": 4,
   "metadata": {},
   "outputs": [
    {
     "data": {
      "text/plain": [
       "lt_rg_fq_id (generic function with 1 method)"
      ]
     },
     "execution_count": 4,
     "metadata": {},
     "output_type": "execute_result"
    }
   ],
   "source": [
    "\"\"\"\n",
    "    lt_role_group_fq_id(a, b, role_group_rank_list)\n",
    "\n",
    "compare `a` and `b` based on `role_group_rank_list`\n",
    "\"\"\"\n",
    "function less_than_role_group_fq_id(a, b, role_group_rank_list)\n",
    "    if ismissing(a)\n",
    "        return false\n",
    "    end\n",
    "    if ismissing(b)\n",
    "        return true\n",
    "    end\n",
    "    \n",
    "    lt = false\n",
    "    for rg_prio in role_group_rank_list\n",
    "        if a == rg_prio && b != rg_prio\n",
    "            lt = true\n",
    "            break\n",
    "        end\n",
    "        if a != rg_prio && b == rg_prio\n",
    "            lt = false\n",
    "            break\n",
    "        end\n",
    "    end\n",
    "    \n",
    "    return lt        \n",
    "end\n",
    "\n",
    "lt_rg_fq_id(a, b) = less_than_role_group_fq_id(a, b, role_group_rank_list)"
   ]
  },
  {
   "cell_type": "code",
   "execution_count": 40,
   "metadata": {},
   "outputs": [
    {
     "data": {
      "text/plain": [
       "description_by_role (generic function with 1 method)"
      ]
     },
     "execution_count": 40,
     "metadata": {},
     "output_type": "execute_result"
    }
   ],
   "source": [
    "function description_by_role(df)\n",
    "    N_ROLE_4_DESCRIPTION = 2\n",
    "    df_s = sort(df, [:date_sort_key], rev = true)\n",
    "    df_s = sort(df_s, [:role_group_fq_id], lt = lt_rg_fq_id, alg = MergeSort)\n",
    "    description_list = String[]\n",
    "    for row in eachrow(df_s)\n",
    "        push!(description_list, describe_role(row))\n",
    "    end\n",
    "    head_list = first(unique(description_list), N_ROLE_4_DESCRIPTION)\n",
    "    return join(head_list, \", \")\n",
    "end"
   ]
  },
  {
   "cell_type": "code",
   "execution_count": 48,
   "metadata": {},
   "outputs": [
    {
     "data": {
      "text/plain": [
       "1168"
      ]
     },
     "execution_count": 48,
     "metadata": {},
     "output_type": "execute_result"
    }
   ],
   "source": [
    "dfg_role_all = groupby(df_role_all, [:person_id]);\n",
    "df_role_description = combine(dfg_role_all, description_by_role);\n",
    "nrow(df_role_description)"
   ]
  },
  {
   "cell_type": "code",
   "execution_count": 42,
   "metadata": {},
   "outputs": [
    {
     "data": {
      "text/html": [
       "<div><div style = \"float: left;\"><span>6×2 DataFrame</span></div><div style = \"clear: both;\"></div></div><div class = \"data-frame\" style = \"overflow-x: scroll;\"><table class = \"data-frame\" style = \"margin-bottom: 6px;\"><thead><tr class = \"header\"><th class = \"rowNumber\" style = \"font-weight: bold; text-align: right;\">Row</th><th style = \"text-align: left;\">person_id</th><th style = \"text-align: left;\">x1</th></tr><tr class = \"subheader headerLastRow\"><th class = \"rowNumber\" style = \"font-weight: bold; text-align: right;\"></th><th title = \"String31\" style = \"text-align: left;\">String31</th><th title = \"String\" style = \"text-align: left;\">String</th></tr></thead><tbody><tr><td class = \"rowNumber\" style = \"font-weight: bold; text-align: right;\">1</td><td style = \"text-align: left;\">WIAG-Pers-CANON-19190-001</td><td style = \"text-align: left;\">Domherr Domstift Köln 1255-1277</td></tr><tr><td class = \"rowNumber\" style = \"font-weight: bold; text-align: right;\">2</td><td style = \"text-align: left;\">WIAG-Pers-CANON-19191-001</td><td style = \"text-align: left;\">Domherr Domstift Köln 1255/1256-1288</td></tr><tr><td class = \"rowNumber\" style = \"font-weight: bold; text-align: right;\">3</td><td style = \"text-align: left;\">WIAG-Pers-CANON-19189-001</td><td style = \"text-align: left;\">Propst Kollegiatstift St. Cassius, Bonn 1243, Propst Kollegiatstift St. Georg, Köln 1231-1241</td></tr><tr><td class = \"rowNumber\" style = \"font-weight: bold; text-align: right;\">4</td><td style = \"text-align: left;\">WIAG-Pers-CANON-19192-001</td><td style = \"text-align: left;\">Domherr Domstift Köln 1256-1292</td></tr><tr><td class = \"rowNumber\" style = \"font-weight: bold; text-align: right;\">5</td><td style = \"text-align: left;\">WIAG-Pers-CANON-18523-001</td><td style = \"text-align: left;\">Domherr Domstift Köln 1256-1275</td></tr><tr><td class = \"rowNumber\" style = \"font-weight: bold; text-align: right;\">6</td><td style = \"text-align: left;\">WIAG-Pers-CANON-51991-001</td><td style = \"text-align: left;\">Domherr Domstift Köln 1256-1257</td></tr></tbody></table></div>"
      ],
      "text/latex": [
       "\\begin{tabular}{r|cc}\n",
       "\t& person\\_id & x1\\\\\n",
       "\t\\hline\n",
       "\t& String31 & String\\\\\n",
       "\t\\hline\n",
       "\t1 & WIAG-Pers-CANON-19190-001 & Domherr Domstift Köln 1255-1277 \\\\\n",
       "\t2 & WIAG-Pers-CANON-19191-001 & Domherr Domstift Köln 1255/1256-1288 \\\\\n",
       "\t3 & WIAG-Pers-CANON-19189-001 & Propst Kollegiatstift St. Cassius, Bonn 1243, Propst Kollegiatstift St. Georg, Köln 1231-1241 \\\\\n",
       "\t4 & WIAG-Pers-CANON-19192-001 & Domherr Domstift Köln 1256-1292 \\\\\n",
       "\t5 & WIAG-Pers-CANON-18523-001 & Domherr Domstift Köln 1256-1275 \\\\\n",
       "\t6 & WIAG-Pers-CANON-51991-001 & Domherr Domstift Köln 1256-1257 \\\\\n",
       "\\end{tabular}\n"
      ],
      "text/plain": [
       "\u001b[1m6×2 DataFrame\u001b[0m\n",
       "\u001b[1m Row \u001b[0m│\u001b[1m person_id                 \u001b[0m\u001b[1m x1                                \u001b[0m\n",
       "     │\u001b[90m String31                  \u001b[0m\u001b[90m String                            \u001b[0m\n",
       "─────┼──────────────────────────────────────────────────────────────\n",
       "   1 │ WIAG-Pers-CANON-19190-001  Domherr Domstift Köln 1255-1277\n",
       "   2 │ WIAG-Pers-CANON-19191-001  Domherr Domstift Köln 1255/1256-…\n",
       "   3 │ WIAG-Pers-CANON-19189-001  Propst Kollegiatstift St. Cassiu…\n",
       "   4 │ WIAG-Pers-CANON-19192-001  Domherr Domstift Köln 1256-1292\n",
       "   5 │ WIAG-Pers-CANON-18523-001  Domherr Domstift Köln 1256-1275\n",
       "   6 │ WIAG-Pers-CANON-51991-001  Domherr Domstift Köln 1256-1257"
      ]
     },
     "execution_count": 42,
     "metadata": {},
     "output_type": "execute_result"
    }
   ],
   "source": [
    "df_role_description[200:205, :]"
   ]
  },
  {
   "cell_type": "markdown",
   "metadata": {},
   "source": [
    "Test\n",
    "Karl Erzherzog von Österreich, WIAG-Pers-EPISCGatz-20417-001"
   ]
  },
  {
   "cell_type": "code",
   "execution_count": 43,
   "metadata": {},
   "outputs": [
    {
     "data": {
      "text/html": [
       "<div><div style = \"float: left;\"><span>1×2 DataFrame</span></div><div style = \"clear: both;\"></div></div><div class = \"data-frame\" style = \"overflow-x: scroll;\"><table class = \"data-frame\" style = \"margin-bottom: 6px;\"><thead><tr class = \"header\"><th class = \"rowNumber\" style = \"font-weight: bold; text-align: right;\">Row</th><th style = \"text-align: left;\">person_id</th><th style = \"text-align: left;\">x1</th></tr><tr class = \"subheader headerLastRow\"><th class = \"rowNumber\" style = \"font-weight: bold; text-align: right;\"></th><th title = \"String31\" style = \"text-align: left;\">String31</th><th title = \"String\" style = \"text-align: left;\">String</th></tr></thead><tbody><tr><td class = \"rowNumber\" style = \"font-weight: bold; text-align: right;\">1</td><td style = \"text-align: left;\">WIAG-Pers-EPISCGatz-20417-001</td><td style = \"text-align: left;\">Bischof Bistum Brixen 1613-1624, Bischof Bistum Breslau 1608-1624</td></tr></tbody></table></div>"
      ],
      "text/latex": [
       "\\begin{tabular}{r|cc}\n",
       "\t& person\\_id & x1\\\\\n",
       "\t\\hline\n",
       "\t& String31 & String\\\\\n",
       "\t\\hline\n",
       "\t1 & WIAG-Pers-EPISCGatz-20417-001 & Bischof Bistum Brixen 1613-1624, Bischof Bistum Breslau 1608-1624 \\\\\n",
       "\\end{tabular}\n"
      ],
      "text/plain": [
       "\u001b[1m1×2 DataFrame\u001b[0m\n",
       "\u001b[1m Row \u001b[0m│\u001b[1m person_id                     \u001b[0m\u001b[1m x1                                \u001b[0m\n",
       "     │\u001b[90m String31                      \u001b[0m\u001b[90m String                            \u001b[0m\n",
       "─────┼──────────────────────────────────────────────────────────────────\n",
       "   1 │ WIAG-Pers-EPISCGatz-20417-001  Bischof Bistum Brixen 1613-1624,…"
      ]
     },
     "execution_count": 43,
     "metadata": {},
     "output_type": "execute_result"
    }
   ],
   "source": [
    "subset(df_role_description, :person_id => ByRow(isequal(\"WIAG-Pers-EPISCGatz-20417-001\")))"
   ]
  },
  {
   "cell_type": "code",
   "execution_count": 87,
   "metadata": {},
   "outputs": [
    {
     "data": {
      "text/plain": [
       "2-element Vector{Pair{Symbol, Symbol}}:\n",
       " :person_id => :person_id\n",
       "        :x1 => :summary_roles"
      ]
     },
     "execution_count": 87,
     "metadata": {},
     "output_type": "execute_result"
    }
   ],
   "source": [
    "columns = [\n",
    "    :person_id => :person_id,\n",
    "    :x1 => :summary_roles,\n",
    "]"
   ]
  },
  {
   "cell_type": "code",
   "execution_count": 88,
   "metadata": {},
   "outputs": [
    {
     "data": {
      "text/plain": [
       "956"
      ]
     },
     "execution_count": 88,
     "metadata": {},
     "output_type": "execute_result"
    }
   ],
   "source": [
    "df_person = innerjoin(df_person_in, select(df_role_description, columns), on = :id => :person_id);\n",
    "nrow(df_person)"
   ]
  },
  {
   "cell_type": "code",
   "execution_count": 89,
   "metadata": {},
   "outputs": [
    {
     "data": {
      "text/html": [
       "<div><div style = \"float: left;\"><span>5×3 DataFrame</span></div><div style = \"clear: both;\"></div></div><div class = \"data-frame\" style = \"overflow-x: scroll;\"><table class = \"data-frame\" style = \"margin-bottom: 6px;\"><thead><tr class = \"header\"><th class = \"rowNumber\" style = \"font-weight: bold; text-align: right;\">Row</th><th style = \"text-align: left;\">id</th><th style = \"text-align: left;\">displayname</th><th style = \"text-align: left;\">summary_roles</th></tr><tr class = \"subheader headerLastRow\"><th class = \"rowNumber\" style = \"font-weight: bold; text-align: right;\"></th><th title = \"String31\" style = \"text-align: left;\">String31</th><th title = \"String\" style = \"text-align: left;\">String</th><th title = \"String\" style = \"text-align: left;\">String</th></tr></thead><tbody><tr><td class = \"rowNumber\" style = \"font-weight: bold; text-align: right;\">1</td><td style = \"text-align: left;\">WIAG-Pers-CANON-18532-001</td><td style = \"text-align: left;\">Florenz von Wevelinghoven</td><td style = \"text-align: left;\">Domherr Domstift Köln 1266/1270-1318</td></tr><tr><td class = \"rowNumber\" style = \"font-weight: bold; text-align: right;\">2</td><td style = \"text-align: left;\">WIAG-Pers-CANON-18397-001</td><td style = \"text-align: left;\">Hermann von Rennenberg</td><td style = \"text-align: left;\">Domsubdekan Domstift Köln 1304-1318, Domherr Domstift Köln 1268-1318</td></tr><tr><td class = \"rowNumber\" style = \"font-weight: bold; text-align: right;\">3</td><td style = \"text-align: left;\">WIAG-Pers-CANON-18533-001</td><td style = \"text-align: left;\">Ludwig von Neuenahr</td><td style = \"text-align: left;\">Domherr Domstift Köln 1269</td></tr><tr><td class = \"rowNumber\" style = \"font-weight: bold; text-align: right;\">4</td><td style = \"text-align: left;\">WIAG-Pers-CANON-18406-001</td><td style = \"text-align: left;\">Albert von Hammerstein</td><td style = \"text-align: left;\">Domchorbischof Domstift Köln 1307-1316, Domherr Domstift Köln 1270</td></tr><tr><td class = \"rowNumber\" style = \"font-weight: bold; text-align: right;\">5</td><td style = \"text-align: left;\">WIAG-Pers-CANON-51995-001</td><td style = \"text-align: left;\">Arnold von Rennenberg</td><td style = \"text-align: left;\">Domherr Domstift Köln 1270-1296</td></tr></tbody></table></div>"
      ],
      "text/latex": [
       "\\begin{tabular}{r|ccc}\n",
       "\t& id & displayname & summary\\_roles\\\\\n",
       "\t\\hline\n",
       "\t& String31 & String & String\\\\\n",
       "\t\\hline\n",
       "\t1 & WIAG-Pers-CANON-18532-001 & Florenz von Wevelinghoven & Domherr Domstift Köln 1266/1270-1318 \\\\\n",
       "\t2 & WIAG-Pers-CANON-18397-001 & Hermann von Rennenberg & Domsubdekan Domstift Köln 1304-1318, Domherr Domstift Köln 1268-1318 \\\\\n",
       "\t3 & WIAG-Pers-CANON-18533-001 & Ludwig von Neuenahr & Domherr Domstift Köln 1269 \\\\\n",
       "\t4 & WIAG-Pers-CANON-18406-001 & Albert von Hammerstein & Domchorbischof Domstift Köln 1307-1316, Domherr Domstift Köln 1270 \\\\\n",
       "\t5 & WIAG-Pers-CANON-51995-001 & Arnold von Rennenberg & Domherr Domstift Köln 1270-1296 \\\\\n",
       "\\end{tabular}\n"
      ],
      "text/plain": [
       "\u001b[1m5×3 DataFrame\u001b[0m\n",
       "\u001b[1m Row \u001b[0m│\u001b[1m id                        \u001b[0m\u001b[1m displayname               \u001b[0m\u001b[1m summary_roles                     \u001b[0m\n",
       "     │\u001b[90m String31                  \u001b[0m\u001b[90m String                    \u001b[0m\u001b[90m String                            \u001b[0m\n",
       "─────┼─────────────────────────────────────────────────────────────────────────────────────────\n",
       "   1 │ WIAG-Pers-CANON-18532-001  Florenz von Wevelinghoven  Domherr Domstift Köln 1266/1270-…\n",
       "   2 │ WIAG-Pers-CANON-18397-001  Hermann von Rennenberg     Domsubdekan Domstift Köln 1304-1…\n",
       "   3 │ WIAG-Pers-CANON-18533-001  Ludwig von Neuenahr        Domherr Domstift Köln 1269\n",
       "   4 │ WIAG-Pers-CANON-18406-001  Albert von Hammerstein     Domchorbischof Domstift Köln 130…\n",
       "   5 │ WIAG-Pers-CANON-51995-001  Arnold von Rennenberg      Domherr Domstift Köln 1270-1296"
      ]
     },
     "execution_count": 89,
     "metadata": {},
     "output_type": "execute_result"
    }
   ],
   "source": [
    "df_person[200:204, [:id, :displayname, :summary_roles]]"
   ]
  },
  {
   "cell_type": "markdown",
   "metadata": {},
   "source": [
    "Wähle für die Liste der Rollen die relevanten Spalten aus."
   ]
  },
  {
   "cell_type": "code",
   "execution_count": 65,
   "metadata": {},
   "outputs": [
    {
     "data": {
      "text/plain": [
       "2-element Vector{Pair{Symbol, Symbol}}:\n",
       "        :person_id => :person_id\n",
       " :role_group_fq_id => :P1018"
      ]
     },
     "execution_count": 65,
     "metadata": {},
     "output_type": "execute_result"
    }
   ],
   "source": [
    "columns = [\n",
    "    :person_id => :person_id,\n",
    "    :role_group_fq_id => :P1018\n",
    "]"
   ]
  },
  {
   "cell_type": "code",
   "execution_count": 66,
   "metadata": {},
   "outputs": [],
   "source": [
    "df_role = select(df_role_all, columns);"
   ]
  },
  {
   "cell_type": "markdown",
   "metadata": {},
   "source": [
    "Es werden die Ämter für P1018 eingetragen, deren Gruppen über die entsprechenden FactGrid-IDs hier ausgewählt werden."
   ]
  },
  {
   "cell_type": "code",
   "execution_count": 67,
   "metadata": {},
   "outputs": [],
   "source": [
    "relevant_role_group_fq_id = [\n",
    "    \"Q648236\", # Leiter (Erz-)diözese (Altes Reich)\n",
    "    \"Q648232\", # Domdignitär Altes Reich    \n",
    "];"
   ]
  },
  {
   "cell_type": "code",
   "execution_count": 62,
   "metadata": {},
   "outputs": [
    {
     "data": {
      "text/plain": [
       "is_relevant (generic function with 1 method)"
      ]
     },
     "execution_count": 62,
     "metadata": {},
     "output_type": "execute_result"
    }
   ],
   "source": [
    "is_relevant(s) = !ismissing(s) && s in relevant_role_group_fq_id"
   ]
  },
  {
   "cell_type": "code",
   "execution_count": 68,
   "metadata": {},
   "outputs": [
    {
     "data": {
      "text/plain": [
       "1176"
      ]
     },
     "execution_count": 68,
     "metadata": {},
     "output_type": "execute_result"
    }
   ],
   "source": [
    "df_role = subset(df_role, :P1018 => ByRow(is_relevant));\n",
    "nrow(df_role)"
   ]
  },
  {
   "cell_type": "markdown",
   "metadata": {},
   "source": [
    "Das deutsche Beschreibungsfeld soll Lebensdaten mit der Zusammenfassung der Amtsdaten enthalten."
   ]
  },
  {
   "cell_type": "code",
   "execution_count": 90,
   "metadata": {},
   "outputs": [],
   "source": [
    "join_komma(a, b) = join((a, b), \", \")\n",
    "transform!(df_person, [:biographical_dates, :summary_roles] => ByRow(join_komma) => :description_de);"
   ]
  },
  {
   "cell_type": "markdown",
   "metadata": {},
   "source": [
    "Das FactGrid arbeitet für Wikipedia nicht mit URL-codierten Adressen.\n",
    "*2023-12-13* WIAG gibt direkt unkodierte URLs aus, daher sind die folgenden Schritte auskommentiert"
   ]
  },
  {
   "cell_type": "code",
   "execution_count": 20,
   "metadata": {},
   "outputs": [],
   "source": [
    "# unescape_not_mg(s) = ismissing(s) ? s : URIs.unescapeuri(s)"
   ]
  },
  {
   "cell_type": "code",
   "execution_count": 21,
   "metadata": {},
   "outputs": [],
   "source": [
    "# transform!(df_person, :Wikipedia => ByRow(unescape_not_mg) => :Wikipedia);"
   ]
  },
  {
   "cell_type": "code",
   "execution_count": 91,
   "metadata": {},
   "outputs": [
    {
     "data": {
      "text/html": [
       "<div><div style = \"float: left;\"><span>5×4 DataFrame</span></div><div style = \"clear: both;\"></div></div><div class = \"data-frame\" style = \"overflow-x: scroll;\"><table class = \"data-frame\" style = \"margin-bottom: 6px;\"><thead><tr class = \"header\"><th class = \"rowNumber\" style = \"font-weight: bold; text-align: right;\">Row</th><th style = \"text-align: left;\">givenname</th><th style = \"text-align: left;\">prefix</th><th style = \"text-align: left;\">familyname</th><th style = \"text-align: left;\">Wikipedia</th></tr><tr class = \"subheader headerLastRow\"><th class = \"rowNumber\" style = \"font-weight: bold; text-align: right;\"></th><th title = \"String\" style = \"text-align: left;\">String</th><th title = \"Union{Missing, String15}\" style = \"text-align: left;\">String15?</th><th title = \"Union{Missing, String}\" style = \"text-align: left;\">String?</th><th title = \"String\" style = \"text-align: left;\">String</th></tr></thead><tbody><tr><td class = \"rowNumber\" style = \"font-weight: bold; text-align: right;\">1</td><td style = \"text-align: left;\">Gottfried</td><td style = \"text-align: left;\">de</td><td style = \"text-align: left;\">Fontibus</td><td style = \"text-align: left;\">Gottfried_von_Fontaines</td></tr><tr><td class = \"rowNumber\" style = \"font-weight: bold; text-align: right;\">2</td><td style = \"text-align: left;\">Wilhelm</td><td style = \"text-align: left;\">von</td><td style = \"text-align: left;\">Berg</td><td style = \"text-align: left;\">Wilhelm_I._(Berg)</td></tr><tr><td class = \"rowNumber\" style = \"font-weight: bold; text-align: right;\">3</td><td style = \"text-align: left;\">Wedekind</td><td style = \"text-align: left;\">von</td><td style = \"text-align: left;\">Holte</td><td style = \"text-align: left;\">Wedekind_von_Holte</td></tr><tr><td class = \"rowNumber\" style = \"font-weight: bold; text-align: right;\">4</td><td style = \"text-align: left;\">Wilhelm</td><td style = \"text-align: left;\">von</td><td style = \"text-align: left;\">Jülich</td><td style = \"text-align: left;\">Wilhelm_der_Jüngere_(Jülich)</td></tr><tr><td class = \"rowNumber\" style = \"font-weight: bold; text-align: right;\">5</td><td style = \"text-align: left;\">Wikbold</td><td style = \"text-align: left;\">von</td><td style = \"text-align: left;\">Lohn</td><td style = \"text-align: left;\">Wikbold_von_Lohn</td></tr></tbody></table></div>"
      ],
      "text/latex": [
       "\\begin{tabular}{r|cccc}\n",
       "\t& givenname & prefix & familyname & Wikipedia\\\\\n",
       "\t\\hline\n",
       "\t& String & String15? & String? & String\\\\\n",
       "\t\\hline\n",
       "\t1 & Gottfried & de & Fontibus & Gottfried\\_von\\_Fontaines \\\\\n",
       "\t2 & Wilhelm & von & Berg & Wilhelm\\_I.\\_(Berg) \\\\\n",
       "\t3 & Wedekind & von & Holte & Wedekind\\_von\\_Holte \\\\\n",
       "\t4 & Wilhelm & von & Jülich & Wilhelm\\_der\\_Jüngere\\_(Jülich) \\\\\n",
       "\t5 & Wikbold & von & Lohn & Wikbold\\_von\\_Lohn \\\\\n",
       "\\end{tabular}\n"
      ],
      "text/plain": [
       "\u001b[1m5×4 DataFrame\u001b[0m\n",
       "\u001b[1m Row \u001b[0m│\u001b[1m givenname \u001b[0m\u001b[1m prefix    \u001b[0m\u001b[1m familyname \u001b[0m\u001b[1m Wikipedia                    \u001b[0m\n",
       "     │\u001b[90m String    \u001b[0m\u001b[90m String15? \u001b[0m\u001b[90m String?    \u001b[0m\u001b[90m String                       \u001b[0m\n",
       "─────┼────────────────────────────────────────────────────────────────\n",
       "   1 │ Gottfried  de         Fontibus    Gottfried_von_Fontaines\n",
       "   2 │ Wilhelm    von        Berg        Wilhelm_I._(Berg)\n",
       "   3 │ Wedekind   von        Holte       Wedekind_von_Holte\n",
       "   4 │ Wilhelm    von        Jülich      Wilhelm_der_Jüngere_(Jülich)\n",
       "   5 │ Wikbold    von        Lohn        Wikbold_von_Lohn"
      ]
     },
     "execution_count": 91,
     "metadata": {},
     "output_type": "execute_result"
    }
   ],
   "source": [
    "columns = [:givenname, :prefix, :familyname, :Wikipedia]\n",
    "dropmissing(df_person, :Wikipedia)[5:9, columns]"
   ]
  },
  {
   "cell_type": "markdown",
   "metadata": {},
   "source": [
    "Benenne die Spalten um entsprechend den Konventionen des FactGrid  \n",
    "*2023-12-14* `career` wird jetzt mehrfach anhand der Amtsdaten eingetragen (siehe unten)"
   ]
  },
  {
   "cell_type": "code",
   "execution_count": 93,
   "metadata": {},
   "outputs": [],
   "source": [
    "columns = [\n",
    "    :displayname => :Lde,\n",
    "    :description_de => :Dde,\n",
    "    :date_of_birth => :P77,\n",
    "    :date_of_death => :P38,\n",
    "    :GND_ID => :P76,\n",
    "    :GSN => :P472,\n",
    "    :id => :P601,\n",
    "    :Wikidata_ID => :Swikidatawiki,\n",
    "    :Wikipedia => :Sdewiki\n",
    "];"
   ]
  },
  {
   "cell_type": "code",
   "execution_count": 94,
   "metadata": {},
   "outputs": [],
   "source": [
    "rename!(df_person, columns);"
   ]
  },
  {
   "cell_type": "markdown",
   "metadata": {},
   "source": [
    "Kopiere das Label in Deutsch für die anderen Sprachen"
   ]
  },
  {
   "cell_type": "code",
   "execution_count": 95,
   "metadata": {},
   "outputs": [],
   "source": [
    "df_person.Len = df_person.Lde;\n",
    "df_person.Lfr = df_person.Lde;\n",
    "df_person.Les = df_person.Lde;"
   ]
  },
  {
   "cell_type": "markdown",
   "metadata": {},
   "source": [
    "Erstelle eine Beschreibung für Englisch aus Lebensdaten und der Gruppe des höchsten Amtes (Spalte 'career_en')"
   ]
  },
  {
   "cell_type": "code",
   "execution_count": 96,
   "metadata": {},
   "outputs": [
    {
     "data": {
      "text/plain": [
       "join_komma (generic function with 1 method)"
      ]
     },
     "execution_count": 96,
     "metadata": {},
     "output_type": "execute_result"
    }
   ],
   "source": [
    "join_komma(a, b) = join([a, b], \", \")"
   ]
  },
  {
   "cell_type": "code",
   "execution_count": 97,
   "metadata": {},
   "outputs": [],
   "source": [
    "transform!(df_person, [:biographical_dates, :career_en] => ByRow(join_komma) => :Den);"
   ]
  },
  {
   "cell_type": "code",
   "execution_count": 99,
   "metadata": {},
   "outputs": [
    {
     "data": {
      "text/html": [
       "<div><div style = \"float: left;\"><span>4×6 DataFrame</span></div><div style = \"clear: both;\"></div></div><div class = \"data-frame\" style = \"overflow-x: scroll;\"><table class = \"data-frame\" style = \"margin-bottom: 6px;\"><thead><tr class = \"header\"><th class = \"rowNumber\" style = \"font-weight: bold; text-align: right;\">Row</th><th style = \"text-align: left;\">P601</th><th style = \"text-align: left;\">givenname</th><th style = \"text-align: left;\">prefix</th><th style = \"text-align: left;\">familyname</th><th style = \"text-align: left;\">Len</th><th style = \"text-align: left;\">Den</th></tr><tr class = \"subheader headerLastRow\"><th class = \"rowNumber\" style = \"font-weight: bold; text-align: right;\"></th><th title = \"String31\" style = \"text-align: left;\">String31</th><th title = \"String\" style = \"text-align: left;\">String</th><th title = \"Union{Missing, String15}\" style = \"text-align: left;\">String15?</th><th title = \"Union{Missing, String}\" style = \"text-align: left;\">String?</th><th title = \"String\" style = \"text-align: left;\">String</th><th title = \"String\" style = \"text-align: left;\">String</th></tr></thead><tbody><tr><td class = \"rowNumber\" style = \"font-weight: bold; text-align: right;\">1</td><td style = \"text-align: left;\">WIAG-Pers-CANON-18383-001</td><td style = \"text-align: left;\">Konrad</td><td style = \"text-align: left;\">von</td><td style = \"text-align: left;\">Rennenberg</td><td style = \"text-align: left;\">Konrad von Rennenberg</td><td style = \"text-align: left;\">+ 1264, Dignitary of a cathedral chapter</td></tr><tr><td class = \"rowNumber\" style = \"font-weight: bold; text-align: right;\">2</td><td style = \"text-align: left;\">WIAG-Pers-CANON-18392-001</td><td style = \"text-align: left;\">Albert</td><td style = \"text-align: left;\">von</td><td style = \"text-align: left;\">Linnep</td><td style = \"text-align: left;\">Albert von Linnep</td><td style = \"text-align: left;\">+ 1243, Cleric of the Cathedral chapter</td></tr><tr><td class = \"rowNumber\" style = \"font-weight: bold; text-align: right;\">3</td><td style = \"text-align: left;\">WIAG-Pers-CANON-18488-001</td><td style = \"text-align: left;\">Dietrich</td><td style = \"text-align: left;\">von</td><td style = \"text-align: left;\">Kempenich</td><td style = \"text-align: left;\">Dietrich von Kempenich</td><td style = \"text-align: left;\">~ 1222, Cleric of the Cathedral chapter</td></tr><tr><td class = \"rowNumber\" style = \"font-weight: bold; text-align: right;\">4</td><td style = \"text-align: left;\">WIAG-Pers-CANON-18423-001</td><td style = \"text-align: left;\">Philipp</td><td style = \"text-align: left;\">von</td><td style = \"text-align: left;\">Altena-Isenberg</td><td style = \"text-align: left;\">Philipp von Altena-Isenberg</td><td style = \"text-align: left;\">+ 1265?, Dignitary of a cathedral chapter</td></tr></tbody></table></div>"
      ],
      "text/latex": [
       "\\begin{tabular}{r|cccccc}\n",
       "\t& P601 & givenname & prefix & familyname & Len & Den\\\\\n",
       "\t\\hline\n",
       "\t& String31 & String & String15? & String? & String & String\\\\\n",
       "\t\\hline\n",
       "\t1 & WIAG-Pers-CANON-18383-001 & Konrad & von & Rennenberg & Konrad von Rennenberg & + 1264, Dignitary of a cathedral chapter \\\\\n",
       "\t2 & WIAG-Pers-CANON-18392-001 & Albert & von & Linnep & Albert von Linnep & + 1243, Cleric of the Cathedral chapter \\\\\n",
       "\t3 & WIAG-Pers-CANON-18488-001 & Dietrich & von & Kempenich & Dietrich von Kempenich & \\textasciitilde{} 1222, Cleric of the Cathedral chapter \\\\\n",
       "\t4 & WIAG-Pers-CANON-18423-001 & Philipp & von & Altena-Isenberg & Philipp von Altena-Isenberg & + 1265?, Dignitary of a cathedral chapter \\\\\n",
       "\\end{tabular}\n"
      ],
      "text/plain": [
       "\u001b[1m4×6 DataFrame\u001b[0m\n",
       "\u001b[1m Row \u001b[0m│\u001b[1m P601                      \u001b[0m\u001b[1m givenname \u001b[0m\u001b[1m prefix    \u001b[0m\u001b[1m familyname      \u001b[0m\u001b[1m Len                         \u001b[0m\u001b[1m Den             \u001b[0m ⋯\n",
       "     │\u001b[90m String31                  \u001b[0m\u001b[90m String    \u001b[0m\u001b[90m String15? \u001b[0m\u001b[90m String?         \u001b[0m\u001b[90m String                      \u001b[0m\u001b[90m String          \u001b[0m ⋯\n",
       "─────┼──────────────────────────────────────────────────────────────────────────────────────────────────────────────────\n",
       "   1 │ WIAG-Pers-CANON-18383-001  Konrad     von        Rennenberg       Konrad von Rennenberg        + 1264, Dignitar ⋯\n",
       "   2 │ WIAG-Pers-CANON-18392-001  Albert     von        Linnep           Albert von Linnep            + 1243, Cleric o\n",
       "   3 │ WIAG-Pers-CANON-18488-001  Dietrich   von        Kempenich        Dietrich von Kempenich       ~ 1222, Cleric o\n",
       "   4 │ WIAG-Pers-CANON-18423-001  Philipp    von        Altena-Isenberg  Philipp von Altena-Isenberg  + 1265?, Dignita\n",
       "\u001b[36m                                                                                                        1 column omitted\u001b[0m"
      ]
     },
     "execution_count": 99,
     "metadata": {},
     "output_type": "execute_result"
    }
   ],
   "source": [
    "df_person[111:114, [:P601, :givenname, :prefix, :familyname, :Len, :Den]]"
   ]
  },
  {
   "cell_type": "markdown",
   "metadata": {},
   "source": [
    "Füge Daten ein, die für alle Personen gleich sind:\n",
    "Mensch, Teil der Germania Sacra Forschungsdaten, männlich"
   ]
  },
  {
   "cell_type": "code",
   "execution_count": 100,
   "metadata": {},
   "outputs": [],
   "source": [
    "insertcols!(df_person, \n",
    "    :P2 => \"Q7\",\n",
    "    :P131 => \"Q153178\",\n",
    "    :P154 => \"Q18\"\n",
    ");    "
   ]
  },
  {
   "cell_type": "markdown",
   "metadata": {},
   "source": [
    "Definiere Umwandlungsfunktionen  \n",
    "*offen:* Datumsangaben sind noch zu besprechen, wegen der Verarbeitung von unscharften Zeitangaben."
   ]
  },
  {
   "cell_type": "code",
   "execution_count": 101,
   "metadata": {},
   "outputs": [
    {
     "data": {
      "text/plain": [
       "fqs_string (generic function with 1 method)"
      ]
     },
     "execution_count": 101,
     "metadata": {},
     "output_type": "execute_result"
    }
   ],
   "source": [
    "fqs_string(s) = \"\\\"\" * string(s) * \"\\\"\""
   ]
  },
  {
   "cell_type": "code",
   "execution_count": 102,
   "metadata": {},
   "outputs": [
    {
     "data": {
      "text/plain": [
       "create (generic function with 1 method)"
      ]
     },
     "execution_count": 102,
     "metadata": {},
     "output_type": "execute_result"
    }
   ],
   "source": [
    "function create(out, row, col_list) \n",
    "    println(out, \"CREATE\")    \n",
    "    for col in col_list\n",
    "        println(out, \"LAST\\t\", string(col), \"\\t\", fqs_string(row[col]))        \n",
    "    end\n",
    "end"
   ]
  },
  {
   "cell_type": "code",
   "execution_count": 103,
   "metadata": {},
   "outputs": [
    {
     "data": {
      "text/plain": [
       "set_property_list"
      ]
     },
     "execution_count": 103,
     "metadata": {},
     "output_type": "execute_result"
    }
   ],
   "source": [
    "\"\"\"\n",
    "    set_property_list (out, row, object, col_list, fmt_list)\n",
    "\n",
    "    \n",
    "\n",
    "# Arguments\n",
    "- `out::IOStream`: output stream\n",
    "- `row::DataFrameRow`: input data\n",
    "- `object`: FactGrid identifier or \"LAST\"\n",
    "- `col_list`: list of colums where data should be read from\n",
    "- `fmr_list`: list of formatting functions (one for each column)\n",
    "\"\"\"\n",
    "function set_property_list(out, row, object, col_list, fmt_list)\n",
    "    for (col, fmt) in zip(col_list, fmt_list)\n",
    "        if (!ismissing(row[col]))\n",
    "            println(out, object, \"\\t\", string(col), \"\\t\", fmt(row[col]))\n",
    "        end\n",
    "    end\n",
    "end"
   ]
  },
  {
   "cell_type": "markdown",
   "metadata": {},
   "source": [
    "Lies die Amtsdaten für einen bestimmten Domherren"
   ]
  },
  {
   "cell_type": "code",
   "execution_count": 104,
   "metadata": {},
   "outputs": [
    {
     "data": {
      "text/plain": [
       "set_role"
      ]
     },
     "execution_count": 104,
     "metadata": {},
     "output_type": "execute_result"
    }
   ],
   "source": [
    "\"\"\"\n",
    "    set_role(df_role, id)\n",
    "\n",
    "extract roles for person with `id`\n",
    "\"\"\"\n",
    "function set_role(out, df_role, id, object, property)\n",
    "    property = Symbol(property)\n",
    "    df_pr = subset(df_role, :person_id => ByRow(isequal(id)));\n",
    "    df_pr = subset(df_pr, )\n",
    "    fq_id_list = unique(df_pr[!, property])\n",
    "    for fq_id in fq_id_list\n",
    "        println(out, object, \"\\t\", property, \"\\t\", fq_id)\n",
    "    end\n",
    "    return nothing\n",
    "end\n"
   ]
  },
  {
   "cell_type": "markdown",
   "metadata": {},
   "source": [
    "Gib ausgewählte Elemente aus `df_person` aus. Falls es schon eine Datei mit gleichem Namen im angegebenen Verzeichnis gibt, wird die Datei überschrieben."
   ]
  },
  {
   "cell_type": "code",
   "execution_count": 105,
   "metadata": {},
   "outputs": [
    {
     "data": {
      "text/plain": [
       "\"2023-12-18\""
      ]
     },
     "execution_count": 105,
     "metadata": {},
     "output_type": "execute_result"
    }
   ],
   "source": [
    "date_key = Dates.format(now(), \"yyyy-mm-dd\")"
   ]
  },
  {
   "cell_type": "code",
   "execution_count": 106,
   "metadata": {},
   "outputs": [
    {
     "data": {
      "text/plain": [
       "\"C:\\\\Users\\\\georg\\\\Documents\\\\projekte-doc\\\\Forschungsdaten-GS\\\\data\\\\FactGrid\\\\Insert_WIAG-Köln_2023-12-18_FQ.csv\""
      ]
     },
     "execution_count": 106,
     "metadata": {},
     "output_type": "execute_result"
    }
   ],
   "source": [
    "output_file = \"Insert_WIAG-Köln_\" * date_key * \"_FQ.csv\"\n",
    "output_path_file = joinpath(output_path, output_file)"
   ]
  },
  {
   "cell_type": "code",
   "execution_count": 107,
   "metadata": {},
   "outputs": [],
   "source": [
    "open(output_path_file, \"w\") do out_stream\n",
    "    for row in eachrow(df_person)\n",
    "        create(out_stream, row, [:Lde, :Len, :Lfr, :Les, :Dde, :Den])\n",
    "        set_property_list(out_stream, row, \"LAST\", \n",
    "            [:P2, :P131, :P154, :P601, :P76, :P472, :Swikidatawiki, :Sdewiki], \n",
    "            [identity, identity, identity, fqs_string, fqs_string, fqs_string, fqs_string, fqs_string])\n",
    "        set_role(out_stream, df_role, row[:P601], \"LAST\", :P1018)\n",
    "    end        \n",
    "end"
   ]
  },
  {
   "cell_type": "code",
   "execution_count": null,
   "metadata": {},
   "outputs": [],
   "source": []
  },
  {
   "cell_type": "code",
   "execution_count": null,
   "metadata": {},
   "outputs": [],
   "source": []
  },
  {
   "cell_type": "code",
   "execution_count": null,
   "metadata": {},
   "outputs": [],
   "source": []
  },
  {
   "cell_type": "code",
   "execution_count": null,
   "metadata": {},
   "outputs": [],
   "source": []
  },
  {
   "cell_type": "code",
   "execution_count": null,
   "metadata": {},
   "outputs": [],
   "source": []
  },
  {
   "cell_type": "code",
   "execution_count": null,
   "metadata": {},
   "outputs": [],
   "source": []
  }
 ],
 "metadata": {
  "kernelspec": {
   "display_name": "Julia 1.9.4",
   "language": "julia",
   "name": "julia-1.9"
  },
  "language_info": {
   "file_extension": ".jl",
   "mimetype": "application/julia",
   "name": "julia",
   "version": "1.9.4"
  }
 },
 "nbformat": 4,
 "nbformat_minor": 4
}
