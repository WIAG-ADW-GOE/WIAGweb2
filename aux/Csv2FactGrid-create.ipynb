{
 "cells": [
  {
   "cell_type": "markdown",
   "metadata": {},
   "source": [
    "# Import von WIAG-Daten in FactGrid\n",
    "Formatiere CSV-Daten aus WIAG als V1-Statements für QuickSteps  \n",
    "siehe [Einführung in QuickStatements](https://www.wikidata.org/wiki/Help:QuickStatements)\n",
    "und die [Properties des FactGrid](https://database.factgrid.de/wiki/FactGrid:Directory_of_Properties)\n",
    "\n",
    "Änderungen\n",
    "\n",
    "- *2023-12-11* Verwende die Gruppe des höchsten erreichten Amtes in der englischen Beschreibung und für P165"
   ]
  },
  {
   "cell_type": "markdown",
   "metadata": {},
   "source": [
    "Inhalt:\n",
    "\n",
    "- [neue Objekte in FactGrid anlegen](#neue-Objekte-in-FactGrid-anlegen)"
   ]
  },
  {
   "cell_type": "code",
   "execution_count": null,
   "metadata": {},
   "outputs": [],
   "source": [
    "using CSV, DataFrames, Dates"
   ]
  },
  {
   "cell_type": "code",
   "execution_count": null,
   "metadata": {},
   "outputs": [],
   "source": [
    "ENV[\"COLUMNS\"] = 120"
   ]
  },
  {
   "cell_type": "code",
   "execution_count": null,
   "metadata": {},
   "outputs": [],
   "source": [
    "input_path = \"C:\\\\Users\\\\georg\\\\Documents\\\\projekte-doc\\\\Forschungsdaten-GS\\\\data\\\\FactGrid\""
   ]
  },
  {
   "cell_type": "code",
   "execution_count": null,
   "metadata": {},
   "outputs": [],
   "source": [
    "output_path = input_path"
   ]
  },
  {
   "cell_type": "markdown",
   "metadata": {},
   "source": [
    "## neue Objekte in FactGrid anlegen\n",
    "Es wird davon ausgegangen, dass die betreffenden Personen noch nicht in FactGrid vorhanden sind. Die Spalte \"FactGrid_ID\" sollte also für alle Einträge leer sein."
   ]
  },
  {
   "cell_type": "markdown",
   "metadata": {},
   "source": [
    "Daten aus WIAG einlesen: Quelle Export \"CSV Personendaten\""
   ]
  },
  {
   "cell_type": "code",
   "execution_count": null,
   "metadata": {},
   "outputs": [],
   "source": [
    "input_file = \"WIAG-Köln_2023-12-18.csv\"\n",
    "input_path_file = joinpath(input_path, input_file)"
   ]
  },
  {
   "cell_type": "code",
   "execution_count": null,
   "metadata": {},
   "outputs": [],
   "source": [
    "df_person_all = CSV.read(input_path_file, DataFrame);\n",
    "nrow(df_person_all)"
   ]
  },
  {
   "cell_type": "markdown",
   "metadata": {},
   "source": [
    "Betrachte nur Neu-Zugänge (keine FactGrid-ID)"
   ]
  },
  {
   "cell_type": "code",
   "execution_count": null,
   "metadata": {},
   "outputs": [],
   "source": [
    "df_person_in = subset(df_person_all, :FactGrid_ID => ByRow(ismissing));\n",
    "nrow(df_person_in)"
   ]
  },
  {
   "cell_type": "code",
   "execution_count": null,
   "metadata": {},
   "outputs": [],
   "source": [
    "sort!(df_person_in, :corpus);"
   ]
  },
  {
   "cell_type": "markdown",
   "metadata": {},
   "source": [
    "Lies die Amtsdaten ein (zunächst für P1018)"
   ]
  },
  {
   "cell_type": "code",
   "execution_count": null,
   "metadata": {},
   "outputs": [],
   "source": [
    "input_file = \"WIAG-Köln-roles_2023-12-18.csv\"\n",
    "input_path_file = joinpath(input_path, input_file)"
   ]
  },
  {
   "cell_type": "code",
   "execution_count": null,
   "metadata": {},
   "outputs": [],
   "source": [
    "df_role_all = CSV.read(input_path_file, DataFrame);\n",
    "nrow(df_role_all)"
   ]
  },
  {
   "cell_type": "markdown",
   "metadata": {},
   "source": [
    "Definiere Funktionen:  \n",
    "Lege die zwei Rollen/Amtszeiten fest, die für die Beschreibung verwendet werden.  \n",
    "Priorisiere nach Gruppe der Rolle (siehe `role_group_rank_list`) und dann nach Amtszeit (jüngste zuerst)"
   ]
  },
  {
   "cell_type": "code",
   "execution_count": null,
   "metadata": {},
   "outputs": [],
   "source": [
    "function describe_role(role)\n",
    "    inst_or_dioc = !ismissing(role[:institution]) ? role[:institution] : role[:diocese]    \n",
    "    \n",
    "    date_info = \"\"\n",
    "    if !ismissing(role[:date_begin]) && !ismissing(role[:date_end])\n",
    "        date_info = role[:date_begin] * \"-\" * role[:date_end]\n",
    "    elseif !ismissing(role[:date_begin])\n",
    "        date_info = role[:date_begin]\n",
    "    elseif !ismissing(role[:date_end])\n",
    "        date_info = \"bis \" * role[:date_end]\n",
    "    end\n",
    "    \n",
    "    description = role[:name]\n",
    "    if !ismissing(inst_or_dioc)\n",
    "        description *= \" \" * inst_or_dioc\n",
    "    end\n",
    "    if date_info != \"\"\n",
    "        description *= \" \" * date_info\n",
    "    end\n",
    "    \n",
    "    return description    \n",
    "end"
   ]
  },
  {
   "cell_type": "code",
   "execution_count": null,
   "metadata": {},
   "outputs": [],
   "source": [
    "role_group_rank_list = [\n",
    "    \"Q648236\", # Leiter (Erz-)diözese (Altes Reich)\n",
    "    \"Q648232\", # Domdignitär Altes Reich\n",
    "    \"Q648233\", # Klosterangehöriger mit Leitungsamt\n",
    "    \"Q646226\", # Domkleriker Altes Reich\n",
    "]"
   ]
  },
  {
   "cell_type": "code",
   "execution_count": null,
   "metadata": {},
   "outputs": [],
   "source": [
    "\"\"\"\n",
    "    lt_role_group_fq_id(a, b, role_group_rank_list)\n",
    "\n",
    "compare `a` and `b` based on `role_group_rank_list`\n",
    "\"\"\"\n",
    "function less_than_role_group_fq_id(a, b, role_group_rank_list)\n",
    "    if ismissing(a)\n",
    "        return false\n",
    "    end\n",
    "    if ismissing(b)\n",
    "        return true\n",
    "    end\n",
    "    \n",
    "    lt = false\n",
    "    for rg_prio in role_group_rank_list\n",
    "        if a == rg_prio && b != rg_prio\n",
    "            lt = true\n",
    "            break\n",
    "        end\n",
    "        if a != rg_prio && b == rg_prio\n",
    "            lt = false\n",
    "            break\n",
    "        end\n",
    "    end\n",
    "    \n",
    "    return lt        \n",
    "end\n",
    "\n",
    "lt_rg_fq_id(a, b) = less_than_role_group_fq_id(a, b, role_group_rank_list)"
   ]
  },
  {
   "cell_type": "code",
   "execution_count": null,
   "metadata": {},
   "outputs": [],
   "source": [
    "function description_by_role(df)\n",
    "    N_ROLE_4_DESCRIPTION = 2\n",
    "    df_s = sort(df, [:date_sort_key], rev = true)\n",
    "    df_s = sort(df_s, [:role_group_fq_id], lt = lt_rg_fq_id, alg = MergeSort)\n",
    "    description_list = String[]\n",
    "    for row in eachrow(df_s)\n",
    "        push!(description_list, describe_role(row))\n",
    "    end\n",
    "    head_list = first(unique(description_list), N_ROLE_4_DESCRIPTION)\n",
    "    return join(head_list, \", \")\n",
    "end"
   ]
  },
  {
   "cell_type": "code",
   "execution_count": null,
   "metadata": {},
   "outputs": [],
   "source": [
    "dfg_role_all = groupby(df_role_all, [:person_id]);\n",
    "df_role_description = combine(dfg_role_all, description_by_role);\n",
    "nrow(df_role_description)"
   ]
  },
  {
   "cell_type": "code",
   "execution_count": null,
   "metadata": {},
   "outputs": [],
   "source": [
    "df_role_description[200:205, :]"
   ]
  },
  {
   "cell_type": "markdown",
   "metadata": {},
   "source": [
    "Test\n",
    "Karl Erzherzog von Österreich, WIAG-Pers-EPISCGatz-20417-001"
   ]
  },
  {
   "cell_type": "code",
   "execution_count": null,
   "metadata": {},
   "outputs": [],
   "source": [
    "subset(df_role_description, :person_id => ByRow(isequal(\"WIAG-Pers-EPISCGatz-20417-001\")))"
   ]
  },
  {
   "cell_type": "code",
   "execution_count": null,
   "metadata": {},
   "outputs": [],
   "source": [
    "columns = [\n",
    "    :person_id => :person_id,\n",
    "    :x1 => :summary_roles,\n",
    "]"
   ]
  },
  {
   "cell_type": "code",
   "execution_count": null,
   "metadata": {},
   "outputs": [],
   "source": [
    "df_person = innerjoin(df_person_in, select(df_role_description, columns), on = :id => :person_id);\n",
    "nrow(df_person)"
   ]
  },
  {
   "cell_type": "code",
   "execution_count": null,
   "metadata": {},
   "outputs": [],
   "source": [
    "df_person[200:204, [:id, :displayname, :summary_roles]]"
   ]
  },
  {
   "cell_type": "markdown",
   "metadata": {},
   "source": [
    "Wähle für die Liste der Rollen die relevanten Spalten aus."
   ]
  },
  {
   "cell_type": "code",
   "execution_count": null,
   "metadata": {},
   "outputs": [],
   "source": [
    "columns = [\n",
    "    :person_id => :person_id,\n",
    "    :role_group_fq_id => :P1018\n",
    "]"
   ]
  },
  {
   "cell_type": "code",
   "execution_count": null,
   "metadata": {},
   "outputs": [],
   "source": [
    "df_role = select(df_role_all, columns);"
   ]
  },
  {
   "cell_type": "markdown",
   "metadata": {},
   "source": [
    "Es werden die Ämter für P1018 eingetragen, deren Gruppen über die entsprechenden FactGrid-IDs hier ausgewählt werden."
   ]
  },
  {
   "cell_type": "code",
   "execution_count": null,
   "metadata": {},
   "outputs": [],
   "source": [
    "relevant_role_group_fq_id = [\n",
    "    \"Q648236\", # Leiter (Erz-)diözese (Altes Reich)\n",
    "    \"Q648232\", # Domdignitär Altes Reich    \n",
    "];"
   ]
  },
  {
   "cell_type": "code",
   "execution_count": null,
   "metadata": {},
   "outputs": [],
   "source": [
    "is_relevant(s) = !ismissing(s) && s in relevant_role_group_fq_id"
   ]
  },
  {
   "cell_type": "code",
   "execution_count": null,
   "metadata": {},
   "outputs": [],
   "source": [
    "df_role = subset(df_role, :P1018 => ByRow(is_relevant));\n",
    "nrow(df_role)"
   ]
  },
  {
   "cell_type": "markdown",
   "metadata": {},
   "source": [
    "Das deutsche Beschreibungsfeld soll Lebensdaten mit der Zusammenfassung der Amtsdaten enthalten."
   ]
  },
  {
   "cell_type": "code",
   "execution_count": null,
   "metadata": {},
   "outputs": [],
   "source": [
    "join_komma(a, b) = join((a, b), \", \")\n",
    "transform!(df_person, [:biographical_dates, :summary_roles] => ByRow(join_komma) => :description_de);"
   ]
  },
  {
   "cell_type": "markdown",
   "metadata": {},
   "source": [
    "Das FactGrid arbeitet für Wikipedia nicht mit URL-codierten Adressen.\n",
    "*2023-12-13* WIAG gibt direkt unkodierte URLs aus, daher sind die folgenden Schritte auskommentiert"
   ]
  },
  {
   "cell_type": "code",
   "execution_count": null,
   "metadata": {},
   "outputs": [],
   "source": [
    "# unescape_not_mg(s) = ismissing(s) ? s : URIs.unescapeuri(s)"
   ]
  },
  {
   "cell_type": "code",
   "execution_count": null,
   "metadata": {},
   "outputs": [],
   "source": [
    "# transform!(df_person, :Wikipedia => ByRow(unescape_not_mg) => :Wikipedia);"
   ]
  },
  {
   "cell_type": "code",
   "execution_count": null,
   "metadata": {},
   "outputs": [],
   "source": [
    "columns = [:givenname, :prefix, :familyname, :Wikipedia]\n",
    "dropmissing(df_person, :Wikipedia)[5:9, columns]"
   ]
  },
  {
   "cell_type": "markdown",
   "metadata": {},
   "source": [
    "Benenne die Spalten um entsprechend den Konventionen des FactGrid  \n",
    "*2023-12-14* `career` wird jetzt mehrfach anhand der Amtsdaten eingetragen (siehe unten)"
   ]
  },
  {
   "cell_type": "code",
   "execution_count": null,
   "metadata": {},
   "outputs": [],
   "source": [
    "columns = [\n",
    "    :displayname => :Lde,\n",
    "    :description_de => :Dde,\n",
    "    :date_of_birth => :P77,\n",
    "    :date_of_death => :P38,\n",
    "    :GND_ID => :P76,\n",
    "    :GSN => :P472,\n",
    "    :id => :P601,\n",
    "    :Wikidata_ID => :Swikidatawiki,\n",
    "    :Wikipedia => :Sdewiki\n",
    "];"
   ]
  },
  {
   "cell_type": "code",
   "execution_count": null,
   "metadata": {},
   "outputs": [],
   "source": [
    "rename!(df_person, columns);"
   ]
  },
  {
   "cell_type": "markdown",
   "metadata": {},
   "source": [
    "Kopiere das Label in Deutsch für die anderen Sprachen"
   ]
  },
  {
   "cell_type": "code",
   "execution_count": null,
   "metadata": {},
   "outputs": [],
   "source": [
    "df_person.Len = df_person.Lde;\n",
    "df_person.Lfr = df_person.Lde;\n",
    "df_person.Les = df_person.Lde;"
   ]
  },
  {
   "cell_type": "markdown",
   "metadata": {},
   "source": [
    "Erstelle eine Beschreibung für Englisch aus Lebensdaten und der Gruppe des höchsten Amtes (Spalte 'career_en')"
   ]
  },
  {
   "cell_type": "code",
   "execution_count": null,
   "metadata": {},
   "outputs": [],
   "source": [
    "join_komma(a, b) = join([a, b], \", \")"
   ]
  },
  {
   "cell_type": "code",
   "execution_count": null,
   "metadata": {},
   "outputs": [],
   "source": [
    "transform!(df_person, [:biographical_dates, :career_en] => ByRow(join_komma) => :Den);"
   ]
  },
  {
   "cell_type": "code",
   "execution_count": null,
   "metadata": {},
   "outputs": [],
   "source": [
    "df_person[111:114, [:P601, :givenname, :prefix, :familyname, :Len, :Den]]"
   ]
  },
  {
   "cell_type": "markdown",
   "metadata": {},
   "source": [
    "Füge Daten ein, die für alle Personen gleich sind:\n",
    "Mensch, Teil der Germania Sacra Forschungsdaten, männlich"
   ]
  },
  {
   "cell_type": "code",
   "execution_count": null,
   "metadata": {},
   "outputs": [],
   "source": [
    "insertcols!(df_person, \n",
    "    :P2 => \"Q7\",\n",
    "    :P131 => \"Q153178\",\n",
    "    :P154 => \"Q18\"\n",
    ");    "
   ]
  },
  {
   "cell_type": "markdown",
   "metadata": {},
   "source": [
    "Definiere Umwandlungsfunktionen  \n",
    "*offen:* Datumsangaben sind noch zu besprechen, wegen der Verarbeitung von unscharften Zeitangaben."
   ]
  },
  {
   "cell_type": "code",
   "execution_count": null,
   "metadata": {},
   "outputs": [],
   "source": [
    "fqs_string(s) = \"\\\"\" * string(s) * \"\\\"\""
   ]
  },
  {
   "cell_type": "code",
   "execution_count": null,
   "metadata": {},
   "outputs": [],
   "source": [
    "function create(out, row, col_list) \n",
    "    println(out, \"CREATE\")    \n",
    "    for col in col_list\n",
    "        println(out, \"LAST\\t\", string(col), \"\\t\", fqs_string(row[col]))        \n",
    "    end\n",
    "end"
   ]
  },
  {
   "cell_type": "code",
   "execution_count": null,
   "metadata": {},
   "outputs": [],
   "source": [
    "\"\"\"\n",
    "    set_property_list (out, row, object, col_list, fmt_list)\n",
    "\n",
    "    \n",
    "\n",
    "# Arguments\n",
    "- `out::IOStream`: output stream\n",
    "- `row::DataFrameRow`: input data\n",
    "- `object`: FactGrid identifier or \"LAST\"\n",
    "- `col_list`: list of colums where data should be read from\n",
    "- `fmr_list`: list of formatting functions (one for each column)\n",
    "\"\"\"\n",
    "function set_property_list(out, row, object, col_list, fmt_list)\n",
    "    for (col, fmt) in zip(col_list, fmt_list)\n",
    "        if (!ismissing(row[col]))\n",
    "            println(out, object, \"\\t\", string(col), \"\\t\", fmt(row[col]))\n",
    "        end\n",
    "    end\n",
    "end"
   ]
  },
  {
   "cell_type": "markdown",
   "metadata": {},
   "source": [
    "Lies die Amtsdaten für einen bestimmten Domherren"
   ]
  },
  {
   "cell_type": "code",
   "execution_count": null,
   "metadata": {},
   "outputs": [],
   "source": [
    "\"\"\"\n",
    "    set_role(df_role, id)\n",
    "\n",
    "extract roles for person with `id`\n",
    "\"\"\"\n",
    "function set_role(out, df_role, id, object, property)\n",
    "    property = Symbol(property)\n",
    "    df_pr = subset(df_role, :person_id => ByRow(isequal(id)));\n",
    "    df_pr = subset(df_pr, )\n",
    "    fq_id_list = unique(df_pr[!, property])\n",
    "    for fq_id in fq_id_list\n",
    "        println(out, object, \"\\t\", property, \"\\t\", fq_id)\n",
    "    end\n",
    "    return nothing\n",
    "end\n"
   ]
  },
  {
   "cell_type": "markdown",
   "metadata": {},
   "source": [
    "Gib ausgewählte Elemente aus `df_person` aus. Falls es schon eine Datei mit gleichem Namen im angegebenen Verzeichnis gibt, wird die Datei überschrieben."
   ]
  },
  {
   "cell_type": "code",
   "execution_count": null,
   "metadata": {},
   "outputs": [],
   "source": [
    "date_key = Dates.format(now(), \"yyyy-mm-dd\")"
   ]
  },
  {
   "cell_type": "code",
   "execution_count": null,
   "metadata": {},
   "outputs": [],
   "source": [
    "output_file = \"Insert_WIAG-Köln_\" * date_key * \"_FQ.csv\"\n",
    "output_path_file = joinpath(output_path, output_file)"
   ]
  },
  {
   "cell_type": "code",
   "execution_count": null,
   "metadata": {},
   "outputs": [],
   "source": [
    "open(output_path_file, \"w\") do out_stream\n",
    "    for row in eachrow(df_person)\n",
    "        create(out_stream, row, [:Lde, :Len, :Lfr, :Les, :Dde, :Den])\n",
    "        set_property_list(out_stream, row, \"LAST\", \n",
    "            [:P2, :P131, :P154, :P601, :P76, :P472, :Swikidatawiki, :Sdewiki], \n",
    "            [identity, identity, identity, fqs_string, fqs_string, fqs_string, fqs_string, fqs_string])\n",
    "        set_role(out_stream, df_role, row[:P601], \"LAST\", :P1018)\n",
    "    end        \n",
    "end"
   ]
  },
  {
   "cell_type": "code",
   "execution_count": null,
   "metadata": {},
   "outputs": [],
   "source": []
  },
  {
   "cell_type": "code",
   "execution_count": null,
   "metadata": {},
   "outputs": [],
   "source": []
  },
  {
   "cell_type": "code",
   "execution_count": null,
   "metadata": {},
   "outputs": [],
   "source": []
  },
  {
   "cell_type": "code",
   "execution_count": null,
   "metadata": {},
   "outputs": [],
   "source": []
  },
  {
   "cell_type": "code",
   "execution_count": null,
   "metadata": {},
   "outputs": [],
   "source": []
  },
  {
   "cell_type": "code",
   "execution_count": null,
   "metadata": {},
   "outputs": [],
   "source": []
  }
 ],
 "metadata": {
  "kernelspec": {
   "display_name": "Julia 1.9.4",
   "language": "julia",
   "name": "julia-1.9"
  },
  "language_info": {
   "file_extension": ".jl",
   "mimetype": "application/julia",
   "name": "julia",
   "version": "1.9.4"
  }
 },
 "nbformat": 4,
 "nbformat_minor": 4
}
