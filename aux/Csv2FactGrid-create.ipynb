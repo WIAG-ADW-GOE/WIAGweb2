{
 "cells": [
  {
   "cell_type": "markdown",
   "metadata": {},
   "source": [
    "# Import von WIAG-Daten in FactGrid\n",
    "Formatiere CSV-Daten aus WIAG als V1-Statements für QuickSteps  \n",
    "siehe [Einführung in QuickStatements](https://www.wikidata.org/wiki/Help:QuickStatements)\n",
    "und die [Properties des FactGrid](https://database.factgrid.de/wiki/FactGrid:Directory_of_Properties)\n",
    "\n",
    "Änderungen\n",
    "\n",
    "- *2023-12-11* Verwende die Gruppe des höchsten erreichten Amtes in der englischen Beschreibung und für P165"
   ]
  },
  {
   "cell_type": "markdown",
   "metadata": {},
   "source": [
    "Inhalt:\n",
    "\n",
    "- [neue Objekte in FactGrid anlegen](#neue-Objekte-in-FactGrid-anlegen)"
   ]
  },
  {
   "cell_type": "code",
   "execution_count": 1,
   "metadata": {},
   "outputs": [],
   "source": [
    "using CSV, DataFrames, Dates, URIs"
   ]
  },
  {
   "cell_type": "code",
   "execution_count": 2,
   "metadata": {},
   "outputs": [
    {
     "data": {
      "text/plain": [
       "120"
      ]
     },
     "execution_count": 2,
     "metadata": {},
     "output_type": "execute_result"
    }
   ],
   "source": [
    "ENV[\"COLUMNS\"] = 120"
   ]
  },
  {
   "cell_type": "code",
   "execution_count": 3,
   "metadata": {},
   "outputs": [
    {
     "data": {
      "text/plain": [
       "\"C:\\\\Users\\\\georg\\\\Documents\\\\projekte-doc\\\\Forschungsdaten-GS\\\\data\\\\FactGrid\""
      ]
     },
     "execution_count": 3,
     "metadata": {},
     "output_type": "execute_result"
    }
   ],
   "source": [
    "input_path = \"C:\\\\Users\\\\georg\\\\Documents\\\\projekte-doc\\\\Forschungsdaten-GS\\\\data\\\\FactGrid\""
   ]
  },
  {
   "cell_type": "code",
   "execution_count": 4,
   "metadata": {},
   "outputs": [
    {
     "data": {
      "text/plain": [
       "\"C:\\\\Users\\\\georg\\\\Documents\\\\projekte-doc\\\\Forschungsdaten-GS\\\\data\\\\FactGrid\""
      ]
     },
     "execution_count": 4,
     "metadata": {},
     "output_type": "execute_result"
    }
   ],
   "source": [
    "output_path = input_path"
   ]
  },
  {
   "cell_type": "markdown",
   "metadata": {},
   "source": [
    "## neue Objekte in FactGrid anlegen\n",
    "Es wird davon ausgegangen, dass die betreffenden Personen noch nicht in FactGrid vorhanden sind. Die Spalte \"FactGrid_ID\" sollte also für alle Einträge leer sein."
   ]
  },
  {
   "cell_type": "markdown",
   "metadata": {},
   "source": [
    "Daten aus WIAG einlesen: Quelle Export \"CSV Personendaten\""
   ]
  },
  {
   "cell_type": "code",
   "execution_count": 5,
   "metadata": {},
   "outputs": [
    {
     "data": {
      "text/plain": [
       "\"C:\\\\Users\\\\georg\\\\Documents\\\\projekte-doc\\\\Forschungsdaten-GS\\\\data\\\\FactGrid\\\\WIAG-can_2023-12-13_ii.csv\""
      ]
     },
     "execution_count": 5,
     "metadata": {},
     "output_type": "execute_result"
    }
   ],
   "source": [
    "input_file = \"WIAG-can_2023-12-13_ii.csv\"\n",
    "input_path_file = joinpath(input_path, input_file)"
   ]
  },
  {
   "cell_type": "code",
   "execution_count": 6,
   "metadata": {},
   "outputs": [
    {
     "data": {
      "text/plain": [
       "15144"
      ]
     },
     "execution_count": 6,
     "metadata": {},
     "output_type": "execute_result"
    }
   ],
   "source": [
    "df_person_all = CSV.read(input_path_file, DataFrame);\n",
    "nrow(df_person_all)"
   ]
  },
  {
   "cell_type": "markdown",
   "metadata": {},
   "source": [
    "Betrachte nur Neu-Zugänge (keine FactGrid-ID)"
   ]
  },
  {
   "cell_type": "code",
   "execution_count": 7,
   "metadata": {},
   "outputs": [
    {
     "data": {
      "text/plain": [
       "13878"
      ]
     },
     "execution_count": 7,
     "metadata": {},
     "output_type": "execute_result"
    }
   ],
   "source": [
    "df_person = subset(df_person_all, :FactGrid_ID => ByRow(ismissing));\n",
    "nrow(df_person)"
   ]
  },
  {
   "cell_type": "markdown",
   "metadata": {},
   "source": [
    "Das deutsche Beschreibungsfeld enthält Lebensdaten mit der Zusammenfassung der Amtsdaten"
   ]
  },
  {
   "cell_type": "code",
   "execution_count": 8,
   "metadata": {},
   "outputs": [],
   "source": [
    "join_komma(a, b) = join((a, b), \", \")\n",
    "transform!(df_person, [:biographical_dates, :summary_offices] => ByRow(join_komma) => :description_de);"
   ]
  },
  {
   "cell_type": "markdown",
   "metadata": {},
   "source": [
    "Das FactGrid arbeitet für Wikipedia nicht mit URL-codierten Adressen.\n",
    "*2023-12-13* WIAG gibt direkt "
   ]
  },
  {
   "cell_type": "code",
   "execution_count": 9,
   "metadata": {},
   "outputs": [
    {
     "data": {
      "text/plain": [
       "unescape_not_mg (generic function with 1 method)"
      ]
     },
     "execution_count": 9,
     "metadata": {},
     "output_type": "execute_result"
    }
   ],
   "source": [
    "unescape_not_mg(s) = ismissing(s) ? s : URIs.unescapeuri(s)"
   ]
  },
  {
   "cell_type": "code",
   "execution_count": 41,
   "metadata": {},
   "outputs": [],
   "source": [
    "transform!(df_person, :Wikipedia => ByRow(unescape_not_mg) => :Wikipedia);"
   ]
  },
  {
   "cell_type": "code",
   "execution_count": 42,
   "metadata": {},
   "outputs": [
    {
     "data": {
      "text/html": [
       "<div><div style = \"float: left;\"><span>9×4 DataFrame</span></div><div style = \"clear: both;\"></div></div><div class = \"data-frame\" style = \"overflow-x: scroll;\"><table class = \"data-frame\" style = \"margin-bottom: 6px;\"><thead><tr class = \"header\"><th class = \"rowNumber\" style = \"font-weight: bold; text-align: right;\">Row</th><th style = \"text-align: left;\">givenname</th><th style = \"text-align: left;\">prefix</th><th style = \"text-align: left;\">familyname</th><th style = \"text-align: left;\">Wikipedia</th></tr><tr class = \"subheader headerLastRow\"><th class = \"rowNumber\" style = \"font-weight: bold; text-align: right;\"></th><th title = \"String\" style = \"text-align: left;\">String</th><th title = \"Union{Missing, String31}\" style = \"text-align: left;\">String31?</th><th title = \"Union{Missing, String}\" style = \"text-align: left;\">String?</th><th title = \"Union{Missing, String}\" style = \"text-align: left;\">String?</th></tr></thead><tbody><tr><td class = \"rowNumber\" style = \"font-weight: bold; text-align: right;\">1</td><td style = \"text-align: left;\">Peter</td><td style = \"font-style: italic; text-align: left;\">missing</td><td style = \"text-align: left;\">Fride</td><td style = \"font-style: italic; text-align: left;\">missing</td></tr><tr><td class = \"rowNumber\" style = \"font-weight: bold; text-align: right;\">2</td><td style = \"text-align: left;\">Heinrich</td><td style = \"font-style: italic; text-align: left;\">missing</td><td style = \"text-align: left;\">Elchleben</td><td style = \"font-style: italic; text-align: left;\">missing</td></tr><tr><td class = \"rowNumber\" style = \"font-weight: bold; text-align: right;\">3</td><td style = \"text-align: left;\">Wilhelm</td><td style = \"font-style: italic; text-align: left;\">missing</td><td style = \"text-align: left;\">Schenk von Limpurg</td><td style = \"font-style: italic; text-align: left;\">missing</td></tr><tr><td class = \"rowNumber\" style = \"font-weight: bold; text-align: right;\">4</td><td style = \"text-align: left;\">Gebhard</td><td style = \"text-align: left;\">von</td><td style = \"text-align: left;\">Bulach</td><td style = \"font-style: italic; text-align: left;\">missing</td></tr><tr><td class = \"rowNumber\" style = \"font-weight: bold; text-align: right;\">5</td><td style = \"text-align: left;\">Johannes</td><td style = \"font-style: italic; text-align: left;\">missing</td><td style = \"text-align: left;\">Kautsch</td><td style = \"font-style: italic; text-align: left;\">missing</td></tr><tr><td class = \"rowNumber\" style = \"font-weight: bold; text-align: right;\">6</td><td style = \"text-align: left;\">Johannes Wernher</td><td style = \"text-align: left;\">von</td><td style = \"text-align: left;\">Flachslanden</td><td style = \"font-style: italic; text-align: left;\">missing</td></tr><tr><td class = \"rowNumber\" style = \"font-weight: bold; text-align: right;\">7</td><td style = \"text-align: left;\">Berthold</td><td style = \"text-align: left;\">von</td><td style = \"text-align: left;\">Henneberg</td><td style = \"font-style: italic; text-align: left;\">missing</td></tr><tr><td class = \"rowNumber\" style = \"font-weight: bold; text-align: right;\">8</td><td style = \"text-align: left;\">Johann</td><td style = \"font-style: italic; text-align: left;\">missing</td><td style = \"text-align: left;\">Pfalzgraf bei Rhein</td><td style = \"text-align: left;\">Johann_von_Pfalz-Mosbach</td></tr><tr><td class = \"rowNumber\" style = \"font-weight: bold; text-align: right;\">9</td><td style = \"text-align: left;\">Albrecht</td><td style = \"text-align: left;\">von</td><td style = \"text-align: left;\">Bayern</td><td style = \"text-align: left;\">Albrecht_IV._(Bayern)</td></tr></tbody></table></div>"
      ],
      "text/latex": [
       "\\begin{tabular}{r|cccc}\n",
       "\t& givenname & prefix & familyname & Wikipedia\\\\\n",
       "\t\\hline\n",
       "\t& String & String31? & String? & String?\\\\\n",
       "\t\\hline\n",
       "\t1 & Peter & \\emph{missing} & Fride & \\emph{missing} \\\\\n",
       "\t2 & Heinrich & \\emph{missing} & Elchleben & \\emph{missing} \\\\\n",
       "\t3 & Wilhelm & \\emph{missing} & Schenk von Limpurg & \\emph{missing} \\\\\n",
       "\t4 & Gebhard & von & Bulach & \\emph{missing} \\\\\n",
       "\t5 & Johannes & \\emph{missing} & Kautsch & \\emph{missing} \\\\\n",
       "\t6 & Johannes Wernher & von & Flachslanden & \\emph{missing} \\\\\n",
       "\t7 & Berthold & von & Henneberg & \\emph{missing} \\\\\n",
       "\t8 & Johann & \\emph{missing} & Pfalzgraf bei Rhein & Johann\\_von\\_Pfalz-Mosbach \\\\\n",
       "\t9 & Albrecht & von & Bayern & Albrecht\\_IV.\\_(Bayern) \\\\\n",
       "\\end{tabular}\n"
      ],
      "text/plain": [
       "\u001b[1m9×4 DataFrame\u001b[0m\n",
       "\u001b[1m Row \u001b[0m│\u001b[1m givenname        \u001b[0m\u001b[1m prefix    \u001b[0m\u001b[1m familyname          \u001b[0m\u001b[1m Wikipedia                \u001b[0m\n",
       "     │\u001b[90m String           \u001b[0m\u001b[90m String31? \u001b[0m\u001b[90m String?             \u001b[0m\u001b[90m String?                  \u001b[0m\n",
       "─────┼────────────────────────────────────────────────────────────────────────────\n",
       "   1 │ Peter            \u001b[90m missing   \u001b[0m Fride               \u001b[90m missing                  \u001b[0m\n",
       "   2 │ Heinrich         \u001b[90m missing   \u001b[0m Elchleben           \u001b[90m missing                  \u001b[0m\n",
       "   3 │ Wilhelm          \u001b[90m missing   \u001b[0m Schenk von Limpurg  \u001b[90m missing                  \u001b[0m\n",
       "   4 │ Gebhard           von        Bulach              \u001b[90m missing                  \u001b[0m\n",
       "   5 │ Johannes         \u001b[90m missing   \u001b[0m Kautsch             \u001b[90m missing                  \u001b[0m\n",
       "   6 │ Johannes Wernher  von        Flachslanden        \u001b[90m missing                  \u001b[0m\n",
       "   7 │ Berthold          von        Henneberg           \u001b[90m missing                  \u001b[0m\n",
       "   8 │ Johann           \u001b[90m missing   \u001b[0m Pfalzgraf bei Rhein  Johann_von_Pfalz-Mosbach\n",
       "   9 │ Albrecht          von        Bayern               Albrecht_IV._(Bayern)"
      ]
     },
     "execution_count": 42,
     "metadata": {},
     "output_type": "execute_result"
    }
   ],
   "source": [
    "df_person[11:19, [:givenname, :prefix, :familyname, :Wikipedia]]"
   ]
  },
  {
   "cell_type": "markdown",
   "metadata": {},
   "source": [
    "Benenne die Spalten um entsprechend den Konventionen des FactGrid"
   ]
  },
  {
   "cell_type": "code",
   "execution_count": 43,
   "metadata": {},
   "outputs": [],
   "source": [
    "columns = [\n",
    "    :displayname => :Lde,\n",
    "    :description_de => :Dde,\n",
    "    :date_of_birth => :P77,\n",
    "    :date_of_death => :P38,\n",
    "    :carrer => :P165,\n",
    "    :GND_ID => :P76,\n",
    "    :GSN => :P472,\n",
    "    :id => :P601,\n",
    "    :Wikidata_ID => :Swikidatawiki,\n",
    "    :Wikipedia => :Sdewiki\n",
    "];"
   ]
  },
  {
   "cell_type": "code",
   "execution_count": 44,
   "metadata": {},
   "outputs": [],
   "source": [
    "rename!(df_person, columns);"
   ]
  },
  {
   "cell_type": "markdown",
   "metadata": {},
   "source": [
    "Kopiere das Label in Deutsch für die anderen Sprachen"
   ]
  },
  {
   "cell_type": "code",
   "execution_count": 45,
   "metadata": {},
   "outputs": [],
   "source": [
    "df_person.Len = df_person.Lde;\n",
    "df_person.Lfr = df_person.Lde;\n",
    "df_person.Les = df_person.Lde;"
   ]
  },
  {
   "cell_type": "markdown",
   "metadata": {},
   "source": [
    "Erstelle eine Beschreibung für Englisch aus Lebensdaten und der Gruppe des höchsten Amtes"
   ]
  },
  {
   "cell_type": "code",
   "execution_count": 46,
   "metadata": {},
   "outputs": [
    {
     "data": {
      "text/plain": [
       "join_komma (generic function with 1 method)"
      ]
     },
     "execution_count": 46,
     "metadata": {},
     "output_type": "execute_result"
    }
   ],
   "source": [
    "join_komma(a, b) = join([a, b], \", \")"
   ]
  },
  {
   "cell_type": "code",
   "execution_count": 47,
   "metadata": {},
   "outputs": [],
   "source": [
    "transform!(df_person, [:biographical_dates, :carrer_en] => ByRow(join_komma) => :Den);"
   ]
  },
  {
   "cell_type": "code",
   "execution_count": 48,
   "metadata": {},
   "outputs": [
    {
     "data": {
      "text/html": [
       "<div><div style = \"float: left;\"><span>9×5 DataFrame</span></div><div style = \"clear: both;\"></div></div><div class = \"data-frame\" style = \"overflow-x: scroll;\"><table class = \"data-frame\" style = \"margin-bottom: 6px;\"><thead><tr class = \"header\"><th class = \"rowNumber\" style = \"font-weight: bold; text-align: right;\">Row</th><th style = \"text-align: left;\">givenname</th><th style = \"text-align: left;\">prefix</th><th style = \"text-align: left;\">familyname</th><th style = \"text-align: left;\">Len</th><th style = \"text-align: left;\">Den</th></tr><tr class = \"subheader headerLastRow\"><th class = \"rowNumber\" style = \"font-weight: bold; text-align: right;\"></th><th title = \"String\" style = \"text-align: left;\">String</th><th title = \"Union{Missing, String31}\" style = \"text-align: left;\">String31?</th><th title = \"Union{Missing, String}\" style = \"text-align: left;\">String?</th><th title = \"String\" style = \"text-align: left;\">String</th><th title = \"String\" style = \"text-align: left;\">String</th></tr></thead><tbody><tr><td class = \"rowNumber\" style = \"font-weight: bold; text-align: right;\">1</td><td style = \"text-align: left;\">Peter</td><td style = \"font-style: italic; text-align: left;\">missing</td><td style = \"text-align: left;\">Fride</td><td style = \"text-align: left;\">Peter Fride</td><td style = \"text-align: left;\">~ 1417, Member of a collegiate church</td></tr><tr><td class = \"rowNumber\" style = \"font-weight: bold; text-align: right;\">2</td><td style = \"text-align: left;\">Heinrich</td><td style = \"font-style: italic; text-align: left;\">missing</td><td style = \"text-align: left;\">Elchleben</td><td style = \"text-align: left;\">Heinrich Elchleben</td><td style = \"text-align: left;\">+ kurz vor 1446, Cleric of the Cathedral chapter</td></tr><tr><td class = \"rowNumber\" style = \"font-weight: bold; text-align: right;\">3</td><td style = \"text-align: left;\">Wilhelm</td><td style = \"font-style: italic; text-align: left;\">missing</td><td style = \"text-align: left;\">Schenk von Limpurg</td><td style = \"text-align: left;\">Wilhelm Schenk von Limpurg</td><td style = \"text-align: left;\">* 1410, + 1475, Head of an (Arch)diocese</td></tr><tr><td class = \"rowNumber\" style = \"font-weight: bold; text-align: right;\">4</td><td style = \"text-align: left;\">Gebhard</td><td style = \"text-align: left;\">von</td><td style = \"text-align: left;\">Bulach</td><td style = \"text-align: left;\">Gebhard von Bulach</td><td style = \"text-align: left;\">+ 1465, Cleric of the Cathedral chapter</td></tr><tr><td class = \"rowNumber\" style = \"font-weight: bold; text-align: right;\">5</td><td style = \"text-align: left;\">Johannes</td><td style = \"font-style: italic; text-align: left;\">missing</td><td style = \"text-align: left;\">Kautsch</td><td style = \"text-align: left;\">Johannes Kautsch</td><td style = \"text-align: left;\">+ 1462, Cleric of the Cathedral chapter</td></tr><tr><td class = \"rowNumber\" style = \"font-weight: bold; text-align: right;\">6</td><td style = \"text-align: left;\">Johannes Wernher</td><td style = \"text-align: left;\">von</td><td style = \"text-align: left;\">Flachslanden</td><td style = \"text-align: left;\">Johannes Wernher von Flachslanden</td><td style = \"text-align: left;\">+ 1481, Dignitary of a cathedral chapter</td></tr><tr><td class = \"rowNumber\" style = \"font-weight: bold; text-align: right;\">7</td><td style = \"text-align: left;\">Berthold</td><td style = \"text-align: left;\">von</td><td style = \"text-align: left;\">Henneberg</td><td style = \"text-align: left;\">Berthold von Henneberg</td><td style = \"text-align: left;\">* 1443, + 1495, Cleric of the Cathedral chapter</td></tr><tr><td class = \"rowNumber\" style = \"font-weight: bold; text-align: right;\">8</td><td style = \"text-align: left;\">Johann</td><td style = \"font-style: italic; text-align: left;\">missing</td><td style = \"text-align: left;\">Pfalzgraf bei Rhein</td><td style = \"text-align: left;\">Johann Pfalzgraf bei Rhein</td><td style = \"text-align: left;\">* 1443, + 1486, Dignitary of a cathedral chapter</td></tr><tr><td class = \"rowNumber\" style = \"font-weight: bold; text-align: right;\">9</td><td style = \"text-align: left;\">Albrecht</td><td style = \"text-align: left;\">von</td><td style = \"text-align: left;\">Bayern</td><td style = \"text-align: left;\">Albrecht von Bayern</td><td style = \"text-align: left;\">+ 1508, Cleric of the Cathedral chapter</td></tr></tbody></table></div>"
      ],
      "text/latex": [
       "\\begin{tabular}{r|ccccc}\n",
       "\t& givenname & prefix & familyname & Len & Den\\\\\n",
       "\t\\hline\n",
       "\t& String & String31? & String? & String & String\\\\\n",
       "\t\\hline\n",
       "\t1 & Peter & \\emph{missing} & Fride & Peter Fride & \\textasciitilde{} 1417, Member of a collegiate church \\\\\n",
       "\t2 & Heinrich & \\emph{missing} & Elchleben & Heinrich Elchleben & + kurz vor 1446, Cleric of the Cathedral chapter \\\\\n",
       "\t3 & Wilhelm & \\emph{missing} & Schenk von Limpurg & Wilhelm Schenk von Limpurg & * 1410, + 1475, Head of an (Arch)diocese \\\\\n",
       "\t4 & Gebhard & von & Bulach & Gebhard von Bulach & + 1465, Cleric of the Cathedral chapter \\\\\n",
       "\t5 & Johannes & \\emph{missing} & Kautsch & Johannes Kautsch & + 1462, Cleric of the Cathedral chapter \\\\\n",
       "\t6 & Johannes Wernher & von & Flachslanden & Johannes Wernher von Flachslanden & + 1481, Dignitary of a cathedral chapter \\\\\n",
       "\t7 & Berthold & von & Henneberg & Berthold von Henneberg & * 1443, + 1495, Cleric of the Cathedral chapter \\\\\n",
       "\t8 & Johann & \\emph{missing} & Pfalzgraf bei Rhein & Johann Pfalzgraf bei Rhein & * 1443, + 1486, Dignitary of a cathedral chapter \\\\\n",
       "\t9 & Albrecht & von & Bayern & Albrecht von Bayern & + 1508, Cleric of the Cathedral chapter \\\\\n",
       "\\end{tabular}\n"
      ],
      "text/plain": [
       "\u001b[1m9×5 DataFrame\u001b[0m\n",
       "\u001b[1m Row \u001b[0m│\u001b[1m givenname        \u001b[0m\u001b[1m prefix    \u001b[0m\u001b[1m familyname          \u001b[0m\u001b[1m Len                               \u001b[0m\u001b[1m Den                       \u001b[0m ⋯\n",
       "     │\u001b[90m String           \u001b[0m\u001b[90m String31? \u001b[0m\u001b[90m String?             \u001b[0m\u001b[90m String                            \u001b[0m\u001b[90m String                    \u001b[0m ⋯\n",
       "─────┼──────────────────────────────────────────────────────────────────────────────────────────────────────────────────\n",
       "   1 │ Peter            \u001b[90m missing   \u001b[0m Fride                Peter Fride                        ~ 1417, Member of a colleg ⋯\n",
       "   2 │ Heinrich         \u001b[90m missing   \u001b[0m Elchleben            Heinrich Elchleben                 + kurz vor 1446, Cleric of\n",
       "   3 │ Wilhelm          \u001b[90m missing   \u001b[0m Schenk von Limpurg   Wilhelm Schenk von Limpurg         * 1410, + 1475, Head of an\n",
       "   4 │ Gebhard           von        Bulach               Gebhard von Bulach                 + 1465, Cleric of the Cath\n",
       "   5 │ Johannes         \u001b[90m missing   \u001b[0m Kautsch              Johannes Kautsch                   + 1462, Cleric of the Cath ⋯\n",
       "   6 │ Johannes Wernher  von        Flachslanden         Johannes Wernher von Flachslanden  + 1481, Dignitary of a cat\n",
       "   7 │ Berthold          von        Henneberg            Berthold von Henneberg             * 1443, + 1495, Cleric of\n",
       "   8 │ Johann           \u001b[90m missing   \u001b[0m Pfalzgraf bei Rhein  Johann Pfalzgraf bei Rhein         * 1443, + 1486, Dignitary\n",
       "   9 │ Albrecht          von        Bayern               Albrecht von Bayern                + 1508, Cleric of the Cath ⋯\n",
       "\u001b[36m                                                                                                        1 column omitted\u001b[0m"
      ]
     },
     "execution_count": 48,
     "metadata": {},
     "output_type": "execute_result"
    }
   ],
   "source": [
    "df_person[11:19, [:givenname, :prefix, :familyname, :Len, :Den]]"
   ]
  },
  {
   "cell_type": "markdown",
   "metadata": {},
   "source": [
    "Füge Daten ein, die für alle Personen gleich sind:\n",
    "Mensch, Teil der Germania Sacra Forschungsdaten, männlich"
   ]
  },
  {
   "cell_type": "code",
   "execution_count": 49,
   "metadata": {},
   "outputs": [],
   "source": [
    "insertcols!(df_person, \n",
    "    :P2 => \"Q7\",\n",
    "    :P131 => \"Q153178\",\n",
    "    :P154 => \"Q18\"\n",
    ");    "
   ]
  },
  {
   "cell_type": "markdown",
   "metadata": {},
   "source": [
    "Definiere Umwandlungsfunktionen  \n",
    "*offen:* Datumsangaben sind noch zu besprechen, wegen der Verarbeitung von unscharften Zeitangaben."
   ]
  },
  {
   "cell_type": "code",
   "execution_count": 50,
   "metadata": {},
   "outputs": [
    {
     "data": {
      "text/plain": [
       "fqs_string (generic function with 1 method)"
      ]
     },
     "execution_count": 50,
     "metadata": {},
     "output_type": "execute_result"
    }
   ],
   "source": [
    "fqs_string(s) = \"\\\"\" * string(s) * \"\\\"\""
   ]
  },
  {
   "cell_type": "code",
   "execution_count": 51,
   "metadata": {},
   "outputs": [
    {
     "data": {
      "text/plain": [
       "create (generic function with 1 method)"
      ]
     },
     "execution_count": 51,
     "metadata": {},
     "output_type": "execute_result"
    }
   ],
   "source": [
    "function create(out, row, col_list) \n",
    "    println(out, \"CREATE\")    \n",
    "    for col in col_list\n",
    "        println(out, \"LAST\\t\", string(col), \"\\t\", fqs_string(row[col]))        \n",
    "    end\n",
    "end"
   ]
  },
  {
   "cell_type": "code",
   "execution_count": 52,
   "metadata": {},
   "outputs": [
    {
     "data": {
      "text/plain": [
       "set_property_list"
      ]
     },
     "execution_count": 52,
     "metadata": {},
     "output_type": "execute_result"
    }
   ],
   "source": [
    "\"\"\"\n",
    "    set_property_list (out, row, object, col_list, fmt_list)\n",
    "\n",
    "    \n",
    "\n",
    "# Arguments\n",
    "- `out::IOStream`: output stream\n",
    "- `row::DataFrameRow`: input data\n",
    "- `object`: FactGrid identifier or \"LAST\"\n",
    "- `col_list`: list of colums where data should be read from\n",
    "- `fmr_list`: list of formatting functions (one for each column)\n",
    "\"\"\"\n",
    "function set_property_list(out, row, object, col_list, fmt_list)\n",
    "    for (col, fmt) in zip(col_list, fmt_list)\n",
    "        if (!ismissing(row[col]))\n",
    "            println(out, object, \"\\t\", string(col), \"\\t\", fmt(row[col]))\n",
    "        end\n",
    "    end\n",
    "end"
   ]
  },
  {
   "cell_type": "markdown",
   "metadata": {},
   "source": [
    "Gib ausgewählte Elemente aus `df_person` aus. Falls es schon eine Datei mit gleichem Namen im angegebenen Verzeichnis gibt, wird die Datei überschrieben."
   ]
  },
  {
   "cell_type": "code",
   "execution_count": 53,
   "metadata": {},
   "outputs": [
    {
     "data": {
      "text/plain": [
       "\"2023-12-11\""
      ]
     },
     "execution_count": 53,
     "metadata": {},
     "output_type": "execute_result"
    }
   ],
   "source": [
    "date_key = Dates.format(now(), \"yyyy-mm-dd\")"
   ]
  },
  {
   "cell_type": "code",
   "execution_count": 54,
   "metadata": {},
   "outputs": [
    {
     "data": {
      "text/plain": [
       "\"C:\\\\Users\\\\georg\\\\Documents\\\\projekte-doc\\\\Forschungsdaten-GS\\\\data\\\\FactGrid\\\\Insert_WIAG-can_2023-12-11_FQ.csv\""
      ]
     },
     "execution_count": 54,
     "metadata": {},
     "output_type": "execute_result"
    }
   ],
   "source": [
    "output_file = \"Insert_WIAG-can_\" * date_key * \"_FQ.csv\"\n",
    "output_path_file = joinpath(output_path, output_file)"
   ]
  },
  {
   "cell_type": "code",
   "execution_count": 55,
   "metadata": {},
   "outputs": [],
   "source": [
    "open(output_path_file, \"w\") do out_stream\n",
    "    for row in eachrow(df_person)\n",
    "        create(out_stream, row, [:Lde, :Len, :Lfr, :Les, :Dde, :Den])\n",
    "        set_property_list(out_stream, row, \"LAST\", \n",
    "            [:P2, :P131, :P154, :P601, :P76, :P472, :P165, :Swikidatawiki, :Sdewiki], \n",
    "            [identity, identity, identity, fqs_string, fqs_string, fqs_string, fqs_string, fqs_string, fqs_string])\n",
    "    end        \n",
    "end"
   ]
  },
  {
   "cell_type": "code",
   "execution_count": null,
   "metadata": {},
   "outputs": [],
   "source": []
  },
  {
   "cell_type": "code",
   "execution_count": null,
   "metadata": {},
   "outputs": [],
   "source": []
  },
  {
   "cell_type": "code",
   "execution_count": null,
   "metadata": {},
   "outputs": [],
   "source": []
  },
  {
   "cell_type": "code",
   "execution_count": null,
   "metadata": {},
   "outputs": [],
   "source": []
  },
  {
   "cell_type": "code",
   "execution_count": null,
   "metadata": {},
   "outputs": [],
   "source": []
  },
  {
   "cell_type": "code",
   "execution_count": null,
   "metadata": {},
   "outputs": [],
   "source": []
  }
 ],
 "metadata": {
  "kernelspec": {
   "display_name": "Julia 1.8.2",
   "language": "julia",
   "name": "julia-1.8"
  },
  "language_info": {
   "file_extension": ".jl",
   "mimetype": "application/julia",
   "name": "julia",
   "version": "1.8.2"
  }
 },
 "nbformat": 4,
 "nbformat_minor": 4
}
