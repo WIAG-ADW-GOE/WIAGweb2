{
 "cells": [
  {
   "cell_type": "markdown",
   "metadata": {},
   "source": [
    "# Import von WIAG-Daten in FactGrid\n",
    "Formatiere CSV-Daten aus WIAG als V1-Statements für QuickSteps  \n",
    "siehe [Einführung in QuickStatements](https://www.wikidata.org/wiki/Help:QuickStatements)\n",
    "und die [Properties des FactGrid](https://database.factgrid.de/wiki/FactGrid:Directory_of_Properties)\n",
    "\n",
    "Änderungen\n",
    "\n",
    "- *2023-12-11* Verwende die Gruppe des höchsten erreichten Amtes in der englischen Beschreibung und für P165"
   ]
  },
  {
   "cell_type": "markdown",
   "metadata": {},
   "source": [
    "Inhalt:\n",
    "\n",
    "- [neue Objekte in FactGrid anlegen](#neue-Objekte-in-FactGrid-anlegen)"
   ]
  },
  {
   "cell_type": "code",
   "execution_count": 52,
   "metadata": {},
   "outputs": [],
   "source": [
    "using CSV, DataFrames, Dates"
   ]
  },
  {
   "cell_type": "code",
   "execution_count": 4,
   "metadata": {},
   "outputs": [
    {
     "data": {
      "text/plain": [
       "120"
      ]
     },
     "execution_count": 4,
     "metadata": {},
     "output_type": "execute_result"
    }
   ],
   "source": [
    "ENV[\"COLUMNS\"] = 120"
   ]
  },
  {
   "cell_type": "code",
   "execution_count": 5,
   "metadata": {},
   "outputs": [
    {
     "data": {
      "text/plain": [
       "\"C:\\\\Users\\\\georg\\\\Documents\\\\projekte-doc\\\\Forschungsdaten-GS\\\\data\\\\FactGrid\""
      ]
     },
     "execution_count": 5,
     "metadata": {},
     "output_type": "execute_result"
    }
   ],
   "source": [
    "input_path = \"C:\\\\Users\\\\georg\\\\Documents\\\\projekte-doc\\\\Forschungsdaten-GS\\\\data\\\\FactGrid\""
   ]
  },
  {
   "cell_type": "code",
   "execution_count": 6,
   "metadata": {},
   "outputs": [
    {
     "data": {
      "text/plain": [
       "\"C:\\\\Users\\\\georg\\\\Documents\\\\projekte-doc\\\\Forschungsdaten-GS\\\\data\\\\FactGrid\""
      ]
     },
     "execution_count": 6,
     "metadata": {},
     "output_type": "execute_result"
    }
   ],
   "source": [
    "output_path = input_path"
   ]
  },
  {
   "cell_type": "markdown",
   "metadata": {},
   "source": [
    "## neue Objekte in FactGrid anlegen\n",
    "Es wird davon ausgegangen, dass die betreffenden Personen noch nicht in FactGrid vorhanden sind. Die Spalte \"FactGrid_ID\" sollte also für alle Einträge leer sein."
   ]
  },
  {
   "cell_type": "markdown",
   "metadata": {},
   "source": [
    "Daten aus WIAG einlesen: Quelle Export \"CSV Personendaten\""
   ]
  },
  {
   "cell_type": "code",
   "execution_count": 15,
   "metadata": {},
   "outputs": [
    {
     "data": {
      "text/plain": [
       "\"C:\\\\Users\\\\georg\\\\Documents\\\\projekte-doc\\\\Forschungsdaten-GS\\\\data\\\\FactGrid\\\\WIAG-can_2023-12-13_ii.csv\""
      ]
     },
     "execution_count": 15,
     "metadata": {},
     "output_type": "execute_result"
    }
   ],
   "source": [
    "input_file = \"WIAG-can_2023-12-13_ii.csv\"\n",
    "input_path_file = joinpath(input_path, input_file)"
   ]
  },
  {
   "cell_type": "code",
   "execution_count": 16,
   "metadata": {},
   "outputs": [
    {
     "data": {
      "text/plain": [
       "15144"
      ]
     },
     "execution_count": 16,
     "metadata": {},
     "output_type": "execute_result"
    }
   ],
   "source": [
    "df_person_all = CSV.read(input_path_file, DataFrame);\n",
    "nrow(df_person_all)"
   ]
  },
  {
   "cell_type": "markdown",
   "metadata": {},
   "source": [
    "Betrachte nur Neu-Zugänge (keine FactGrid-ID)"
   ]
  },
  {
   "cell_type": "code",
   "execution_count": 17,
   "metadata": {},
   "outputs": [
    {
     "data": {
      "text/plain": [
       "13878"
      ]
     },
     "execution_count": 17,
     "metadata": {},
     "output_type": "execute_result"
    }
   ],
   "source": [
    "df_person = subset(df_person_all, :FactGrid_ID => ByRow(ismissing));\n",
    "nrow(df_person)"
   ]
  },
  {
   "cell_type": "markdown",
   "metadata": {},
   "source": [
    "Lies die Amtsdaten ein (zunächst für P1018)"
   ]
  },
  {
   "cell_type": "code",
   "execution_count": 32,
   "metadata": {},
   "outputs": [
    {
     "data": {
      "text/plain": [
       "\"C:\\\\Users\\\\georg\\\\Documents\\\\projekte-doc\\\\Forschungsdaten-GS\\\\data\\\\FactGrid\\\\WIAG-can-roles_2023-12-13.csv\""
      ]
     },
     "execution_count": 32,
     "metadata": {},
     "output_type": "execute_result"
    }
   ],
   "source": [
    "input_file = \"WIAG-can-roles_2023-12-13.csv\"\n",
    "input_path_file = joinpath(input_path, input_file)"
   ]
  },
  {
   "cell_type": "code",
   "execution_count": 33,
   "metadata": {},
   "outputs": [
    {
     "data": {
      "text/plain": [
       "35426"
      ]
     },
     "execution_count": 33,
     "metadata": {},
     "output_type": "execute_result"
    }
   ],
   "source": [
    "df_role_all = CSV.read(input_path_file, DataFrame);\n",
    "nrow(df_role_all)"
   ]
  },
  {
   "cell_type": "markdown",
   "metadata": {},
   "source": [
    "Benenne die (relevanten) Spalten um entsprechend den Konventionen des FactGrid"
   ]
  },
  {
   "cell_type": "code",
   "execution_count": 35,
   "metadata": {},
   "outputs": [
    {
     "data": {
      "text/plain": [
       "13-element Vector{String}:\n",
       " \"person_id\"\n",
       " \"id\"\n",
       " \"name\"\n",
       " \"role_group\"\n",
       " \"role_group_en\"\n",
       " \"role_group_fq_id\"\n",
       " \"institution\"\n",
       " \"diocese\"\n",
       " \"date begin\"\n",
       " \"date end\"\n",
       " \"GND\"\n",
       " \"GSN\"\n",
       " \"FactGrid\""
      ]
     },
     "execution_count": 35,
     "metadata": {},
     "output_type": "execute_result"
    }
   ],
   "source": [
    "names(df_role_all)"
   ]
  },
  {
   "cell_type": "code",
   "execution_count": 36,
   "metadata": {},
   "outputs": [
    {
     "data": {
      "text/plain": [
       "2-element Vector{Pair{Symbol, Symbol}}:\n",
       "        :person_id => :person_id\n",
       " :role_group_fq_id => :P1018"
      ]
     },
     "execution_count": 36,
     "metadata": {},
     "output_type": "execute_result"
    }
   ],
   "source": [
    "columns = [\n",
    "    :person_id => :person_id,\n",
    "    :role_group_fq_id => :P1018\n",
    "]"
   ]
  },
  {
   "cell_type": "code",
   "execution_count": 37,
   "metadata": {},
   "outputs": [],
   "source": [
    "df_role = select(df_role_all, columns);"
   ]
  },
  {
   "cell_type": "markdown",
   "metadata": {},
   "source": [
    "Es werden die Ämter eingetragen, die zur Gruppe \"Oberstes Leitungsamt Diözese\" oder \"Leitungsamt Domstift\" gehören."
   ]
  },
  {
   "cell_type": "code",
   "execution_count": 56,
   "metadata": {},
   "outputs": [
    {
     "data": {
      "text/plain": [
       "is_relevant (generic function with 1 method)"
      ]
     },
     "execution_count": 56,
     "metadata": {},
     "output_type": "execute_result"
    }
   ],
   "source": [
    "is_relevant(s) = !ismissing(s) && s in [\"Q648326\", \"Q648232\"]"
   ]
  },
  {
   "cell_type": "code",
   "execution_count": 58,
   "metadata": {},
   "outputs": [
    {
     "data": {
      "text/plain": [
       "4793"
      ]
     },
     "execution_count": 58,
     "metadata": {},
     "output_type": "execute_result"
    }
   ],
   "source": [
    "df_role = subset(df_role, :P1018 => ByRow(is_relevant));\n",
    "nrow(df_role)"
   ]
  },
  {
   "cell_type": "markdown",
   "metadata": {},
   "source": [
    "Das deutsche Beschreibungsfeld enthält Lebensdaten mit der Zusammenfassung der Amtsdaten"
   ]
  },
  {
   "cell_type": "code",
   "execution_count": 18,
   "metadata": {},
   "outputs": [],
   "source": [
    "join_komma(a, b) = join((a, b), \", \")\n",
    "transform!(df_person, [:biographical_dates, :summary_offices] => ByRow(join_komma) => :description_de);"
   ]
  },
  {
   "cell_type": "markdown",
   "metadata": {},
   "source": [
    "Das FactGrid arbeitet für Wikipedia nicht mit URL-codierten Adressen.\n",
    "*2023-12-13* WIAG gibt direkt unkodierte URLs aus, daher sind die folgenden Schritte auskommentiert"
   ]
  },
  {
   "cell_type": "code",
   "execution_count": 9,
   "metadata": {},
   "outputs": [
    {
     "data": {
      "text/plain": [
       "unescape_not_mg (generic function with 1 method)"
      ]
     },
     "execution_count": 9,
     "metadata": {},
     "output_type": "execute_result"
    }
   ],
   "source": [
    "# unescape_not_mg(s) = ismissing(s) ? s : URIs.unescapeuri(s)"
   ]
  },
  {
   "cell_type": "code",
   "execution_count": 41,
   "metadata": {},
   "outputs": [],
   "source": [
    "# transform!(df_person, :Wikipedia => ByRow(unescape_not_mg) => :Wikipedia);"
   ]
  },
  {
   "cell_type": "code",
   "execution_count": 19,
   "metadata": {},
   "outputs": [
    {
     "data": {
      "text/html": [
       "<div><div style = \"float: left;\"><span>5×4 DataFrame</span></div><div style = \"clear: both;\"></div></div><div class = \"data-frame\" style = \"overflow-x: scroll;\"><table class = \"data-frame\" style = \"margin-bottom: 6px;\"><thead><tr class = \"header\"><th class = \"rowNumber\" style = \"font-weight: bold; text-align: right;\">Row</th><th style = \"text-align: left;\">givenname</th><th style = \"text-align: left;\">prefix</th><th style = \"text-align: left;\">familyname</th><th style = \"text-align: left;\">Wikipedia</th></tr><tr class = \"subheader headerLastRow\"><th class = \"rowNumber\" style = \"font-weight: bold; text-align: right;\"></th><th title = \"String\" style = \"text-align: left;\">String</th><th title = \"Union{Missing, String31}\" style = \"text-align: left;\">String31?</th><th title = \"Union{Missing, String}\" style = \"text-align: left;\">String?</th><th title = \"String\" style = \"text-align: left;\">String</th></tr></thead><tbody><tr><td class = \"rowNumber\" style = \"font-weight: bold; text-align: right;\">1</td><td style = \"text-align: left;\">Wolfgang</td><td style = \"text-align: left;\">Pfalzgraf von</td><td style = \"text-align: left;\">Bayern</td><td style = \"text-align: left;\">Wolfgang_(Pfalz-Neumarkt)</td></tr><tr><td class = \"rowNumber\" style = \"font-weight: bold; text-align: right;\">2</td><td style = \"text-align: left;\">Johann Jakob</td><td style = \"text-align: left;\">von</td><td style = \"text-align: left;\">Königsegg zu Rothenfels, Aulendorf und Staufen</td><td style = \"text-align: left;\">Johann_Jacob_von_Königsegg-Rothenfels</td></tr><tr><td class = \"rowNumber\" style = \"font-weight: bold; text-align: right;\">3</td><td style = \"text-align: left;\">Ernst Friedrich</td><td style = \"text-align: left;\">von</td><td style = \"text-align: left;\">Ascheberg</td><td style = \"text-align: left;\">Ernst_Friedrich_von_Ascheberg_zu_Venne</td></tr><tr><td class = \"rowNumber\" style = \"font-weight: bold; text-align: right;\">4</td><td style = \"text-align: left;\">August Georg Simpert</td><td style = \"text-align: left;\">Markgraf von</td><td style = \"text-align: left;\">Baden-Baden und Hochberg</td><td style = \"text-align: left;\">August_Georg_Simpert</td></tr><tr><td class = \"rowNumber\" style = \"font-weight: bold; text-align: right;\">5</td><td style = \"text-align: left;\">Christian</td><td style = \"text-align: left;\">von</td><td style = \"text-align: left;\">Hessen-Rotenburg</td><td style = \"text-align: left;\">Christian_von_Hessen-Rotenburg</td></tr></tbody></table></div>"
      ],
      "text/latex": [
       "\\begin{tabular}{r|cccc}\n",
       "\t& givenname & prefix & familyname & Wikipedia\\\\\n",
       "\t\\hline\n",
       "\t& String & String31? & String? & String\\\\\n",
       "\t\\hline\n",
       "\t1 & Wolfgang & Pfalzgraf von & Bayern & Wolfgang\\_(Pfalz-Neumarkt) \\\\\n",
       "\t2 & Johann Jakob & von & Königsegg zu Rothenfels, Aulendorf und Staufen & Johann\\_Jacob\\_von\\_Königsegg-Rothenfels \\\\\n",
       "\t3 & Ernst Friedrich & von & Ascheberg & Ernst\\_Friedrich\\_von\\_Ascheberg\\_zu\\_Venne \\\\\n",
       "\t4 & August Georg Simpert & Markgraf von & Baden-Baden und Hochberg & August\\_Georg\\_Simpert \\\\\n",
       "\t5 & Christian & von & Hessen-Rotenburg & Christian\\_von\\_Hessen-Rotenburg \\\\\n",
       "\\end{tabular}\n"
      ],
      "text/plain": [
       "\u001b[1m5×4 DataFrame\u001b[0m\n",
       "\u001b[1m Row \u001b[0m│\u001b[1m givenname            \u001b[0m\u001b[1m prefix        \u001b[0m\u001b[1m familyname                        \u001b[0m\u001b[1m Wikipedia                         \u001b[0m\n",
       "     │\u001b[90m String               \u001b[0m\u001b[90m String31?     \u001b[0m\u001b[90m String?                           \u001b[0m\u001b[90m String                            \u001b[0m\n",
       "─────┼───────────────────────────────────────────────────────────────────────────────────────────────────────────\n",
       "   1 │ Wolfgang              Pfalzgraf von  Bayern                             Wolfgang_(Pfalz-Neumarkt)\n",
       "   2 │ Johann Jakob          von            Königsegg zu Rothenfels, Aulendo…  Johann_Jacob_von_Königsegg-Rothe…\n",
       "   3 │ Ernst Friedrich       von            Ascheberg                          Ernst_Friedrich_von_Ascheberg_zu…\n",
       "   4 │ August Georg Simpert  Markgraf von   Baden-Baden und Hochberg           August_Georg_Simpert\n",
       "   5 │ Christian             von            Hessen-Rotenburg                   Christian_von_Hessen-Rotenburg"
      ]
     },
     "execution_count": 19,
     "metadata": {},
     "output_type": "execute_result"
    }
   ],
   "source": [
    "columns = [:givenname, :prefix, :familyname, :Wikipedia]\n",
    "dropmissing(df_person, :Wikipedia)[5:9, columns]"
   ]
  },
  {
   "cell_type": "code",
   "execution_count": 20,
   "metadata": {},
   "outputs": [
    {
     "data": {
      "text/plain": [
       "19-element Vector{String}:\n",
       " \"id\"\n",
       " \"corpus\"\n",
       " \"givenname\"\n",
       " \"prefix\"\n",
       " \"familyname\"\n",
       " \"displayname\"\n",
       " \"date_of_birth\"\n",
       " \"date_of_death\"\n",
       " \"biographical_dates\"\n",
       " \"summary_offices\"\n",
       " \"career_factgrid_id\"\n",
       " \"career\"\n",
       " \"career_en\"\n",
       " \"GND_ID\"\n",
       " \"GSN\"\n",
       " \"FactGrid_ID\"\n",
       " \"Wikidata_ID\"\n",
       " \"Wikipedia\"\n",
       " \"description_de\""
      ]
     },
     "execution_count": 20,
     "metadata": {},
     "output_type": "execute_result"
    }
   ],
   "source": [
    "names(df_person)"
   ]
  },
  {
   "cell_type": "markdown",
   "metadata": {},
   "source": [
    "Benenne die Spalten um entsprechend den Konventionen des FactGrid  \n",
    "*2023-12-14* `career` wird jetzt mehrfach anhang der Amtsdaten eingetragen."
   ]
  },
  {
   "cell_type": "code",
   "execution_count": 21,
   "metadata": {},
   "outputs": [],
   "source": [
    "columns = [\n",
    "    :displayname => :Lde,\n",
    "    :description_de => :Dde,\n",
    "    :date_of_birth => :P77,\n",
    "    :date_of_death => :P38,\n",
    "    :GND_ID => :P76,\n",
    "    :GSN => :P472,\n",
    "    :id => :P601,\n",
    "    :Wikidata_ID => :Swikidatawiki,\n",
    "    :Wikipedia => :Sdewiki\n",
    "];"
   ]
  },
  {
   "cell_type": "code",
   "execution_count": 22,
   "metadata": {},
   "outputs": [],
   "source": [
    "rename!(df_person, columns);"
   ]
  },
  {
   "cell_type": "markdown",
   "metadata": {},
   "source": [
    "Kopiere das Label in Deutsch für die anderen Sprachen"
   ]
  },
  {
   "cell_type": "code",
   "execution_count": 23,
   "metadata": {},
   "outputs": [],
   "source": [
    "df_person.Len = df_person.Lde;\n",
    "df_person.Lfr = df_person.Lde;\n",
    "df_person.Les = df_person.Lde;"
   ]
  },
  {
   "cell_type": "markdown",
   "metadata": {},
   "source": [
    "Erstelle eine Beschreibung für Englisch aus Lebensdaten und der Gruppe des höchsten Amtes (Spalte 'career_en')"
   ]
  },
  {
   "cell_type": "code",
   "execution_count": 24,
   "metadata": {},
   "outputs": [
    {
     "data": {
      "text/plain": [
       "join_komma (generic function with 1 method)"
      ]
     },
     "execution_count": 24,
     "metadata": {},
     "output_type": "execute_result"
    }
   ],
   "source": [
    "join_komma(a, b) = join([a, b], \", \")"
   ]
  },
  {
   "cell_type": "code",
   "execution_count": 26,
   "metadata": {},
   "outputs": [],
   "source": [
    "transform!(df_person, [:biographical_dates, :career_en] => ByRow(join_komma) => :Den);"
   ]
  },
  {
   "cell_type": "code",
   "execution_count": 39,
   "metadata": {},
   "outputs": [
    {
     "data": {
      "text/html": [
       "<div><div style = \"float: left;\"><span>9×6 DataFrame</span></div><div style = \"clear: both;\"></div></div><div class = \"data-frame\" style = \"overflow-x: scroll;\"><table class = \"data-frame\" style = \"margin-bottom: 6px;\"><thead><tr class = \"header\"><th class = \"rowNumber\" style = \"font-weight: bold; text-align: right;\">Row</th><th style = \"text-align: left;\">P601</th><th style = \"text-align: left;\">givenname</th><th style = \"text-align: left;\">prefix</th><th style = \"text-align: left;\">familyname</th><th style = \"text-align: left;\">Len</th><th style = \"text-align: left;\">Den</th></tr><tr class = \"subheader headerLastRow\"><th class = \"rowNumber\" style = \"font-weight: bold; text-align: right;\"></th><th title = \"String31\" style = \"text-align: left;\">String31</th><th title = \"String\" style = \"text-align: left;\">String</th><th title = \"Union{Missing, String31}\" style = \"text-align: left;\">String31?</th><th title = \"Union{Missing, String}\" style = \"text-align: left;\">String?</th><th title = \"String\" style = \"text-align: left;\">String</th><th title = \"String\" style = \"text-align: left;\">String</th></tr></thead><tbody><tr><td class = \"rowNumber\" style = \"font-weight: bold; text-align: right;\">1</td><td style = \"text-align: left;\">WIAG-Pers-CANON-13447-001</td><td style = \"text-align: left;\">Hertnid</td><td style = \"text-align: left;\">vom</td><td style = \"text-align: left;\">Stein zu Ostheim</td><td style = \"text-align: left;\">Hertnid vom Stein zu Ostheim</td><td style = \"text-align: left;\">+ 1491, Dignitary of a cathedral chapter</td></tr><tr><td class = \"rowNumber\" style = \"font-weight: bold; text-align: right;\">2</td><td style = \"text-align: left;\">WIAG-Pers-CANON-26352-001</td><td style = \"text-align: left;\">Melchior</td><td style = \"font-style: italic; text-align: left;\">missing</td><td style = \"text-align: left;\">Truchseß von Pommersfelden</td><td style = \"text-align: left;\">Melchior Truchseß von Pommersfelden</td><td style = \"text-align: left;\">+ 1493/1494, Dignitary of a cathedral chapter</td></tr><tr><td class = \"rowNumber\" style = \"font-weight: bold; text-align: right;\">3</td><td style = \"text-align: left;\">WIAG-Pers-CANON-88038-001</td><td style = \"text-align: left;\">Heinrich</td><td style = \"font-style: italic; text-align: left;\">missing</td><td style = \"text-align: left;\">Nithart</td><td style = \"text-align: left;\">Heinrich Nithart</td><td style = \"text-align: left;\">+ 1500, Dignitary of a cathedral chapter</td></tr><tr><td class = \"rowNumber\" style = \"font-weight: bold; text-align: right;\">4</td><td style = \"text-align: left;\">WIAG-Pers-CANON-83557-001</td><td style = \"text-align: left;\">Pankraz</td><td style = \"font-style: italic; text-align: left;\">missing</td><td style = \"text-align: left;\">Meusl</td><td style = \"text-align: left;\">Pankraz Meusl</td><td style = \"text-align: left;\">~ 1482, Cleric of a cathedral chapter</td></tr><tr><td class = \"rowNumber\" style = \"font-weight: bold; text-align: right;\">5</td><td style = \"text-align: left;\">WIAG-Pers-CANON-24824-001</td><td style = \"text-align: left;\">Casimir</td><td style = \"text-align: left;\">von</td><td style = \"text-align: left;\">Brandenburg</td><td style = \"text-align: left;\">Casimir von Brandenburg</td><td style = \"text-align: left;\">* 1481, + 1527, Cleric of a cathedral chapter</td></tr><tr><td class = \"rowNumber\" style = \"font-weight: bold; text-align: right;\">6</td><td style = \"text-align: left;\">WIAG-Pers-CANON-90006-001</td><td style = \"text-align: left;\">Sigismund</td><td style = \"text-align: left;\">von</td><td style = \"text-align: left;\">Pflug</td><td style = \"text-align: left;\">Sigismund von Pflug</td><td style = \"text-align: left;\">+ 1510, Dignitary of a cathedral chapter</td></tr><tr><td class = \"rowNumber\" style = \"font-weight: bold; text-align: right;\">7</td><td style = \"text-align: left;\">WIAG-Pers-CANON-24792-001</td><td style = \"text-align: left;\">Georg</td><td style = \"text-align: left;\">von</td><td style = \"text-align: left;\">Bibra</td><td style = \"text-align: left;\">Georg von Bibra</td><td style = \"text-align: left;\">+ 1536, Dignitary of a cathedral chapter</td></tr><tr><td class = \"rowNumber\" style = \"font-weight: bold; text-align: right;\">8</td><td style = \"text-align: left;\">WIAG-Pers-CANON-80952-001</td><td style = \"text-align: left;\">Christoph</td><td style = \"text-align: left;\">von</td><td style = \"text-align: left;\">Knöringen</td><td style = \"text-align: left;\">Christoph von Knöringen</td><td style = \"text-align: left;\">~ 1499, Dignitary of a cathedral chapter</td></tr><tr><td class = \"rowNumber\" style = \"font-weight: bold; text-align: right;\">9</td><td style = \"text-align: left;\">WIAG-Pers-CANON-84019-001</td><td style = \"text-align: left;\">Friedrich</td><td style = \"text-align: left;\">von</td><td style = \"text-align: left;\">Leonrod</td><td style = \"text-align: left;\">Friedrich von Leonrod</td><td style = \"text-align: left;\">* 1483, + 1539, Cleric of a cathedral chapter</td></tr></tbody></table></div>"
      ],
      "text/latex": [
       "\\begin{tabular}{r|cccccc}\n",
       "\t& P601 & givenname & prefix & familyname & Len & Den\\\\\n",
       "\t\\hline\n",
       "\t& String31 & String & String31? & String? & String & String\\\\\n",
       "\t\\hline\n",
       "\t1 & WIAG-Pers-CANON-13447-001 & Hertnid & vom & Stein zu Ostheim & Hertnid vom Stein zu Ostheim & + 1491, Dignitary of a cathedral chapter \\\\\n",
       "\t2 & WIAG-Pers-CANON-26352-001 & Melchior & \\emph{missing} & Truchseß von Pommersfelden & Melchior Truchseß von Pommersfelden & + 1493/1494, Dignitary of a cathedral chapter \\\\\n",
       "\t3 & WIAG-Pers-CANON-88038-001 & Heinrich & \\emph{missing} & Nithart & Heinrich Nithart & + 1500, Dignitary of a cathedral chapter \\\\\n",
       "\t4 & WIAG-Pers-CANON-83557-001 & Pankraz & \\emph{missing} & Meusl & Pankraz Meusl & \\textasciitilde{} 1482, Cleric of a cathedral chapter \\\\\n",
       "\t5 & WIAG-Pers-CANON-24824-001 & Casimir & von & Brandenburg & Casimir von Brandenburg & * 1481, + 1527, Cleric of a cathedral chapter \\\\\n",
       "\t6 & WIAG-Pers-CANON-90006-001 & Sigismund & von & Pflug & Sigismund von Pflug & + 1510, Dignitary of a cathedral chapter \\\\\n",
       "\t7 & WIAG-Pers-CANON-24792-001 & Georg & von & Bibra & Georg von Bibra & + 1536, Dignitary of a cathedral chapter \\\\\n",
       "\t8 & WIAG-Pers-CANON-80952-001 & Christoph & von & Knöringen & Christoph von Knöringen & \\textasciitilde{} 1499, Dignitary of a cathedral chapter \\\\\n",
       "\t9 & WIAG-Pers-CANON-84019-001 & Friedrich & von & Leonrod & Friedrich von Leonrod & * 1483, + 1539, Cleric of a cathedral chapter \\\\\n",
       "\\end{tabular}\n"
      ],
      "text/plain": [
       "\u001b[1m9×6 DataFrame\u001b[0m\n",
       "\u001b[1m Row \u001b[0m│\u001b[1m P601                      \u001b[0m\u001b[1m givenname \u001b[0m\u001b[1m prefix    \u001b[0m\u001b[1m familyname                 \u001b[0m\u001b[1m Len                               \u001b[0m\u001b[1m\u001b[0m ⋯\n",
       "     │\u001b[90m String31                  \u001b[0m\u001b[90m String    \u001b[0m\u001b[90m String31? \u001b[0m\u001b[90m String?                    \u001b[0m\u001b[90m String                            \u001b[0m\u001b[90m\u001b[0m ⋯\n",
       "─────┼──────────────────────────────────────────────────────────────────────────────────────────────────────────────────\n",
       "   1 │ WIAG-Pers-CANON-13447-001  Hertnid    vom        Stein zu Ostheim            Hertnid vom Stein zu Ostheim       ⋯\n",
       "   2 │ WIAG-Pers-CANON-26352-001  Melchior  \u001b[90m missing   \u001b[0m Truchseß von Pommersfelden  Melchior Truchseß von Pommersfel…\n",
       "   3 │ WIAG-Pers-CANON-88038-001  Heinrich  \u001b[90m missing   \u001b[0m Nithart                     Heinrich Nithart\n",
       "   4 │ WIAG-Pers-CANON-83557-001  Pankraz   \u001b[90m missing   \u001b[0m Meusl                       Pankraz Meusl\n",
       "   5 │ WIAG-Pers-CANON-24824-001  Casimir    von        Brandenburg                 Casimir von Brandenburg            ⋯\n",
       "   6 │ WIAG-Pers-CANON-90006-001  Sigismund  von        Pflug                       Sigismund von Pflug\n",
       "   7 │ WIAG-Pers-CANON-24792-001  Georg      von        Bibra                       Georg von Bibra\n",
       "   8 │ WIAG-Pers-CANON-80952-001  Christoph  von        Knöringen                   Christoph von Knöringen\n",
       "   9 │ WIAG-Pers-CANON-84019-001  Friedrich  von        Leonrod                     Friedrich von Leonrod              ⋯\n",
       "\u001b[36m                                                                                                        1 column omitted\u001b[0m"
      ]
     },
     "execution_count": 39,
     "metadata": {},
     "output_type": "execute_result"
    }
   ],
   "source": [
    "df_person[11:19, [:P601, :givenname, :prefix, :familyname, :Len, :Den]]"
   ]
  },
  {
   "cell_type": "markdown",
   "metadata": {},
   "source": [
    "Füge Daten ein, die für alle Personen gleich sind:\n",
    "Mensch, Teil der Germania Sacra Forschungsdaten, männlich"
   ]
  },
  {
   "cell_type": "code",
   "execution_count": 28,
   "metadata": {},
   "outputs": [],
   "source": [
    "insertcols!(df_person, \n",
    "    :P2 => \"Q7\",\n",
    "    :P131 => \"Q153178\",\n",
    "    :P154 => \"Q18\"\n",
    ");    "
   ]
  },
  {
   "cell_type": "markdown",
   "metadata": {},
   "source": [
    "Definiere Umwandlungsfunktionen  \n",
    "*offen:* Datumsangaben sind noch zu besprechen, wegen der Verarbeitung von unscharften Zeitangaben."
   ]
  },
  {
   "cell_type": "code",
   "execution_count": 29,
   "metadata": {},
   "outputs": [
    {
     "data": {
      "text/plain": [
       "fqs_string (generic function with 1 method)"
      ]
     },
     "execution_count": 29,
     "metadata": {},
     "output_type": "execute_result"
    }
   ],
   "source": [
    "fqs_string(s) = \"\\\"\" * string(s) * \"\\\"\""
   ]
  },
  {
   "cell_type": "code",
   "execution_count": 30,
   "metadata": {},
   "outputs": [
    {
     "data": {
      "text/plain": [
       "create (generic function with 1 method)"
      ]
     },
     "execution_count": 30,
     "metadata": {},
     "output_type": "execute_result"
    }
   ],
   "source": [
    "function create(out, row, col_list) \n",
    "    println(out, \"CREATE\")    \n",
    "    for col in col_list\n",
    "        println(out, \"LAST\\t\", string(col), \"\\t\", fqs_string(row[col]))        \n",
    "    end\n",
    "end"
   ]
  },
  {
   "cell_type": "code",
   "execution_count": 31,
   "metadata": {},
   "outputs": [
    {
     "data": {
      "text/plain": [
       "set_property_list"
      ]
     },
     "execution_count": 31,
     "metadata": {},
     "output_type": "execute_result"
    }
   ],
   "source": [
    "\"\"\"\n",
    "    set_property_list (out, row, object, col_list, fmt_list)\n",
    "\n",
    "    \n",
    "\n",
    "# Arguments\n",
    "- `out::IOStream`: output stream\n",
    "- `row::DataFrameRow`: input data\n",
    "- `object`: FactGrid identifier or \"LAST\"\n",
    "- `col_list`: list of colums where data should be read from\n",
    "- `fmr_list`: list of formatting functions (one for each column)\n",
    "\"\"\"\n",
    "function set_property_list(out, row, object, col_list, fmt_list)\n",
    "    for (col, fmt) in zip(col_list, fmt_list)\n",
    "        if (!ismissing(row[col]))\n",
    "            println(out, object, \"\\t\", string(col), \"\\t\", fmt(row[col]))\n",
    "        end\n",
    "    end\n",
    "end"
   ]
  },
  {
   "cell_type": "markdown",
   "metadata": {},
   "source": [
    "Lies die Amtsdaten für einen bestimmten Domherren"
   ]
  },
  {
   "cell_type": "code",
   "execution_count": 59,
   "metadata": {},
   "outputs": [
    {
     "data": {
      "text/plain": [
       "set_role"
      ]
     },
     "execution_count": 59,
     "metadata": {},
     "output_type": "execute_result"
    }
   ],
   "source": [
    "\"\"\"\n",
    "    set_role(df_role, id)\n",
    "\n",
    "extract roles for person with `id`\n",
    "\"\"\"\n",
    "function set_role(out, df_role, id, object, property)\n",
    "    property = Symbol(property)\n",
    "    df_pr = subset(df_role, :person_id => ByRow(isequal(id)));\n",
    "    df_pr = subset(df_pr, )\n",
    "    fq_id_list = unique(df_pr[!, property])\n",
    "    for fq_id in fq_id_list\n",
    "        println(out, object, \"\\t\", property, \"\\t\", fq_id)\n",
    "    end\n",
    "    return nothing\n",
    "end\n"
   ]
  },
  {
   "cell_type": "markdown",
   "metadata": {},
   "source": [
    "Gib ausgewählte Elemente aus `df_person` aus. Falls es schon eine Datei mit gleichem Namen im angegebenen Verzeichnis gibt, wird die Datei überschrieben."
   ]
  },
  {
   "cell_type": "code",
   "execution_count": 53,
   "metadata": {},
   "outputs": [
    {
     "data": {
      "text/plain": [
       "\"2023-12-14\""
      ]
     },
     "execution_count": 53,
     "metadata": {},
     "output_type": "execute_result"
    }
   ],
   "source": [
    "date_key = Dates.format(now(), \"yyyy-mm-dd\")"
   ]
  },
  {
   "cell_type": "code",
   "execution_count": 60,
   "metadata": {},
   "outputs": [
    {
     "data": {
      "text/plain": [
       "\"C:\\\\Users\\\\georg\\\\Documents\\\\projekte-doc\\\\Forschungsdaten-GS\\\\data\\\\FactGrid\\\\Insert_WIAG-can_2023-12-14_FQ.csv\""
      ]
     },
     "execution_count": 60,
     "metadata": {},
     "output_type": "execute_result"
    }
   ],
   "source": [
    "output_file = \"Insert_WIAG-can_\" * date_key * \"_FQ.csv\"\n",
    "output_path_file = joinpath(output_path, output_file)"
   ]
  },
  {
   "cell_type": "code",
   "execution_count": 61,
   "metadata": {},
   "outputs": [],
   "source": [
    "open(output_path_file, \"w\") do out_stream\n",
    "    for row in eachrow(df_person)\n",
    "        create(out_stream, row, [:Lde, :Len, :Lfr, :Les, :Dde, :Den])\n",
    "        set_property_list(out_stream, row, \"LAST\", \n",
    "            [:P2, :P131, :P154, :P601, :P76, :P472, :Swikidatawiki, :Sdewiki], \n",
    "            [identity, identity, identity, fqs_string, fqs_string, fqs_string, fqs_string, fqs_string])\n",
    "        set_role(out_stream, df_role, row[:P601], \"LAST\", :P1018)\n",
    "    end        \n",
    "end"
   ]
  },
  {
   "cell_type": "code",
   "execution_count": null,
   "metadata": {},
   "outputs": [],
   "source": []
  },
  {
   "cell_type": "code",
   "execution_count": null,
   "metadata": {},
   "outputs": [],
   "source": []
  },
  {
   "cell_type": "code",
   "execution_count": null,
   "metadata": {},
   "outputs": [],
   "source": []
  },
  {
   "cell_type": "code",
   "execution_count": null,
   "metadata": {},
   "outputs": [],
   "source": []
  },
  {
   "cell_type": "code",
   "execution_count": null,
   "metadata": {},
   "outputs": [],
   "source": []
  },
  {
   "cell_type": "code",
   "execution_count": null,
   "metadata": {},
   "outputs": [],
   "source": []
  }
 ],
 "metadata": {
  "kernelspec": {
   "display_name": "Julia 1.9.4",
   "language": "julia",
   "name": "julia-1.9"
  },
  "language_info": {
   "file_extension": ".jl",
   "mimetype": "application/julia",
   "name": "julia",
   "version": "1.9.4"
  }
 },
 "nbformat": 4,
 "nbformat_minor": 4
}
