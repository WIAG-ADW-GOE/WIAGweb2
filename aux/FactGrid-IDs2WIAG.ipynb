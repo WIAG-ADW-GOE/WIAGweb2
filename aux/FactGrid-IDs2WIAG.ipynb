{
 "cells": [
  {
   "cell_type": "markdown",
   "metadata": {},
   "source": [
    "# Import von WIAG-Daten in FactGrid\n",
    "Lies FactGrid-IDs in WIAG ein.  "
   ]
  },
  {
   "cell_type": "markdown",
   "metadata": {},
   "source": [
    "- Lies die aktuellen FQ-IDs aus WIAG ein. \n",
    "- Lies die aktuellen WIAG-IDs aus FactGrid ein.\n",
    "- Prüfe in Bezug auf die WIAG-ID auf doppelte Einträge in WIAG, in FactGrid und auf unterschiedliche Zuordnungen in WIAG und FactGrid\n",
    "- Entferne Einträge, die im FactGrid schon eine ID haben."
   ]
  },
  {
   "cell_type": "code",
   "execution_count": 1,
   "metadata": {},
   "outputs": [],
   "source": [
    "using DataFrames, CSV"
   ]
  },
  {
   "cell_type": "code",
   "execution_count": 2,
   "metadata": {},
   "outputs": [
    {
     "data": {
      "text/plain": [
       "\"C:\\\\Users\\\\georg\\\\Documents\\\\projekte-doc\\\\Forschungsdaten-GS\\\\data\\\\FactGrid\""
      ]
     },
     "execution_count": 2,
     "metadata": {},
     "output_type": "execute_result"
    }
   ],
   "source": [
    "input_path = \"C:\\\\Users\\\\georg\\\\Documents\\\\projekte-doc\\\\Forschungsdaten-GS\\\\data\\\\FactGrid\""
   ]
  },
  {
   "cell_type": "code",
   "execution_count": 3,
   "metadata": {},
   "outputs": [
    {
     "data": {
      "text/plain": [
       "\"C:\\\\Users\\\\georg\\\\Documents\\\\projekte-doc\\\\Forschungsdaten-GS\\\\data_sql\""
      ]
     },
     "execution_count": 3,
     "metadata": {},
     "output_type": "execute_result"
    }
   ],
   "source": [
    "output_path = \"C:\\\\Users\\\\georg\\\\Documents\\\\projekte-doc\\\\Forschungsdaten-GS\\\\data_sql\""
   ]
  },
  {
   "cell_type": "markdown",
   "metadata": {},
   "source": [
    "## Lies und prüfe die IDs aus FactGrid"
   ]
  },
  {
   "cell_type": "markdown",
   "metadata": {},
   "source": [
    "Frage IDs im FactGrid ab:\n",
    "\n",
    "\n",
    "``` sparql\n",
    "SELECT DISTINCT ?item ?itemLabel ?wiag\n",
    "\tWHERE\n",
    "\t{\n",
    "\t  ?item wdt:P601 ?wiag.\n",
    "\t  ?item wdt:P2 wd:Q7\n",
    "\t    SERVICE wikibase:label { bd:serviceParam wikibase:language \"[AUTO_LANGUAGE],en\". }\n",
    "\t}    \n",
    "\n",
    "```"
   ]
  },
  {
   "cell_type": "code",
   "execution_count": 39,
   "metadata": {},
   "outputs": [
    {
     "data": {
      "text/plain": [
       "\"C:\\\\Users\\\\georg\\\\Documents\\\\projekte-doc\\\\Forschungsdaten-GS\\\\data\\\\FactGrid\\\\FactGrid-IDs_2023-12-18.tsv\""
      ]
     },
     "execution_count": 39,
     "metadata": {},
     "output_type": "execute_result"
    }
   ],
   "source": [
    "input_file = \"FactGrid-IDs_2023-12-18.tsv\"\n",
    "input_path_file = joinpath(input_path, input_file)"
   ]
  },
  {
   "cell_type": "code",
   "execution_count": 40,
   "metadata": {},
   "outputs": [
    {
     "data": {
      "text/plain": [
       "5509"
      ]
     },
     "execution_count": 40,
     "metadata": {},
     "output_type": "execute_result"
    }
   ],
   "source": [
    "df_fq_ids = CSV.read(input_path_file, DataFrame, delim = \"\\t\");\n",
    "nrow(df_fq_ids)"
   ]
  },
  {
   "cell_type": "code",
   "execution_count": 41,
   "metadata": {},
   "outputs": [
    {
     "data": {
      "text/html": [
       "<div><div style = \"float: left;\"><span>6×3 DataFrame</span></div><div style = \"clear: both;\"></div></div><div class = \"data-frame\" style = \"overflow-x: scroll;\"><table class = \"data-frame\" style = \"margin-bottom: 6px;\"><thead><tr class = \"header\"><th class = \"rowNumber\" style = \"font-weight: bold; text-align: right;\">Row</th><th style = \"text-align: left;\">item</th><th style = \"text-align: left;\">itemLabel</th><th style = \"text-align: left;\">wiag</th></tr><tr class = \"subheader headerLastRow\"><th class = \"rowNumber\" style = \"font-weight: bold; text-align: right;\"></th><th title = \"String\" style = \"text-align: left;\">String</th><th title = \"String\" style = \"text-align: left;\">String</th><th title = \"String31\" style = \"text-align: left;\">String31</th></tr></thead><tbody><tr><td class = \"rowNumber\" style = \"font-weight: bold; text-align: right;\">1</td><td style = \"text-align: left;\">https://database.factgrid.de/entity/Q646336</td><td style = \"text-align: left;\">Johann Adolf Freiherr von Fürstenberg</td><td style = \"text-align: left;\">WIAG-Pers-CANON-10948-001</td></tr><tr><td class = \"rowNumber\" style = \"font-weight: bold; text-align: right;\">2</td><td style = \"text-align: left;\">https://database.factgrid.de/entity/Q646337</td><td style = \"text-align: left;\">Adolf Heinrich von Droste zu Vischering</td><td style = \"text-align: left;\">WIAG-Pers-CANON-50828-001</td></tr><tr><td class = \"rowNumber\" style = \"font-weight: bold; text-align: right;\">3</td><td style = \"text-align: left;\">https://database.factgrid.de/entity/Q646342</td><td style = \"text-align: left;\">Werner Edler von Plotho</td><td style = \"text-align: left;\">WIAG-Pers-CANON-12623-001</td></tr><tr><td class = \"rowNumber\" style = \"font-weight: bold; text-align: right;\">4</td><td style = \"text-align: left;\">https://database.factgrid.de/entity/Q646343</td><td style = \"text-align: left;\">Otto  Wackerbarth</td><td style = \"text-align: left;\">WIAG-Pers-CANON-19163-001</td></tr><tr><td class = \"rowNumber\" style = \"font-weight: bold; text-align: right;\">5</td><td style = \"text-align: left;\">https://database.factgrid.de/entity/Q646340</td><td style = \"text-align: left;\">Johann Werner von Leerodt</td><td style = \"text-align: left;\">WIAG-Pers-CANON-16673-001</td></tr><tr><td class = \"rowNumber\" style = \"font-weight: bold; text-align: right;\">6</td><td style = \"text-align: left;\">https://database.factgrid.de/entity/Q646341</td><td style = \"text-align: left;\">Franz Bernhard Graf von Nassau-Hadamar</td><td style = \"text-align: left;\">WIAG-Pers-CANON-15625-001</td></tr></tbody></table></div>"
      ],
      "text/latex": [
       "\\begin{tabular}{r|ccc}\n",
       "\t& item & itemLabel & \\\\\n",
       "\t\\hline\n",
       "\t& String & String & \\\\\n",
       "\t\\hline\n",
       "\t1 & https://database.factgrid.de/entity/Q646336 & Johann Adolf Freiherr von Fürstenberg & $\\dots$ \\\\\n",
       "\t2 & https://database.factgrid.de/entity/Q646337 & Adolf Heinrich von Droste zu Vischering & $\\dots$ \\\\\n",
       "\t3 & https://database.factgrid.de/entity/Q646342 & Werner Edler von Plotho & $\\dots$ \\\\\n",
       "\t4 & https://database.factgrid.de/entity/Q646343 & Otto  Wackerbarth & $\\dots$ \\\\\n",
       "\t5 & https://database.factgrid.de/entity/Q646340 & Johann Werner von Leerodt & $\\dots$ \\\\\n",
       "\t6 & https://database.factgrid.de/entity/Q646341 & Franz Bernhard Graf von Nassau-Hadamar & $\\dots$ \\\\\n",
       "\\end{tabular}\n"
      ],
      "text/plain": [
       "\u001b[1m6×3 DataFrame\u001b[0m\n",
       "\u001b[1m Row \u001b[0m│\u001b[1m item                              \u001b[0m\u001b[1m itemLabel                         \u001b[0m\u001b[1m w\u001b[0m ⋯\n",
       "     │\u001b[90m String                            \u001b[0m\u001b[90m String                            \u001b[0m\u001b[90m S\u001b[0m ⋯\n",
       "─────┼──────────────────────────────────────────────────────────────────────────\n",
       "   1 │ https://database.factgrid.de/ent…  Johann Adolf Freiherr von Fürste…  W ⋯\n",
       "   2 │ https://database.factgrid.de/ent…  Adolf Heinrich von Droste zu Vis…  W\n",
       "   3 │ https://database.factgrid.de/ent…  Werner Edler von Plotho            W\n",
       "   4 │ https://database.factgrid.de/ent…  Otto  Wackerbarth                  W\n",
       "   5 │ https://database.factgrid.de/ent…  Johann Werner von Leerodt          W ⋯\n",
       "   6 │ https://database.factgrid.de/ent…  Franz Bernhard Graf von Nassau-H…  W\n",
       "\u001b[36m                                                                1 column omitted\u001b[0m"
      ]
     },
     "execution_count": 41,
     "metadata": {},
     "output_type": "execute_result"
    }
   ],
   "source": [
    "df_fq_ids[17:22, :]"
   ]
  },
  {
   "cell_type": "code",
   "execution_count": 42,
   "metadata": {},
   "outputs": [
    {
     "data": {
      "text/plain": [
       "find_fq_id (generic function with 1 method)"
      ]
     },
     "execution_count": 42,
     "metadata": {},
     "output_type": "execute_result"
    }
   ],
   "source": [
    "find_fq_id(s) = last(split(s, \"/\"))"
   ]
  },
  {
   "cell_type": "code",
   "execution_count": 43,
   "metadata": {},
   "outputs": [],
   "source": [
    "transform!(df_fq_ids, :item => ByRow(find_fq_id) => :q_id);"
   ]
  },
  {
   "cell_type": "markdown",
   "metadata": {},
   "source": [
    "Finde doppelte Einträge"
   ]
  },
  {
   "cell_type": "code",
   "execution_count": 44,
   "metadata": {},
   "outputs": [
    {
     "data": {
      "text/plain": [
       "(5509,)"
      ]
     },
     "execution_count": 44,
     "metadata": {},
     "output_type": "execute_result"
    }
   ],
   "source": [
    "df_fq_m = groupby(df_fq_ids, :wiag);\n",
    "size(df_fq_m)"
   ]
  },
  {
   "cell_type": "code",
   "execution_count": 45,
   "metadata": {},
   "outputs": [],
   "source": [
    "df_fq_m_count = combine(df_fq_m, nrow => :n);"
   ]
  },
  {
   "cell_type": "code",
   "execution_count": 46,
   "metadata": {},
   "outputs": [
    {
     "data": {
      "text/html": [
       "<div><div style = \"float: left;\"><span>0×2 DataFrame</span></div><div style = \"clear: both;\"></div></div><div class = \"data-frame\" style = \"overflow-x: scroll;\"><table class = \"data-frame\" style = \"margin-bottom: 6px;\"><thead><tr class = \"header\"><th class = \"rowNumber\" style = \"font-weight: bold; text-align: right;\">Row</th><th style = \"text-align: left;\">wiag</th><th style = \"text-align: left;\">n</th></tr><tr class = \"subheader headerLastRow\"><th class = \"rowNumber\" style = \"font-weight: bold; text-align: right;\"></th><th title = \"String31\" style = \"text-align: left;\">String31</th><th title = \"Int64\" style = \"text-align: left;\">Int64</th></tr></thead><tbody></tbody></table></div>"
      ],
      "text/latex": [
       "\\begin{tabular}{r|cc}\n",
       "\t& wiag & n\\\\\n",
       "\t\\hline\n",
       "\t& String31 & Int64\\\\\n",
       "\t\\hline\n",
       "\\end{tabular}\n"
      ],
      "text/plain": [
       "\u001b[1m0×2 DataFrame\u001b[0m\n",
       "\u001b[1m Row \u001b[0m│\u001b[1m wiag     \u001b[0m\u001b[1m n     \u001b[0m\n",
       "     │\u001b[90m String31 \u001b[0m\u001b[90m Int64 \u001b[0m\n",
       "─────┴─────────────────"
      ]
     },
     "execution_count": 46,
     "metadata": {},
     "output_type": "execute_result"
    }
   ],
   "source": [
    "df_fq_m_2 = subset(df_fq_m_count, :n => ByRow(n -> n > 1))"
   ]
  },
  {
   "cell_type": "markdown",
   "metadata": {},
   "source": [
    "Falls es Mehrfacheinträge gibt: Erhalte mehr Informationen durch einen Filter für diese Einträge"
   ]
  },
  {
   "cell_type": "code",
   "execution_count": 21,
   "metadata": {},
   "outputs": [
    {
     "data": {
      "text/plain": [
       "2-element Vector{String}:\n",
       " \"WIAG-Pers-CANON-11582-001\"\n",
       " \"WIAG-Pers-CANON-15754-001\""
      ]
     },
     "execution_count": 21,
     "metadata": {},
     "output_type": "execute_result"
    }
   ],
   "source": [
    "wiag_mult = [\n",
    "    \"WIAG-Pers-CANON-11582-001\", \n",
    "    \"WIAG-Pers-CANON-15754-001\"\n",
    "]"
   ]
  },
  {
   "cell_type": "code",
   "execution_count": 22,
   "metadata": {},
   "outputs": [
    {
     "data": {
      "text/html": [
       "<div><div style = \"float: left;\"><span>2×4 DataFrame</span></div><div style = \"clear: both;\"></div></div><div class = \"data-frame\" style = \"overflow-x: scroll;\"><table class = \"data-frame\" style = \"margin-bottom: 6px;\"><thead><tr class = \"header\"><th class = \"rowNumber\" style = \"font-weight: bold; text-align: right;\">Row</th><th style = \"text-align: left;\">item</th><th style = \"text-align: left;\">itemLabel</th><th style = \"text-align: left;\">wiag</th><th style = \"text-align: left;\">factgrid_id</th></tr><tr class = \"subheader headerLastRow\"><th class = \"rowNumber\" style = \"font-weight: bold; text-align: right;\"></th><th title = \"String\" style = \"text-align: left;\">String</th><th title = \"String\" style = \"text-align: left;\">String</th><th title = \"String31\" style = \"text-align: left;\">String31</th><th title = \"SubString{String}\" style = \"text-align: left;\">SubStrin…</th></tr></thead><tbody><tr><td class = \"rowNumber\" style = \"font-weight: bold; text-align: right;\">1</td><td style = \"text-align: left;\">https://database.factgrid.de/entity/Q509641</td><td style = \"text-align: left;\">Franz Christoph Anton von Hohenzollern-Sigmaringen</td><td style = \"text-align: left;\">WIAG-Pers-CANON-15754-001</td><td style = \"text-align: left;\">Q509641</td></tr><tr><td class = \"rowNumber\" style = \"font-weight: bold; text-align: right;\">2</td><td style = \"text-align: left;\">https://database.factgrid.de/entity/Q509010</td><td style = \"text-align: left;\">Hermann von Baden-Baden</td><td style = \"text-align: left;\">WIAG-Pers-CANON-11582-001</td><td style = \"text-align: left;\">Q509010</td></tr></tbody></table></div>"
      ],
      "text/latex": [
       "\\begin{tabular}{r|ccc}\n",
       "\t& item & itemLabel & \\\\\n",
       "\t\\hline\n",
       "\t& String & String & \\\\\n",
       "\t\\hline\n",
       "\t1 & https://database.factgrid.de/entity/Q509641 & Franz Christoph Anton von Hohenzollern-Sigmaringen & $\\dots$ \\\\\n",
       "\t2 & https://database.factgrid.de/entity/Q509010 & Hermann von Baden-Baden & $\\dots$ \\\\\n",
       "\\end{tabular}\n"
      ],
      "text/plain": [
       "\u001b[1m2×4 DataFrame\u001b[0m\n",
       "\u001b[1m Row \u001b[0m│\u001b[1m item                              \u001b[0m\u001b[1m itemLabel                         \u001b[0m\u001b[1m w\u001b[0m ⋯\n",
       "     │\u001b[90m String                            \u001b[0m\u001b[90m String                            \u001b[0m\u001b[90m S\u001b[0m ⋯\n",
       "─────┼──────────────────────────────────────────────────────────────────────────\n",
       "   1 │ https://database.factgrid.de/ent…  Franz Christoph Anton von Hohenz…  W ⋯\n",
       "   2 │ https://database.factgrid.de/ent…  Hermann von Baden-Baden            W\n",
       "\u001b[36m                                                               2 columns omitted\u001b[0m"
      ]
     },
     "execution_count": 22,
     "metadata": {},
     "output_type": "execute_result"
    }
   ],
   "source": [
    "crit_wiag(s) = s in wiag_mult\n",
    "subset(df_fq_ids, :wiag => ByRow(crit_wiag))"
   ]
  },
  {
   "cell_type": "markdown",
   "metadata": {},
   "source": [
    "Übernimm nur Zeilen ohne die jeweils überzähligen FactGrid-IDs. Die Filterliste enthält IDs, die **nicht** in WIAG übernommen werden sollen."
   ]
  },
  {
   "cell_type": "code",
   "execution_count": 24,
   "metadata": {},
   "outputs": [
    {
     "data": {
      "text/plain": [
       "crit_fq (generic function with 1 method)"
      ]
     },
     "execution_count": 24,
     "metadata": {},
     "output_type": "execute_result"
    }
   ],
   "source": [
    "crit_fq(s) = s in [\"Q646386\", \"Q646394\"]"
   ]
  },
  {
   "cell_type": "code",
   "execution_count": 47,
   "metadata": {},
   "outputs": [
    {
     "data": {
      "text/plain": [
       "5509"
      ]
     },
     "execution_count": 47,
     "metadata": {},
     "output_type": "execute_result"
    }
   ],
   "source": [
    "df_fq_ids = subset(df_fq_ids, :q_id => ByRow(!crit_fq));\n",
    "nrow(df_fq_ids)"
   ]
  },
  {
   "cell_type": "code",
   "execution_count": 47,
   "metadata": {},
   "outputs": [
    {
     "data": {
      "text/html": [
       "<div><div style = \"float: left;\"><span>2×4 DataFrame</span></div><div style = \"clear: both;\"></div></div><div class = \"data-frame\" style = \"overflow-x: scroll;\"><table class = \"data-frame\" style = \"margin-bottom: 6px;\"><thead><tr class = \"header\"><th class = \"rowNumber\" style = \"font-weight: bold; text-align: right;\">Row</th><th style = \"text-align: left;\">item</th><th style = \"text-align: left;\">itemLabel</th><th style = \"text-align: left;\">wiag</th><th style = \"text-align: left;\">factgrid_id</th></tr><tr class = \"subheader headerLastRow\"><th class = \"rowNumber\" style = \"font-weight: bold; text-align: right;\"></th><th title = \"String\" style = \"text-align: left;\">String</th><th title = \"String\" style = \"text-align: left;\">String</th><th title = \"String31\" style = \"text-align: left;\">String31</th><th title = \"SubString{String}\" style = \"text-align: left;\">SubStrin…</th></tr></thead><tbody><tr><td class = \"rowNumber\" style = \"font-weight: bold; text-align: right;\">1</td><td style = \"text-align: left;\">https://database.factgrid.de/entity/Q509010</td><td style = \"text-align: left;\">Hermann of Baden-Baden</td><td style = \"text-align: left;\">WIAG-Pers-CANON-11582-001</td><td style = \"text-align: left;\">Q509010</td></tr><tr><td class = \"rowNumber\" style = \"font-weight: bold; text-align: right;\">2</td><td style = \"text-align: left;\">https://database.factgrid.de/entity/Q509641</td><td style = \"text-align: left;\">Francis Christopher Anton, Count of Hohenzollern-Sigmaringen</td><td style = \"text-align: left;\">WIAG-Pers-CANON-15754-001</td><td style = \"text-align: left;\">Q509641</td></tr></tbody></table></div>"
      ],
      "text/latex": [
       "\\begin{tabular}{r|ccc}\n",
       "\t& item & itemLabel & \\\\\n",
       "\t\\hline\n",
       "\t& String & String & \\\\\n",
       "\t\\hline\n",
       "\t1 & https://database.factgrid.de/entity/Q509010 & Hermann of Baden-Baden & $\\dots$ \\\\\n",
       "\t2 & https://database.factgrid.de/entity/Q509641 & Francis Christopher Anton, Count of Hohenzollern-Sigmaringen & $\\dots$ \\\\\n",
       "\\end{tabular}\n"
      ],
      "text/plain": [
       "\u001b[1m2×4 DataFrame\u001b[0m\n",
       "\u001b[1m Row \u001b[0m│\u001b[1m item                              \u001b[0m\u001b[1m itemLabel                         \u001b[0m\u001b[1m w\u001b[0m ⋯\n",
       "     │\u001b[90m String                            \u001b[0m\u001b[90m String                            \u001b[0m\u001b[90m S\u001b[0m ⋯\n",
       "─────┼──────────────────────────────────────────────────────────────────────────\n",
       "   1 │ https://database.factgrid.de/ent…  Hermann of Baden-Baden             W ⋯\n",
       "   2 │ https://database.factgrid.de/ent…  Francis Christopher Anton, Count…  W\n",
       "\u001b[36m                                                               2 columns omitted\u001b[0m"
      ]
     },
     "execution_count": 47,
     "metadata": {},
     "output_type": "execute_result"
    }
   ],
   "source": [
    "subset(df_fq_ids, :wiag => ByRow(crit_wiag))"
   ]
  },
  {
   "cell_type": "markdown",
   "metadata": {},
   "source": [
    "## Lies und prüfe die FactGrid-IDs aus WIAG"
   ]
  },
  {
   "cell_type": "markdown",
   "metadata": {},
   "source": [
    "Exportiere Personendaten aus WIAG: \"Export\"/\"CSV Personendaten\"\n",
    "Daten: LIVE 2023-12-18 12:20"
   ]
  },
  {
   "cell_type": "code",
   "execution_count": 48,
   "metadata": {},
   "outputs": [
    {
     "data": {
      "text/plain": [
       "\"C:\\\\Users\\\\georg\\\\Documents\\\\projekte-doc\\\\Forschungsdaten-GS\\\\data\\\\FactGrid\\\\WIAG-can_2023-12-18.csv\""
      ]
     },
     "execution_count": 48,
     "metadata": {},
     "output_type": "execute_result"
    }
   ],
   "source": [
    "input_file = \"WIAG-can_2023-12-18.csv\"\n",
    "input_path_file = joinpath(input_path, input_file)"
   ]
  },
  {
   "cell_type": "code",
   "execution_count": 49,
   "metadata": {},
   "outputs": [
    {
     "data": {
      "text/plain": [
       "15145"
      ]
     },
     "execution_count": 49,
     "metadata": {},
     "output_type": "execute_result"
    }
   ],
   "source": [
    "df_p = CSV.read(input_path_file, DataFrame);\n",
    "nrow(df_p)"
   ]
  },
  {
   "cell_type": "code",
   "execution_count": 50,
   "metadata": {},
   "outputs": [],
   "source": [
    "df_p_fq = select(df_p, [:id, :FactGrid_ID, :corpus, :displayname]);"
   ]
  },
  {
   "cell_type": "markdown",
   "metadata": {},
   "source": [
    "## Vergleiche die beiden Quellen"
   ]
  },
  {
   "cell_type": "code",
   "execution_count": 51,
   "metadata": {},
   "outputs": [
    {
     "data": {
      "text/plain": [
       "19307"
      ]
     },
     "execution_count": 51,
     "metadata": {},
     "output_type": "execute_result"
    }
   ],
   "source": [
    "df_fq = outerjoin(df_p_fq, df_fq_ids, on = :id => :wiag);\n",
    "nrow(df_fq)"
   ]
  },
  {
   "cell_type": "markdown",
   "metadata": {},
   "source": [
    "Die Zahl ist größer als die Zahl der Einträge in `df_p_fq` aus WIAG, weil in der Liste aus FactGrid die Bischöfe auch enthalten sind."
   ]
  },
  {
   "cell_type": "code",
   "execution_count": 52,
   "metadata": {},
   "outputs": [
    {
     "data": {
      "text/plain": [
       "7-element Vector{String}:\n",
       " \"id\"\n",
       " \"FactGrid_ID\"\n",
       " \"corpus\"\n",
       " \"displayname\"\n",
       " \"item\"\n",
       " \"itemLabel\"\n",
       " \"q_id\""
      ]
     },
     "execution_count": 52,
     "metadata": {},
     "output_type": "execute_result"
    }
   ],
   "source": [
    "names(df_fq)"
   ]
  },
  {
   "cell_type": "markdown",
   "metadata": {},
   "source": [
    "Einträge mit FactGrid-ID in WIAG aber ohne Eintrag in FactGrid"
   ]
  },
  {
   "cell_type": "code",
   "execution_count": 53,
   "metadata": {},
   "outputs": [
    {
     "data": {
      "text/plain": [
       "a_mg_b (generic function with 1 method)"
      ]
     },
     "execution_count": 53,
     "metadata": {},
     "output_type": "execute_result"
    }
   ],
   "source": [
    "a_mg_b(a, b) = !ismissing(a) && ismissing(b)"
   ]
  },
  {
   "cell_type": "code",
   "execution_count": 54,
   "metadata": {},
   "outputs": [
    {
     "data": {
      "text/plain": [
       "0"
      ]
     },
     "execution_count": 54,
     "metadata": {},
     "output_type": "execute_result"
    }
   ],
   "source": [
    "df_p_only = subset(df_fq, [:FactGrid_ID, :q_id] => ByRow(a_mg_b));\n",
    "nrow(df_p_only)"
   ]
  },
  {
   "cell_type": "markdown",
   "metadata": {},
   "source": [
    "Einträge mit unterschiedlichen Werten für die FactGrid-ID"
   ]
  },
  {
   "cell_type": "code",
   "execution_count": 55,
   "metadata": {},
   "outputs": [
    {
     "data": {
      "text/plain": [
       "missing_or_equal (generic function with 1 method)"
      ]
     },
     "execution_count": 55,
     "metadata": {},
     "output_type": "execute_result"
    }
   ],
   "source": [
    "missing_or_equal(a, b) = ismissing(a) || ismissing(b) || a == b"
   ]
  },
  {
   "cell_type": "code",
   "execution_count": 57,
   "metadata": {},
   "outputs": [
    {
     "data": {
      "text/plain": [
       "0"
      ]
     },
     "execution_count": 57,
     "metadata": {},
     "output_type": "execute_result"
    }
   ],
   "source": [
    "df_diff = subset(df_fq, [:FactGrid_ID, :q_id] => ByRow(!missing_or_equal));\n",
    "nrow(df_diff)"
   ]
  },
  {
   "cell_type": "markdown",
   "metadata": {},
   "source": [
    "Sortiere die Bischöfe wieder aus. (Nach der Prüfung auf ungleiche IDs!) "
   ]
  },
  {
   "cell_type": "code",
   "execution_count": 75,
   "metadata": {},
   "outputs": [
    {
     "data": {
      "text/plain": [
       "is_gatz_id (generic function with 1 method)"
      ]
     },
     "execution_count": 75,
     "metadata": {},
     "output_type": "execute_result"
    }
   ],
   "source": [
    "is_gatz_id(s) = occursin(\"EPISCGatz\", s)"
   ]
  },
  {
   "cell_type": "code",
   "execution_count": 77,
   "metadata": {},
   "outputs": [
    {
     "data": {
      "text/plain": [
       "14143"
      ]
     },
     "execution_count": 77,
     "metadata": {},
     "output_type": "execute_result"
    }
   ],
   "source": [
    "subset!(df_fq, :id => ByRow(!is_gatz_id))\n",
    "nrow(df_fq)"
   ]
  },
  {
   "cell_type": "markdown",
   "metadata": {},
   "source": [
    "Zahl der neu einzutragenden FactGrid-IDs: Einträge mit einer ID im FactGrid, aber nicht in WIAG"
   ]
  },
  {
   "cell_type": "code",
   "execution_count": 79,
   "metadata": {},
   "outputs": [
    {
     "data": {
      "text/plain": [
       "82"
      ]
     },
     "execution_count": 79,
     "metadata": {},
     "output_type": "execute_result"
    }
   ],
   "source": [
    "df_insert = subset(df_fq, [:q_id, :FactGrid_ID] => ByRow(a_mg_b));\n",
    "nrow(df_insert)"
   ]
  },
  {
   "cell_type": "markdown",
   "metadata": {},
   "source": [
    "Insert Statement\n",
    "``` sql\n",
    "INSERT INTO url_external (item_id, value, authority_id)\n",
    "\t    SELECT item_id, 'Q648993', 42 FROM item_corpus\n",
    "\t    WHERE id_public = \"WIAG-Pers-EPISCGatz-02525-001\";\n",
    "```"
   ]
  },
  {
   "cell_type": "code",
   "execution_count": 80,
   "metadata": {},
   "outputs": [
    {
     "data": {
      "text/plain": [
       "make_insert_stmt (generic function with 1 method)"
      ]
     },
     "execution_count": 80,
     "metadata": {},
     "output_type": "execute_result"
    }
   ],
   "source": [
    "function make_insert_stmt(fq_id, wiag_id)\n",
    "    return \"\"\"\n",
    "    INSERT INTO url_external (item_id, value, authority_id)\n",
    "    SELECT item_id, '$(fq_id)', 42 FROM item_corpus\n",
    "    WHERE id_public = \"$(wiag_id)\";\n",
    "    \"\"\"\n",
    "end"
   ]
  },
  {
   "cell_type": "markdown",
   "metadata": {},
   "source": [
    "Schreibe eine Datei mit SQL-Statements, mit der die FactGrid IDs in die Tabelle `url_external` eingelesen werden können."
   ]
  },
  {
   "cell_type": "code",
   "execution_count": 81,
   "metadata": {},
   "outputs": [
    {
     "data": {
      "text/plain": [
       "\"C:\\\\Users\\\\georg\\\\Documents\\\\projekte-doc\\\\Forschungsdaten-GS\\\\data_sql\\\\insert-uext-can_2023-12-18.sql\""
      ]
     },
     "execution_count": 81,
     "metadata": {},
     "output_type": "execute_result"
    }
   ],
   "source": [
    "output_file = \"insert-uext-can_2023-12-18.sql\"\n",
    "output_file_path = joinpath(output_path, output_file)"
   ]
  },
  {
   "cell_type": "code",
   "execution_count": 83,
   "metadata": {},
   "outputs": [],
   "source": [
    "open(output_file_path, \"w\") do out\n",
    "    println(out, \"LOCK TABLES url_external WRITE, item_corpus WRITE;\")\n",
    "    for row in eachrow(df_insert)\n",
    "        println(out, make_insert_stmt(row[:q_id], row[:id]))\n",
    "    end\n",
    "    println(out, \"UNLOCK TABLES;\")\n",
    "end"
   ]
  },
  {
   "cell_type": "markdown",
   "metadata": {},
   "source": [
    "\n",
    "Lies die entstandene Datei in die Datenbank ein."
   ]
  },
  {
   "cell_type": "code",
   "execution_count": null,
   "metadata": {},
   "outputs": [],
   "source": []
  },
  {
   "cell_type": "code",
   "execution_count": null,
   "metadata": {},
   "outputs": [],
   "source": []
  },
  {
   "cell_type": "code",
   "execution_count": null,
   "metadata": {},
   "outputs": [],
   "source": []
  },
  {
   "cell_type": "code",
   "execution_count": null,
   "metadata": {},
   "outputs": [],
   "source": []
  },
  {
   "cell_type": "code",
   "execution_count": null,
   "metadata": {},
   "outputs": [],
   "source": []
  },
  {
   "cell_type": "code",
   "execution_count": null,
   "metadata": {},
   "outputs": [],
   "source": []
  }
 ],
 "metadata": {
  "kernelspec": {
   "display_name": "Julia 1.8.2",
   "language": "julia",
   "name": "julia-1.8"
  },
  "language_info": {
   "file_extension": ".jl",
   "mimetype": "application/julia",
   "name": "julia",
   "version": "1.8.2"
  }
 },
 "nbformat": 4,
 "nbformat_minor": 4
}
